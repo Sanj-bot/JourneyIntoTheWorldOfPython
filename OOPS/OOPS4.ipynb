{
 "cells": [
  {
   "cell_type": "markdown",
   "metadata": {
    "colab_type": "text",
    "id": "view-in-github"
   },
   "source": [
    "<a href=\"https://colab.research.google.com/github/Sanj-bot/JourneyIntoTheWorldOfPython/blob/main/OOPS4.ipynb\" target=\"_parent\"><img src=\"https://colab.research.google.com/assets/colab-badge.svg\" alt=\"Open In Colab\"/></a>"
   ]
  },
  {
   "cell_type": "code",
   "execution_count": null,
   "metadata": {
    "id": "YGcIww09Swe8"
   },
   "outputs": [],
   "source": [
    "#Inheritance"
   ]
  },
  {
   "cell_type": "code",
   "execution_count": null,
   "metadata": {
    "id": "Va8RCoqnWSH7"
   },
   "outputs": [],
   "source": []
  },
  {
   "cell_type": "markdown",
   "metadata": {
    "id": "ksq3oa54VuxO"
   },
   "source": [
    "Inheritance\n"
   ]
  },
  {
   "cell_type": "code",
   "execution_count": null,
   "metadata": {
    "colab": {
     "base_uri": "https://localhost:8080/"
    },
    "id": "uxTA2CAmWTZ4",
    "outputId": "eeddbef1-9186-4b03-9e34-e312a157124a"
   },
   "outputs": [
    {
     "name": "stdout",
     "output_type": "stream",
     "text": [
      "Sue.Smit@email.com\n",
      "--> TestEmployee\n"
     ]
    }
   ],
   "source": [
    "class Employee:\n",
    "    raise_amt=1.04\n",
    "    def __init__(self, first, last, pay):\n",
    "        self.first=first\n",
    "        self.last=last\n",
    "        self.email=first+'.'+last+'@email.com'\n",
    "        self.pay=pay\n",
    "\n",
    "    def fullname(self):\n",
    "        return '{}{}'.format(self.first,self.last)\n",
    "    def apply_raise(self):\n",
    "        self.pay=int(self.pay*self.raise_amt)\n",
    "\n",
    "\n",
    "class Developer(Employee):\n",
    "  raise_amt=1.10\n",
    "\n",
    "  def __init__(self, first, last, pay,prog_lang):\n",
    "      super().__init__(first,last,pay)\n",
    "      self.prog_lang=prog_lang\n",
    "      # Employee.__init__(self,first,last,pay)\n",
    "\n",
    "\n",
    "\n",
    "class Manager(Employee):\n",
    "  def __init__(self, first, last, pay,employees=None):\n",
    "      super().__init__(first,last,pay)\n",
    "      if employees is None:\n",
    "        self.employees=[]\n",
    "      else:\n",
    "        self.employees=employees\n",
    "  def add_emp(self,emp):\n",
    "    if emp not in self.employees:\n",
    "      self.employees.append(emp)\n",
    "\n",
    "  def remove_emp(self,emp):\n",
    "    if emp  in self.employees:\n",
    "      self.employees.remove(emp)\n",
    "\n",
    "  def print_emps(self):\n",
    "    for emp in self.employees:\n",
    "      print('-->',emp.fullname())\n",
    "\n",
    "dev_1=Developer('Corey','Schafer',50000,'Python')\n",
    "dev_2=Developer('Test','Employee',60000,'Java')\n",
    "mgr_1=Manager('Sue','Smit',90000,[dev_1])\n",
    "print(mgr_1.email)\n",
    "mgr_1.remove_emp(dev_1)\n",
    "mgr_1.add_emp(dev_2)\n",
    "mgr_1.print_emps()\n"
   ]
  },
  {
   "cell_type": "code",
   "execution_count": null,
   "metadata": {
    "colab": {
     "base_uri": "https://localhost:8080/"
    },
    "id": "wpPd_8ZVWfYV",
    "outputId": "6b88d7f2-bfca-4580-bc99-86263f5f3c94"
   },
   "outputs": [
    {
     "name": "stdout",
     "output_type": "stream",
     "text": [
      "False\n"
     ]
    }
   ],
   "source": [
    "print(issubclass(Manager,Developer))\n"
   ]
  },
  {
   "cell_type": "code",
   "execution_count": null,
   "metadata": {
    "colab": {
     "base_uri": "https://localhost:8080/"
    },
    "id": "p44sOzVBWjwd",
    "outputId": "55ac9948-f841-41c8-ae69-b606e7b6e9df"
   },
   "outputs": [
    {
     "name": "stdout",
     "output_type": "stream",
     "text": [
      "Corey.Schafer@email.com\n",
      "Java\n"
     ]
    }
   ],
   "source": [
    "print(dev_1.email)\n",
    "print(dev_2.prog_lang)\n",
    "\n",
    "#print(help(Developer))"
   ]
  },
  {
   "cell_type": "code",
   "execution_count": null,
   "metadata": {
    "colab": {
     "base_uri": "https://localhost:8080/"
    },
    "id": "HAWjUUxJYPTv",
    "outputId": "fa96cd0c-81e7-480e-80f1-ba7000320e00"
   },
   "outputs": [
    {
     "name": "stdout",
     "output_type": "stream",
     "text": [
      "52000\n",
      "54080\n"
     ]
    }
   ],
   "source": [
    "print(dev_1.pay)\n",
    "dev_1.apply_raise()\n",
    "print(dev_1.pay)"
   ]
  },
  {
   "cell_type": "code",
   "execution_count": null,
   "metadata": {
    "id": "eBMSKu0fW5KB"
   },
   "outputs": [],
   "source": []
  }
 ],
 "metadata": {
  "colab": {
   "authorship_tag": "ABX9TyOksfSnd6ggoFM8j+RLOXsl",
   "include_colab_link": true,
   "provenance": []
  },
  "kernelspec": {
   "display_name": "Python 3 (ipykernel)",
   "language": "python",
   "name": "python3"
  },
  "language_info": {
   "codemirror_mode": {
    "name": "ipython",
    "version": 3
   },
   "file_extension": ".py",
   "mimetype": "text/x-python",
   "name": "python",
   "nbconvert_exporter": "python",
   "pygments_lexer": "ipython3",
   "version": "3.11.8"
  }
 },
 "nbformat": 4,
 "nbformat_minor": 4
}
