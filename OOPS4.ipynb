{
  "nbformat": 4,
  "nbformat_minor": 0,
  "metadata": {
    "colab": {
      "provenance": [],
      "authorship_tag": "ABX9TyPHwWQe5T6MiudEaTr3bAPv",
      "include_colab_link": true
    },
    "kernelspec": {
      "name": "python3",
      "display_name": "Python 3"
    },
    "language_info": {
      "name": "python"
    }
  },
  "cells": [
    {
      "cell_type": "markdown",
      "metadata": {
        "id": "view-in-github",
        "colab_type": "text"
      },
      "source": [
        "<a href=\"https://colab.research.google.com/github/Sanj-bot/JourneyIntoTheWorldOfPython/blob/main/OOPS4.ipynb\" target=\"_parent\"><img src=\"https://colab.research.google.com/assets/colab-badge.svg\" alt=\"Open In Colab\"/></a>"
      ]
    },
    {
      "cell_type": "code",
      "execution_count": null,
      "metadata": {
        "id": "YGcIww09Swe8"
      },
      "outputs": [],
      "source": []
    },
    {
      "cell_type": "code",
      "source": [],
      "metadata": {
        "id": "Va8RCoqnWSH7"
      },
      "execution_count": null,
      "outputs": []
    },
    {
      "cell_type": "markdown",
      "source": [
        "Inheritance\n"
      ],
      "metadata": {
        "id": "ksq3oa54VuxO"
      }
    },
    {
      "cell_type": "code",
      "source": [
        "class Employee:\n",
        "    raise_amt=1.04\n",
        "    def __init__(self, first, last, pay):\n",
        "        self.first=first\n",
        "        self.last=last\n",
        "        self.email=first+'.'+last+'@email.com'\n",
        "        self.pay=pay\n",
        "\n",
        "    def fullname(self):\n",
        "        return '{}{}'.format(self.first,self.last)\n",
        "    def apply_raise(self):\n",
        "        self.pay=int(self.pay*self.raise_amt)\n",
        "\n",
        "\n",
        "class Developer(Employee):\n",
        "  raise_amt=1.10\n",
        "\n",
        "  def __init__(self, first, last, pay,prog_lang):\n",
        "      super().__init__(first,last,pay)\n",
        "      self.prog_lang=prog_lang\n",
        "      # Employee.__init__(self,first,last,pay)\n",
        "\n",
        "\n",
        "\n",
        "class Manager(Employee):\n",
        "  def __init__(self, first, last, pay,employees=None):\n",
        "      super().__init__(first,last,pay)\n",
        "      if employees is None:\n",
        "        self.employees=[]\n",
        "      else:\n",
        "        self.employees=employees\n",
        "  def add_emp(self,emp):\n",
        "    if emp not in self.employees:\n",
        "      self.employees.append(emp)\n",
        "\n",
        "  def remove_emp(self,emp):\n",
        "    if emp  in self.employees:\n",
        "      self.employees.remove(emp)\n",
        "\n",
        "  def print_emps(self):\n",
        "    for emp in self.employees:\n",
        "      print('-->',emp.fullname())\n",
        "\n",
        "dev_1=Developer('Corey','Schafer',50000,'Python')\n",
        "dev_2=Developer('Test','Employee',60000,'Java')\n",
        "mgr_1=Manager('Sue','Smit',90000,[dev_1])\n",
        "print(mgr_1.email)\n",
        "mgr_1.remove_emp(dev_1)\n",
        "mgr_1.add_emp(dev_2)\n",
        "mgr_1.print_emps()\n"
      ],
      "metadata": {
        "colab": {
          "base_uri": "https://localhost:8080/"
        },
        "id": "uxTA2CAmWTZ4",
        "outputId": "eeddbef1-9186-4b03-9e34-e312a157124a"
      },
      "execution_count": 37,
      "outputs": [
        {
          "output_type": "stream",
          "name": "stdout",
          "text": [
            "Sue.Smit@email.com\n",
            "--> TestEmployee\n"
          ]
        }
      ]
    },
    {
      "cell_type": "code",
      "source": [
        "print(issubclass(Manager,Developer))\n"
      ],
      "metadata": {
        "colab": {
          "base_uri": "https://localhost:8080/"
        },
        "id": "wpPd_8ZVWfYV",
        "outputId": "6b88d7f2-bfca-4580-bc99-86263f5f3c94"
      },
      "execution_count": 38,
      "outputs": [
        {
          "output_type": "stream",
          "name": "stdout",
          "text": [
            "False\n"
          ]
        }
      ]
    },
    {
      "cell_type": "code",
      "source": [
        "print(dev_1.email)\n",
        "print(dev_2.prog_lang)\n",
        "\n",
        "#print(help(Developer))"
      ],
      "metadata": {
        "colab": {
          "base_uri": "https://localhost:8080/"
        },
        "id": "p44sOzVBWjwd",
        "outputId": "55ac9948-f841-41c8-ae69-b606e7b6e9df"
      },
      "execution_count": 22,
      "outputs": [
        {
          "output_type": "stream",
          "name": "stdout",
          "text": [
            "Corey.Schafer@email.com\n",
            "Java\n"
          ]
        }
      ]
    },
    {
      "cell_type": "code",
      "source": [
        "print(dev_1.pay)\n",
        "dev_1.apply_raise()\n",
        "print(dev_1.pay)"
      ],
      "metadata": {
        "colab": {
          "base_uri": "https://localhost:8080/"
        },
        "id": "HAWjUUxJYPTv",
        "outputId": "fa96cd0c-81e7-480e-80f1-ba7000320e00"
      },
      "execution_count": 18,
      "outputs": [
        {
          "output_type": "stream",
          "name": "stdout",
          "text": [
            "52000\n",
            "54080\n"
          ]
        }
      ]
    },
    {
      "cell_type": "code",
      "source": [],
      "metadata": {
        "id": "eBMSKu0fW5KB"
      },
      "execution_count": null,
      "outputs": []
    }
  ]
}