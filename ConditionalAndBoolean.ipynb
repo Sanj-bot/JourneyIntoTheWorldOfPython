{
  "nbformat": 4,
  "nbformat_minor": 0,
  "metadata": {
    "colab": {
      "provenance": [],
      "authorship_tag": "ABX9TyNrUtAM9i431fFVg0flZZrt",
      "include_colab_link": true
    },
    "kernelspec": {
      "name": "python3",
      "display_name": "Python 3"
    },
    "language_info": {
      "name": "python"
    }
  },
  "cells": [
    {
      "cell_type": "markdown",
      "metadata": {
        "id": "view-in-github",
        "colab_type": "text"
      },
      "source": [
        "<a href=\"https://colab.research.google.com/github/Sanj-bot/Python-Corey-Schafer/blob/main/ConditionalAndBoolean.ipynb\" target=\"_parent\"><img src=\"https://colab.research.google.com/assets/colab-badge.svg\" alt=\"Open In Colab\"/></a>"
      ]
    },
    {
      "cell_type": "code",
      "execution_count": null,
      "metadata": {
        "colab": {
          "base_uri": "https://localhost:8080/"
        },
        "id": "XP3iZce4jBw4",
        "outputId": "6945a560-9ee8-4c08-a9fd-e5d4b25becb9"
      },
      "outputs": [
        {
          "output_type": "stream",
          "name": "stdout",
          "text": [
            "Conditional was True\n"
          ]
        }
      ],
      "source": [
        "if True:\n",
        "  print('Conditional was True')"
      ]
    },
    {
      "cell_type": "code",
      "source": [
        "language='Python'\n",
        "if language=='Python':\n",
        "  print('Conditional was True')\n",
        "\n",
        "\n",
        "\n",
        "\n",
        "#equal ==\n",
        "#not equal !=\n",
        "#greater than >\n",
        "#less tahn   <\n",
        "#Greater or equal: >=\n",
        "#less or equal <=\n",
        "#object identity  is"
      ],
      "metadata": {
        "id": "xJaeOssQO7Op",
        "outputId": "a5d2808c-0424-47e5-d7b8-b087f6f1f163",
        "colab": {
          "base_uri": "https://localhost:8080/"
        }
      },
      "execution_count": null,
      "outputs": [
        {
          "output_type": "stream",
          "name": "stdout",
          "text": [
            "Conditional was True\n"
          ]
        }
      ]
    },
    {
      "cell_type": "code",
      "source": [
        "if language=='python':\n",
        "  print('Language is python')\n",
        "elif language=='Java':\n",
        "  print('Language is Java')\n",
        "else:\n",
        "  print('No match')"
      ],
      "metadata": {
        "id": "W_6PNVbIPoLq",
        "outputId": "52fe4447-f162-458c-aec8-ff13f62d587b",
        "colab": {
          "base_uri": "https://localhost:8080/"
        }
      },
      "execution_count": null,
      "outputs": [
        {
          "output_type": "stream",
          "name": "stdout",
          "text": [
            "No match\n"
          ]
        }
      ]
    },
    {
      "cell_type": "code",
      "source": [],
      "metadata": {
        "id": "95f5dCRGQUWF"
      },
      "execution_count": null,
      "outputs": []
    },
    {
      "cell_type": "code",
      "source": [
        "#Switch case is not present in python\n",
        "#boolean operations\n",
        "#and or, not\n",
        "user ='Admin'\n",
        "logged_in=True\n",
        "if user=='Admin' and logged_in:\n",
        "  print('Admin Page')\n",
        "else:\n",
        "    print(\"Bad Creds\")\n"
      ],
      "metadata": {
        "id": "efU5AysyDHfd",
        "outputId": "5c044293-4bdd-4c55-bb43-1a18627e7964",
        "colab": {
          "base_uri": "https://localhost:8080/"
        }
      },
      "execution_count": 2,
      "outputs": [
        {
          "output_type": "stream",
          "name": "stdout",
          "text": [
            "Admin Page\n"
          ]
        }
      ]
    },
    {
      "cell_type": "code",
      "source": [
        "logged_in=False\n",
        "if user=='Sanjay' or logged_in:\n",
        "  print(\"Sanjay is logged In\")\n",
        "else:\n",
        "  print(\"Sanjay may not be loggedIN\")"
      ],
      "metadata": {
        "id": "rbfn8KVMEAl7",
        "outputId": "557ffc98-de88-4c12-e792-76f06c42e1a5",
        "colab": {
          "base_uri": "https://localhost:8080/"
        }
      },
      "execution_count": 4,
      "outputs": [
        {
          "output_type": "stream",
          "name": "stdout",
          "text": [
            "Sanjay may not be loggedIN\n"
          ]
        }
      ]
    },
    {
      "cell_type": "code",
      "source": [
        "if not logged_in:\n",
        "  print('Please log In')\n",
        "else:\n",
        "    print('Welcome')\n",
        "\n"
      ],
      "metadata": {
        "id": "YSux32DuEYF6",
        "outputId": "4e10b005-bd7e-4f26-a86a-715f2ee6d045",
        "colab": {
          "base_uri": "https://localhost:8080/"
        }
      },
      "execution_count": 6,
      "outputs": [
        {
          "output_type": "stream",
          "name": "stdout",
          "text": [
            "Please log In\n"
          ]
        }
      ]
    },
    {
      "cell_type": "code",
      "source": [
        "a=[1,2,3]\n",
        "b=[1,2,3]\n",
        "\n",
        "print(id(a))\n",
        "print(id(b))\n",
        "print(a is b)"
      ],
      "metadata": {
        "id": "8SWgjQjbEzJg",
        "outputId": "0aa109b1-7260-4ee0-8e53-cc7753e9738a",
        "colab": {
          "base_uri": "https://localhost:8080/"
        }
      },
      "execution_count": 8,
      "outputs": [
        {
          "output_type": "stream",
          "name": "stdout",
          "text": [
            "140511871600896\n",
            "140511871771840\n",
            "False\n"
          ]
        }
      ]
    },
    {
      "cell_type": "code",
      "source": [
        "b=a\n",
        "print(a is b)"
      ],
      "metadata": {
        "id": "6PiApWCHE__v",
        "outputId": "8eda0177-04dd-40b1-fd84-e48232806757",
        "colab": {
          "base_uri": "https://localhost:8080/"
        }
      },
      "execution_count": 9,
      "outputs": [
        {
          "output_type": "stream",
          "name": "stdout",
          "text": [
            "True\n"
          ]
        }
      ]
    },
    {
      "cell_type": "code",
      "source": [
        "print(id(a)==id(b))"
      ],
      "metadata": {
        "id": "Shgh2HR_FILi",
        "outputId": "4580d0a1-7a24-484b-a221-170f583ecfdb",
        "colab": {
          "base_uri": "https://localhost:8080/"
        }
      },
      "execution_count": 10,
      "outputs": [
        {
          "output_type": "stream",
          "name": "stdout",
          "text": [
            "True\n"
          ]
        }
      ]
    },
    {
      "cell_type": "code",
      "source": [
        "#False Values:\n",
        " #false\n",
        " #None\n",
        " #Zero of any numeric type\n",
        " #Any empty sequence, for example, '',(),[]\n",
        " #Any empty mapping, for example, {}"
      ],
      "metadata": {
        "id": "1wTdqGx9FLXD"
      },
      "execution_count": null,
      "outputs": []
    },
    {
      "cell_type": "code",
      "source": [
        "condition=None\n",
        "if condition:\n",
        "  print(\"Eval to True\")\n",
        "else:\n",
        "  print(\"Eval to False\")"
      ],
      "metadata": {
        "id": "FtmkFh_NGLdt",
        "outputId": "76d099d7-aff5-483c-f10f-b2346a2b6694",
        "colab": {
          "base_uri": "https://localhost:8080/"
        }
      },
      "execution_count": 11,
      "outputs": [
        {
          "output_type": "stream",
          "name": "stdout",
          "text": [
            "Eval to False\n"
          ]
        }
      ]
    },
    {
      "cell_type": "code",
      "source": [
        "condition=''\n",
        "if condition:\n",
        "  print('Eval is True')\n",
        "else:\n",
        "  print(\"Eval is False\")"
      ],
      "metadata": {
        "id": "plVaGxfBGp-Q",
        "outputId": "09026c01-d957-4e5e-9837-e96e680a42c9",
        "colab": {
          "base_uri": "https://localhost:8080/"
        }
      },
      "execution_count": 12,
      "outputs": [
        {
          "output_type": "stream",
          "name": "stdout",
          "text": [
            "Eval is False\n"
          ]
        }
      ]
    },
    {
      "cell_type": "code",
      "source": [
        "condition={}\n",
        "if condition:\n",
        "  print('Eval is True')\n",
        "else:\n",
        "  print('Eval is False')"
      ],
      "metadata": {
        "id": "YIBkBQV6HKMR",
        "outputId": "bc3d6933-5b7b-4504-d5af-e441cec3bfa4",
        "colab": {
          "base_uri": "https://localhost:8080/"
        }
      },
      "execution_count": 13,
      "outputs": [
        {
          "output_type": "stream",
          "name": "stdout",
          "text": [
            "Eval is False\n"
          ]
        }
      ]
    },
    {
      "cell_type": "code",
      "source": [],
      "metadata": {
        "id": "i9EkTOIEHR9R"
      },
      "execution_count": null,
      "outputs": []
    }
  ]
}