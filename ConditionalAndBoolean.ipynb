{
  "nbformat": 4,
  "nbformat_minor": 0,
  "metadata": {
    "colab": {
      "provenance": [],
      "authorship_tag": "ABX9TyN//yHZAldNkfXxc63K/Ker",
      "include_colab_link": true
    },
    "kernelspec": {
      "name": "python3",
      "display_name": "Python 3"
    },
    "language_info": {
      "name": "python"
    }
  },
  "cells": [
    {
      "cell_type": "markdown",
      "metadata": {
        "id": "view-in-github",
        "colab_type": "text"
      },
      "source": [
        "<a href=\"https://colab.research.google.com/github/Sanj-bot/Python-Corey-Schafer/blob/main/ConditionalAndBoolean.ipynb\" target=\"_parent\"><img src=\"https://colab.research.google.com/assets/colab-badge.svg\" alt=\"Open In Colab\"/></a>"
      ]
    },
    {
      "cell_type": "code",
      "execution_count": null,
      "metadata": {
        "colab": {
          "base_uri": "https://localhost:8080/"
        },
        "id": "XP3iZce4jBw4",
        "outputId": "6945a560-9ee8-4c08-a9fd-e5d4b25becb9"
      },
      "outputs": [
        {
          "output_type": "stream",
          "name": "stdout",
          "text": [
            "Conditional was True\n"
          ]
        }
      ],
      "source": [
        "if True:\n",
        "  print('Conditional was True')"
      ]
    },
    {
      "cell_type": "code",
      "source": [
        "language='Python'\n",
        "if language=='Python':\n",
        "  print('Conditional was True')\n",
        "\n",
        "\n",
        "\n",
        "\n",
        "#equal ==\n",
        "#not equal !=\n",
        "#greater than >\n",
        "#less tahn   <\n",
        "#Greater or equal: >=\n",
        "#less or equal <=\n",
        "#object identity  is"
      ],
      "metadata": {
        "id": "xJaeOssQO7Op",
        "outputId": "a5d2808c-0424-47e5-d7b8-b087f6f1f163",
        "colab": {
          "base_uri": "https://localhost:8080/"
        }
      },
      "execution_count": 2,
      "outputs": [
        {
          "output_type": "stream",
          "name": "stdout",
          "text": [
            "Conditional was True\n"
          ]
        }
      ]
    },
    {
      "cell_type": "code",
      "source": [
        "if language=='python':\n",
        "  print('Language is python')\n",
        "elif language=='Java':\n",
        "  print('Language is Java')\n",
        "else:\n",
        "  print('No match')"
      ],
      "metadata": {
        "id": "W_6PNVbIPoLq",
        "outputId": "52fe4447-f162-458c-aec8-ff13f62d587b",
        "colab": {
          "base_uri": "https://localhost:8080/"
        }
      },
      "execution_count": 4,
      "outputs": [
        {
          "output_type": "stream",
          "name": "stdout",
          "text": [
            "No match\n"
          ]
        }
      ]
    },
    {
      "cell_type": "code",
      "source": [],
      "metadata": {
        "id": "95f5dCRGQUWF"
      },
      "execution_count": null,
      "outputs": []
    }
  ]
}