{
 "cells": [
  {
   "cell_type": "code",
   "execution_count": 1,
   "id": "a0b47da0-b054-44b3-872a-f12b164da059",
   "metadata": {},
   "outputs": [
    {
     "name": "stdout",
     "output_type": "stream",
     "text": [
      "2.0\n",
      "3.141592653589793\n"
     ]
    }
   ],
   "source": [
    "#automation is important\n",
    "#have a vision\n",
    "#module is a group of functions classes, and variables\n",
    "import math\n",
    "print(math.sqrt(4))\n",
    "print(math.pi)"
   ]
  },
  {
   "cell_type": "code",
   "execution_count": 4,
   "id": "3a73baa2-969c-4b92-93fe-dcc603e2f9e3",
   "metadata": {},
   "outputs": [
    {
     "name": "stdout",
     "output_type": "stream",
     "text": [
      "2.0\n",
      "4.69041575982343\n"
     ]
    }
   ],
   "source": [
    "import math\n",
    "print(math.sqrt(4))\n",
    "import math as m\n",
    "print(m.sqrt(22))"
   ]
  },
  {
   "cell_type": "code",
   "execution_count": 5,
   "id": "fe349e0f-3807-47fe-ab9a-9b2a67192d59",
   "metadata": {},
   "outputs": [],
   "source": [
    "from math import sqrt"
   ]
  },
  {
   "cell_type": "code",
   "execution_count": 6,
   "id": "a5605877-7381-4944-8cfd-4ae5baf90f54",
   "metadata": {},
   "outputs": [
    {
     "name": "stdout",
     "output_type": "stream",
     "text": [
      "2.0\n"
     ]
    }
   ],
   "source": [
    "from math import sqrt as sq\n",
    "print(sq(4))"
   ]
  },
  {
   "cell_type": "code",
   "execution_count": null,
   "id": "1b4a8257-75c7-41ae-9436-8cbfaf01e7a2",
   "metadata": {},
   "outputs": [],
   "source": [
    "#random module\n",
    "\"\"\"\n",
    "1. random: generate a float value\n",
    "    0<x<1\n",
    "\n",
    "\n",
    "\"\"\""
   ]
  },
  {
   "cell_type": "code",
   "execution_count": 8,
   "id": "0302bbc7-555b-4ec4-82b4-848fbb27901e",
   "metadata": {},
   "outputs": [
    {
     "name": "stdout",
     "output_type": "stream",
     "text": [
      "0.47950255099289907\n",
      "0.5852259415198033\n",
      "0.5075525058785997\n",
      "0.30241882076735394\n",
      "0.26607498348482894\n",
      "0.9056121016648657\n",
      "0.8545411626922366\n",
      "0.9591681274894648\n",
      "0.263509305141998\n",
      "0.2627976396585079\n"
     ]
    }
   ],
   "source": [
    "from random import *\n",
    "for i in range(10):\n",
    "    print(random())"
   ]
  },
  {
   "cell_type": "code",
   "execution_count": 11,
   "id": "367c10f8-3f8b-4039-8232-eee6ed5ec9c7",
   "metadata": {},
   "outputs": [
    {
     "data": {
      "text/plain": [
       "'\\nuniform(): generate a random float value in between given range\\n            \\n\\n'"
      ]
     },
     "execution_count": 11,
     "metadata": {},
     "output_type": "execute_result"
    }
   ],
   "source": [
    "\"\"\"\n",
    "uniform(): generate a random float value in between given range\n",
    "            \n",
    "\n",
    "\"\"\""
   ]
  },
  {
   "cell_type": "code",
   "execution_count": 51,
   "id": "d357d8f8-6f03-4186-be18-df23ca696548",
   "metadata": {},
   "outputs": [
    {
     "name": "stdout",
     "output_type": "stream",
     "text": [
      "9.176063431552105\n",
      "17.590481463991935\n",
      "21.25045561003756\n",
      "1.8853409448371257\n",
      "20.32788636541272\n",
      "14.01042633374445\n",
      "4.977231228494421\n",
      "10.124134842385105\n",
      "19.31898068635906\n",
      "8.006084170505183\n"
     ]
    }
   ],
   "source": [
    "for i in range(10):\n",
    "    print(uniform(1,22))"
   ]
  },
  {
   "cell_type": "code",
   "execution_count": null,
   "id": "42c3ae5d-f95a-4761-8eba-9b2e8844c177",
   "metadata": {},
   "outputs": [],
   "source": [
    "\"\"\"\n",
    "randint(begin,end): random int values\n",
    "\"\"\""
   ]
  },
  {
   "cell_type": "code",
   "execution_count": 57,
   "id": "8985165e-c7b4-4407-a1e1-dc60a017b31d",
   "metadata": {},
   "outputs": [
    {
     "name": "stdout",
     "output_type": "stream",
     "text": [
      "9\n",
      "10\n",
      "3\n",
      "4\n",
      "9\n",
      "4\n",
      "7\n",
      "3\n",
      "3\n",
      "1\n"
     ]
    }
   ],
   "source": [
    "for i in range(10):\n",
    "    print(randint(1,10))"
   ]
  },
  {
   "cell_type": "code",
   "execution_count": null,
   "id": "38112eb1-663a-48a5-b963-b898e054a82d",
   "metadata": {},
   "outputs": [],
   "source": [
    "\"\"\"\n",
    "randrange([start],stop,[step]): from begin to end-1\n",
    "\"\"\""
   ]
  },
  {
   "cell_type": "code",
   "execution_count": 58,
   "id": "c35baad6-1929-4425-977f-556a1a78dc8e",
   "metadata": {},
   "outputs": [
    {
     "name": "stdout",
     "output_type": "stream",
     "text": [
      "2\n",
      "2\n",
      "9\n",
      "8\n",
      "0\n",
      "5\n",
      "7\n",
      "1\n",
      "3\n",
      "3\n"
     ]
    }
   ],
   "source": [
    "for i in range(10):\n",
    "    print(randrange(10))#0 to 9"
   ]
  },
  {
   "cell_type": "code",
   "execution_count": 59,
   "id": "e4962671-b0bd-469e-9f6a-769261ccd7cd",
   "metadata": {},
   "outputs": [
    {
     "name": "stdout",
     "output_type": "stream",
     "text": [
      "1\n",
      "5\n",
      "7\n",
      "9\n",
      "1\n",
      "5\n",
      "9\n",
      "1\n",
      "3\n",
      "5\n"
     ]
    }
   ],
   "source": [
    "for i in range(10):\n",
    "    print(randrange(1,10,2))# from 1 to 0 with increment 2 (1,3,5,7,9) a random number generated"
   ]
  },
  {
   "cell_type": "code",
   "execution_count": null,
   "id": "79104cbc-e7e5-42d9-b8b5-df30ae3d02ae",
   "metadata": {},
   "outputs": [],
   "source": [
    "for i in range(10):\n",
    "    print(randrange(0,101,10) #from 0 to 100 with 10 increment(0,10,20,30,40,50,60,70,80,90,100)\n",
    "\n"
   ]
  },
  {
   "cell_type": "code",
   "execution_count": 62,
   "id": "db6d2d16-822c-4b42-a1ff-cdd6986432af",
   "metadata": {},
   "outputs": [
    {
     "name": "stdout",
     "output_type": "stream",
     "text": [
      "Karishma\n"
     ]
    }
   ],
   "source": [
    "\"\"\"\n",
    "choice():\n",
    "\n",
    "\"\"\"\n",
    "from random import *\n",
    "l=['Katrina','Kareena','Karishma','Kasturi','Kajal','Kajol','Kangana']\n",
    "print(choice(l))"
   ]
  },
  {
   "cell_type": "code",
   "execution_count": 63,
   "id": "e14b7fea-6af7-4a32-a234-0ec2d0a2f49c",
   "metadata": {},
   "outputs": [
    {
     "name": "stdout",
     "output_type": "stream",
     "text": [
      "Kareena\n",
      "Kareena\n",
      "Katrina\n",
      "Kajol\n",
      "Kareena\n",
      "Katrina\n",
      "Kajol\n",
      "Karishma\n",
      "Kareena\n",
      "Kajol\n"
     ]
    }
   ],
   "source": [
    "for i in range(10):\n",
    "    print(choice(l))"
   ]
  },
  {
   "cell_type": "code",
   "execution_count": 67,
   "id": "aa75935a-b816-4442-8634-2b7add6a0e64",
   "metadata": {},
   "outputs": [
    {
     "data": {
      "text/plain": [
       "10.5"
      ]
     },
     "execution_count": 67,
     "metadata": {},
     "output_type": "execute_result"
    }
   ],
   "source": [
    "from math import *\n",
    "fabs(-10.5)"
   ]
  },
  {
   "cell_type": "code",
   "execution_count": 68,
   "id": "102826a6-6568-496f-a444-79fd86a1a42b",
   "metadata": {},
   "outputs": [
    {
     "data": {
      "text/plain": [
       "10.5"
      ]
     },
     "execution_count": 68,
     "metadata": {},
     "output_type": "execute_result"
    }
   ],
   "source": [
    "fabs(10.5)"
   ]
  },
  {
   "cell_type": "code",
   "execution_count": 70,
   "id": "eabb4627-a922-47a6-96b3-20cdb59cb6da",
   "metadata": {},
   "outputs": [
    {
     "name": "stdout",
     "output_type": "stream",
     "text": [
      "10 11\n"
     ]
    }
   ],
   "source": [
    "a=floor(10.1)\n",
    "b=ceil(10.1)\n",
    "print(a,b)"
   ]
  },
  {
   "cell_type": "code",
   "execution_count": 71,
   "id": "ad6d7e9f-eded-46c2-8a34-9fe1245595e4",
   "metadata": {},
   "outputs": [],
   "source": [
    "#continue from 38th minute"
   ]
  }
 ],
 "metadata": {
  "kernelspec": {
   "display_name": "Python 3 (ipykernel)",
   "language": "python",
   "name": "python3"
  },
  "language_info": {
   "codemirror_mode": {
    "name": "ipython",
    "version": 3
   },
   "file_extension": ".py",
   "mimetype": "text/x-python",
   "name": "python",
   "nbconvert_exporter": "python",
   "pygments_lexer": "ipython3",
   "version": "3.11.8"
  }
 },
 "nbformat": 4,
 "nbformat_minor": 5
}
