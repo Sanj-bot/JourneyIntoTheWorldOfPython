{
 "cells": [
  {
   "cell_type": "code",
   "execution_count": 1,
   "id": "a0b47da0-b054-44b3-872a-f12b164da059",
   "metadata": {},
   "outputs": [
    {
     "name": "stdout",
     "output_type": "stream",
     "text": [
      "2.0\n",
      "3.141592653589793\n"
     ]
    }
   ],
   "source": [
    "#automation is important\n",
    "#have a vision\n",
    "#module is a group of functions classes, and variables\n",
    "import math\n",
    "print(math.sqrt(4))\n",
    "print(math.pi)"
   ]
  }
 ],
 "metadata": {
  "kernelspec": {
   "display_name": "Python 3 (ipykernel)",
   "language": "python",
   "name": "python3"
  },
  "language_info": {
   "codemirror_mode": {
    "name": "ipython",
    "version": 3
   },
   "file_extension": ".py",
   "mimetype": "text/x-python",
   "name": "python",
   "nbconvert_exporter": "python",
   "pygments_lexer": "ipython3",
   "version": "3.11.8"
  }
 },
 "nbformat": 4,
 "nbformat_minor": 5
}
