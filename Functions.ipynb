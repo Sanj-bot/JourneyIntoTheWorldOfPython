{
  "nbformat": 4,
  "nbformat_minor": 0,
  "metadata": {
    "colab": {
      "provenance": [],
      "authorship_tag": "ABX9TyOoGECx5EmDhDKy9GxwN3vK",
      "include_colab_link": true
    },
    "kernelspec": {
      "name": "python3",
      "display_name": "Python 3"
    },
    "language_info": {
      "name": "python"
    }
  },
  "cells": [
    {
      "cell_type": "markdown",
      "metadata": {
        "id": "view-in-github",
        "colab_type": "text"
      },
      "source": [
        "<a href=\"https://colab.research.google.com/github/Sanj-bot/Python-Corey-Schafer/blob/main/Functions.ipynb\" target=\"_parent\"><img src=\"https://colab.research.google.com/assets/colab-badge.svg\" alt=\"Open In Colab\"/></a>"
      ]
    },
    {
      "cell_type": "code",
      "execution_count": 5,
      "metadata": {
        "colab": {
          "base_uri": "https://localhost:8080/"
        },
        "id": "pi_LEJz_NIG4",
        "outputId": "3e57edf5-8ff5-4814-9379-84ed61f63039"
      },
      "outputs": [
        {
          "output_type": "stream",
          "name": "stdout",
          "text": [
            "None\n"
          ]
        }
      ],
      "source": [
        "#Functions:\n",
        "#def keyword, stands for definition\n",
        "#function can have no code\n",
        "\n",
        "\n",
        "def hello_func():\n",
        "  pass\n",
        "hello_func()\n",
        "\n",
        "print(hello_func())\n"
      ]
    },
    {
      "cell_type": "code",
      "source": [
        "def hello():\n",
        "  print(\"Hello Ninja Bot\")\n",
        "hello()\n",
        "\n",
        "\n",
        "#functions put code with a specific purpose to a specific location\n",
        "hello()\n",
        "hello()\n",
        "hello()\n",
        "hello()\n",
        "#DRY: Dont repeat yourself.\n"
      ],
      "metadata": {
        "colab": {
          "base_uri": "https://localhost:8080/"
        },
        "id": "Qhc6Fs--PDp5",
        "outputId": "fea355d9-bfe7-462b-92a4-af5f0da458f7"
      },
      "execution_count": 7,
      "outputs": [
        {
          "output_type": "stream",
          "name": "stdout",
          "text": [
            "Hello Ninja Bot\n",
            "Hello Ninja Bot\n",
            "Hello Ninja Bot\n",
            "Hello Ninja Bot\n",
            "Hello Ninja Bot\n"
          ]
        }
      ]
    }
  ]
}