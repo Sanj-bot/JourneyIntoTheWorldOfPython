{
  "nbformat": 4,
  "nbformat_minor": 0,
  "metadata": {
    "colab": {
      "provenance": [],
      "authorship_tag": "ABX9TyORe//bPyxvhFnyGLz6vEQ1",
      "include_colab_link": true
    },
    "kernelspec": {
      "name": "python3",
      "display_name": "Python 3"
    },
    "language_info": {
      "name": "python"
    }
  },
  "cells": [
    {
      "cell_type": "markdown",
      "metadata": {
        "id": "view-in-github",
        "colab_type": "text"
      },
      "source": [
        "<a href=\"https://colab.research.google.com/github/Sanj-bot/Python-Corey-Schafer/blob/main/Functions.ipynb\" target=\"_parent\"><img src=\"https://colab.research.google.com/assets/colab-badge.svg\" alt=\"Open In Colab\"/></a>"
      ]
    },
    {
      "cell_type": "code",
      "execution_count": 3,
      "metadata": {
        "colab": {
          "base_uri": "https://localhost:8080/"
        },
        "id": "pi_LEJz_NIG4",
        "outputId": "8da50298-7235-48e9-cca5-b415ba482421"
      },
      "outputs": [
        {
          "output_type": "stream",
          "name": "stdout",
          "text": [
            "None\n"
          ]
        }
      ],
      "source": [
        "#Functions:\n",
        "#def keyword, stands for definition\n",
        "#function can have no code\n",
        "\n",
        "\n",
        "def hello_func():\n",
        "  pass\n",
        "hello_func()\n",
        "\n",
        "print(hello_func())\n"
      ]
    },
    {
      "cell_type": "code",
      "source": [
        "def hello():\n",
        "  print(\"Hello Ninja Bot\")\n",
        "hello()\n",
        "\n",
        "\n",
        "#functions put code with a specific purpose to a specific location\n",
        "hello()\n",
        "hello()\n",
        "hello()\n",
        "hello()\n",
        "#DRY: Dont repeat yourself.\n"
      ],
      "metadata": {
        "colab": {
          "base_uri": "https://localhost:8080/"
        },
        "id": "Qhc6Fs--PDp5",
        "outputId": "ce78a172-c72a-4069-ecb0-1988f8b647ab"
      },
      "execution_count": 2,
      "outputs": [
        {
          "output_type": "stream",
          "name": "stdout",
          "text": [
            "Hello Ninja Bot\n",
            "Hello Ninja Bot\n",
            "Hello Ninja Bot\n",
            "Hello Ninja Bot\n",
            "Hello Ninja Bot\n"
          ]
        }
      ]
    },
    {
      "cell_type": "code",
      "source": [
        "print(hello())"
      ],
      "metadata": {
        "id": "jKo9wtAuTlTO",
        "outputId": "64343460-3178-44cd-c445-a5c365389e89",
        "colab": {
          "base_uri": "https://localhost:8080/"
        }
      },
      "execution_count": 4,
      "outputs": [
        {
          "output_type": "stream",
          "name": "stdout",
          "text": [
            "Hello Ninja Bot\n",
            "None\n"
          ]
        }
      ]
    },
    {
      "cell_type": "code",
      "source": [
        "print(hello().upper())"
      ],
      "metadata": {
        "id": "JGNo1R4JUfa5",
        "outputId": "aa3ef3c6-9659-4f39-fdb3-382122c9843d",
        "colab": {
          "base_uri": "https://localhost:8080/",
          "height": 193
        }
      },
      "execution_count": 11,
      "outputs": [
        {
          "output_type": "stream",
          "name": "stdout",
          "text": [
            "Hello Ninja Bot\n"
          ]
        },
        {
          "output_type": "error",
          "ename": "AttributeError",
          "evalue": "ignored",
          "traceback": [
            "\u001b[0;31m---------------------------------------------------------------------------\u001b[0m",
            "\u001b[0;31mAttributeError\u001b[0m                            Traceback (most recent call last)",
            "\u001b[0;32m<ipython-input-11-90d287387cb4>\u001b[0m in \u001b[0;36m<cell line: 1>\u001b[0;34m()\u001b[0m\n\u001b[0;32m----> 1\u001b[0;31m \u001b[0mprint\u001b[0m\u001b[0;34m(\u001b[0m\u001b[0mhello\u001b[0m\u001b[0;34m(\u001b[0m\u001b[0;34m)\u001b[0m\u001b[0;34m.\u001b[0m\u001b[0mupper\u001b[0m\u001b[0;34m(\u001b[0m\u001b[0;34m)\u001b[0m\u001b[0;34m)\u001b[0m\u001b[0;34m\u001b[0m\u001b[0;34m\u001b[0m\u001b[0m\n\u001b[0m",
            "\u001b[0;31mAttributeError\u001b[0m: 'NoneType' object has no attribute 'upper'"
          ]
        }
      ]
    },
    {
      "cell_type": "code",
      "source": [
        "def hello_fun(greeting):\n",
        "  return '{} Function.'.format(greeting)\n",
        "\n",
        "\n",
        "print(hello_fun('Sanjay Says you hello'))"
      ],
      "metadata": {
        "id": "Xwcd0o3OVT51",
        "outputId": "5fb6e48e-088f-4c35-ff6b-8e0ad083bcda",
        "colab": {
          "base_uri": "https://localhost:8080/"
        }
      },
      "execution_count": 12,
      "outputs": [
        {
          "output_type": "stream",
          "name": "stdout",
          "text": [
            "Sanjay Says you hello Function.\n"
          ]
        }
      ]
    },
    {
      "cell_type": "code",
      "source": [],
      "metadata": {
        "id": "TpXCtO3yV2nP"
      },
      "execution_count": null,
      "outputs": []
    }
  ]
}