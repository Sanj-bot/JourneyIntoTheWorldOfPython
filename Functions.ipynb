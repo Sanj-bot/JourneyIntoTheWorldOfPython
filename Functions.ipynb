{
  "nbformat": 4,
  "nbformat_minor": 0,
  "metadata": {
    "colab": {
      "provenance": [],
      "authorship_tag": "ABX9TyNQUiP0ZPPPvX4r1y9SRn7/",
      "include_colab_link": true
    },
    "kernelspec": {
      "name": "python3",
      "display_name": "Python 3"
    },
    "language_info": {
      "name": "python"
    }
  },
  "cells": [
    {
      "cell_type": "markdown",
      "metadata": {
        "id": "view-in-github",
        "colab_type": "text"
      },
      "source": [
        "<a href=\"https://colab.research.google.com/github/Sanj-bot/Python-Corey-Schafer/blob/main/Functions.ipynb\" target=\"_parent\"><img src=\"https://colab.research.google.com/assets/colab-badge.svg\" alt=\"Open In Colab\"/></a>"
      ]
    },
    {
      "cell_type": "code",
      "execution_count": 1,
      "metadata": {
        "colab": {
          "base_uri": "https://localhost:8080/"
        },
        "id": "pi_LEJz_NIG4",
        "outputId": "4c725370-e7af-469e-980e-eb38bf700fa9"
      },
      "outputs": [
        {
          "output_type": "stream",
          "name": "stdout",
          "text": [
            "None\n"
          ]
        }
      ],
      "source": [
        "#Functions:\n",
        "#def keyword, stands for definition\n",
        "#function can have no code\n",
        "\n",
        "\n",
        "def hello_func():\n",
        "  pass\n",
        "hello_func()\n",
        "\n",
        "print(hello_func())\n"
      ]
    },
    {
      "cell_type": "code",
      "source": [
        "def hello():\n",
        "  print(\"Hello Ninja Bot\")\n",
        "hello()\n",
        "\n",
        "\n",
        "#functions put code with a specific purpose to a specific location\n",
        "hello()\n",
        "hello()\n",
        "hello()\n",
        "hello()\n",
        "#DRY: Dont repeat yourself.\n"
      ],
      "metadata": {
        "colab": {
          "base_uri": "https://localhost:8080/"
        },
        "id": "Qhc6Fs--PDp5",
        "outputId": "3004815a-3eb9-4f4d-f48b-600d042600ac"
      },
      "execution_count": 2,
      "outputs": [
        {
          "output_type": "stream",
          "name": "stdout",
          "text": [
            "Hello Ninja Bot\n",
            "Hello Ninja Bot\n",
            "Hello Ninja Bot\n",
            "Hello Ninja Bot\n",
            "Hello Ninja Bot\n"
          ]
        }
      ]
    },
    {
      "cell_type": "code",
      "source": [
        "print(hello())"
      ],
      "metadata": {
        "id": "jKo9wtAuTlTO",
        "outputId": "68eb4b4f-2617-4986-9a23-28fd774a21d1",
        "colab": {
          "base_uri": "https://localhost:8080/"
        }
      },
      "execution_count": 3,
      "outputs": [
        {
          "output_type": "stream",
          "name": "stdout",
          "text": [
            "Hello Ninja Bot\n",
            "None\n"
          ]
        }
      ]
    },
    {
      "cell_type": "code",
      "source": [
        "print(hello().upper())"
      ],
      "metadata": {
        "id": "JGNo1R4JUfa5",
        "outputId": "f876b6ea-3583-46fe-c992-d5d7a37ea035",
        "colab": {
          "base_uri": "https://localhost:8080/",
          "height": 193
        }
      },
      "execution_count": 4,
      "outputs": [
        {
          "output_type": "stream",
          "name": "stdout",
          "text": [
            "Hello Ninja Bot\n"
          ]
        },
        {
          "output_type": "error",
          "ename": "AttributeError",
          "evalue": "ignored",
          "traceback": [
            "\u001b[0;31m---------------------------------------------------------------------------\u001b[0m",
            "\u001b[0;31mAttributeError\u001b[0m                            Traceback (most recent call last)",
            "\u001b[0;32m<ipython-input-4-90d287387cb4>\u001b[0m in \u001b[0;36m<cell line: 1>\u001b[0;34m()\u001b[0m\n\u001b[0;32m----> 1\u001b[0;31m \u001b[0mprint\u001b[0m\u001b[0;34m(\u001b[0m\u001b[0mhello\u001b[0m\u001b[0;34m(\u001b[0m\u001b[0;34m)\u001b[0m\u001b[0;34m.\u001b[0m\u001b[0mupper\u001b[0m\u001b[0;34m(\u001b[0m\u001b[0;34m)\u001b[0m\u001b[0;34m)\u001b[0m\u001b[0;34m\u001b[0m\u001b[0;34m\u001b[0m\u001b[0m\n\u001b[0m",
            "\u001b[0;31mAttributeError\u001b[0m: 'NoneType' object has no attribute 'upper'"
          ]
        }
      ]
    },
    {
      "cell_type": "code",
      "source": [
        "def hello_fun(greeting):\n",
        "  return '{} Function.'.format(greeting)\n",
        "\n",
        "\n",
        "print(hello_fun('Sanjay Says you hello'))"
      ],
      "metadata": {
        "id": "Xwcd0o3OVT51",
        "outputId": "5fb6e48e-088f-4c35-ff6b-8e0ad083bcda",
        "colab": {
          "base_uri": "https://localhost:8080/"
        }
      },
      "execution_count": null,
      "outputs": [
        {
          "output_type": "stream",
          "name": "stdout",
          "text": [
            "Sanjay Says you hello Function.\n"
          ]
        }
      ]
    },
    {
      "cell_type": "code",
      "source": [
        "print(len('Test'))"
      ],
      "metadata": {
        "id": "TpXCtO3yV2nP",
        "outputId": "6343e7de-bd0e-432a-b215-0dd47a31b883",
        "colab": {
          "base_uri": "https://localhost:8080/"
        }
      },
      "execution_count": 5,
      "outputs": [
        {
          "output_type": "stream",
          "name": "stdout",
          "text": [
            "4\n"
          ]
        }
      ]
    },
    {
      "cell_type": "code",
      "source": [
        "#passing arguments to a function\n",
        "def StudentDetails( favWriter):\n",
        "  return '{} is your fav writer'\n",
        "\n",
        "\n",
        "StudentDetails('Haruki Murakami')\n",
        ""
      ],
      "metadata": {
        "id": "2E2YGFG2lZ1v",
        "outputId": "3812a7a6-2a08-4b62-974d-92fa202a2a77",
        "colab": {
          "base_uri": "https://localhost:8080/",
          "height": 35
        }
      },
      "execution_count": 7,
      "outputs": [
        {
          "output_type": "execute_result",
          "data": {
            "text/plain": [
              "'{} is your fav writer'"
            ],
            "application/vnd.google.colaboratory.intrinsic+json": {
              "type": "string"
            }
          },
          "metadata": {},
          "execution_count": 7
        }
      ]
    },
    {
      "cell_type": "code",
      "source": [
        "def hello_func(greeting, name='You'):\n",
        " return '{},{}'.format(greeting, name)\n",
        "\n",
        "\n",
        "print(hello_func('Hi'))"
      ],
      "metadata": {
        "id": "oLx-pC_DnEZt",
        "outputId": "2c32f6de-3522-47e4-d7cd-3859061f09d4",
        "colab": {
          "base_uri": "https://localhost:8080/"
        }
      },
      "execution_count": 9,
      "outputs": [
        {
          "output_type": "stream",
          "name": "stdout",
          "text": [
            "Hi,You\n"
          ]
        }
      ]
    },
    {
      "cell_type": "code",
      "source": [
        "def hello_func(greeting, name='You'):\n",
        " return '{},{}'.format(greeting, name)\n",
        "\n",
        "\n",
        "print(hello_func('Hi',name='Sanjayyy'))"
      ],
      "metadata": {
        "id": "GbdAqzgsoHFM",
        "outputId": "67973ca8-2865-4832-f192-12c43b9b2527",
        "colab": {
          "base_uri": "https://localhost:8080/"
        }
      },
      "execution_count": 10,
      "outputs": [
        {
          "output_type": "stream",
          "name": "stdout",
          "text": [
            "Hi,Sanjayyy\n"
          ]
        }
      ]
    },
    {
      "cell_type": "code",
      "source": [
        "#args and kwargs are conventions\n",
        "#args is a tuple\n",
        "#kwargs are dictionary\n",
        "def student(*args, **kwargs):\n",
        "  print(args)\n",
        "  print(kwargs)\n",
        "\n",
        "courses=['Mathematics','Science']\n",
        "info={'Name':'John','age':22}\n",
        "student(courses,info)\n",
        "student(*courses,**info)\n",
        "#student('Math','Art',name='John',age=22)"
      ],
      "metadata": {
        "id": "Pk5uk05BojPL",
        "outputId": "09e1d0a2-ee46-4e7f-b9d9-eca8de0932c5",
        "colab": {
          "base_uri": "https://localhost:8080/"
        }
      },
      "execution_count": 14,
      "outputs": [
        {
          "output_type": "stream",
          "name": "stdout",
          "text": [
            "(['Mathematics', 'Science'], {'Name': 'John', 'age': 22})\n",
            "{}\n",
            "('Mathematics', 'Science')\n",
            "{'Name': 'John', 'age': 22}\n"
          ]
        }
      ]
    }
  ]
}