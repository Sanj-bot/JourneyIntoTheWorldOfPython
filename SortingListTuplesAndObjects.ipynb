{
  "nbformat": 4,
  "nbformat_minor": 0,
  "metadata": {
    "colab": {
      "provenance": [],
      "authorship_tag": "ABX9TyNOjGgznl1RxGmc+dOVHPw4",
      "include_colab_link": true
    },
    "kernelspec": {
      "name": "python3",
      "display_name": "Python 3"
    },
    "language_info": {
      "name": "python"
    }
  },
  "cells": [
    {
      "cell_type": "markdown",
      "metadata": {
        "id": "view-in-github",
        "colab_type": "text"
      },
      "source": [
        "<a href=\"https://colab.research.google.com/github/Sanj-bot/JourneyIntoTheWorldOfPython/blob/main/SortingListTuplesAndObjects.ipynb\" target=\"_parent\"><img src=\"https://colab.research.google.com/assets/colab-badge.svg\" alt=\"Open In Colab\"/></a>"
      ]
    },
    {
      "cell_type": "code",
      "execution_count": 26,
      "metadata": {
        "colab": {
          "base_uri": "https://localhost:8080/"
        },
        "id": "_PBO1Vx3ITiS",
        "outputId": "888c12aa-abcf-4be1-ef79-b30d6ff87986"
      },
      "outputs": [
        {
          "output_type": "stream",
          "name": "stdout",
          "text": [
            "[(Sarah,29,$80000), (John,43,$90000), (Carl,37,$70000)]\n"
          ]
        }
      ],
      "source": [
        "class Employee():\n",
        "  def __init__(self,name,age,salary):\n",
        "      self.name=name\n",
        "      self.age=age\n",
        "      self.salary=salary\n",
        "\n",
        "  def __repr__(self):\n",
        "      return '({},{},${})'.format(self.name,self.age,self.salary)\n",
        "\n",
        "from operator import attrgetter\n",
        "\n",
        "e1= Employee('Carl',37,70000)\n",
        "e2= Employee('Sarah',29,80000)\n",
        "e3= Employee('John',43,90000)\n",
        "\n",
        "employees=[e1,e2,e3]\n",
        "def e_sort(emp):\n",
        "  return emp.name\n",
        "\n",
        "s_employees=sorted(employees,key=e_sort,reverse=True)\n",
        "#key=lambda e: e.name\n",
        "#key = attrgetter('age')\n",
        "print(s_employees)"
      ]
    },
    {
      "cell_type": "code",
      "source": [
        "li=[1,2,10,23,21,23,21,2,5,75,3,7,34]\n",
        "s_li=sorted(li,reverse=True)\n",
        "print('Sorted Variable:\\t',s_li)\n",
        "print('Original Variable\\t',li)\n",
        "li.sort(reverse=True)\n",
        "print('Original Variable:\\t',li)"
      ],
      "metadata": {
        "colab": {
          "base_uri": "https://localhost:8080/"
        },
        "id": "G2VsCtkTOQ1I",
        "outputId": "76b049e5-a06d-4d26-ce6e-84fb52367d9a"
      },
      "execution_count": 18,
      "outputs": [
        {
          "output_type": "stream",
          "name": "stdout",
          "text": [
            "Sorted Variable:\t [75, 34, 23, 23, 21, 21, 10, 7, 5, 3, 2, 2, 1]\n",
            "Original Variable\t [1, 2, 10, 23, 21, 23, 21, 2, 5, 75, 3, 7, 34]\n",
            "Original Variable:\t [75, 34, 23, 23, 21, 21, 10, 7, 5, 3, 2, 2, 1]\n"
          ]
        }
      ]
    },
    {
      "cell_type": "code",
      "source": [
        "tup=(23,22,21,2,5,43,8,3383,23,22)\n",
        "s_tup=sorted(tup)\n",
        "print('Tuple\\t',s_tup)"
      ],
      "metadata": {
        "colab": {
          "base_uri": "https://localhost:8080/"
        },
        "id": "loZxYsfBJqgI",
        "outputId": "435c2eb9-d5dc-4820-97c5-9fef2afd0329"
      },
      "execution_count": 8,
      "outputs": [
        {
          "output_type": "stream",
          "name": "stdout",
          "text": [
            "Tuple\t [2, 5, 8, 21, 22, 22, 23, 23, 43, 3383]\n"
          ]
        }
      ]
    },
    {
      "cell_type": "code",
      "source": [
        "#keys are sorted\n",
        "di={'Name':'Sanjay','Job':'Programming','Age':22,'OS':'linux'}\n",
        "sdi=sorted(di)\n",
        "print('Dict\\t',sdi)"
      ],
      "metadata": {
        "colab": {
          "base_uri": "https://localhost:8080/"
        },
        "id": "-XetkEA5Kk94",
        "outputId": "602ea18c-9af0-447c-ecff-99e1a3fea896"
      },
      "execution_count": 10,
      "outputs": [
        {
          "output_type": "stream",
          "name": "stdout",
          "text": [
            "Dict\t ['Age', 'Job', 'Name', 'OS']\n"
          ]
        }
      ]
    },
    {
      "cell_type": "code",
      "source": [
        "li=[-12,-23,-2,1,2,32]\n",
        "print(sorted(li))\n",
        "#absolute value sort\n",
        "print(sorted(li,key=abs))"
      ],
      "metadata": {
        "colab": {
          "base_uri": "https://localhost:8080/"
        },
        "id": "9_qtEtrLLy_7",
        "outputId": "72fa21c3-be96-43ac-bc65-512e06c81c91"
      },
      "execution_count": 12,
      "outputs": [
        {
          "output_type": "stream",
          "name": "stdout",
          "text": [
            "[-23, -12, -2, 1, 2, 32]\n",
            "[1, -2, 2, -12, -23, 32]\n"
          ]
        }
      ]
    },
    {
      "cell_type": "code",
      "source": [],
      "metadata": {
        "id": "Nh2kUwRBMNTW"
      },
      "execution_count": 16,
      "outputs": []
    }
  ]
}