{
  "nbformat": 4,
  "nbformat_minor": 0,
  "metadata": {
    "colab": {
      "provenance": [],
      "authorship_tag": "ABX9TyMRID1w5y3JAcciLn0SPjin",
      "include_colab_link": true
    },
    "kernelspec": {
      "name": "python3",
      "display_name": "Python 3"
    },
    "language_info": {
      "name": "python"
    }
  },
  "cells": [
    {
      "cell_type": "markdown",
      "metadata": {
        "id": "view-in-github",
        "colab_type": "text"
      },
      "source": [
        "<a href=\"https://colab.research.google.com/github/Sanj-bot/Python-Corey-Schafer/blob/main/LoopsAndIterations.ipynb\" target=\"_parent\"><img src=\"https://colab.research.google.com/assets/colab-badge.svg\" alt=\"Open In Colab\"/></a>"
      ]
    },
    {
      "cell_type": "code",
      "execution_count": 1,
      "metadata": {
        "colab": {
          "base_uri": "https://localhost:8080/"
        },
        "id": "XP3iZce4jBw4",
        "outputId": "9ce077bf-ddf8-4341-9f14-5151a1c18c0c"
      },
      "outputs": [
        {
          "output_type": "stream",
          "name": "stdout",
          "text": [
            "1\n",
            "2\n",
            "3\n",
            "4\n",
            "5\n"
          ]
        }
      ],
      "source": [
        "nums=[1,2,3,4,5]\n",
        "for num in nums:\n",
        "  print(num)"
      ]
    },
    {
      "cell_type": "code",
      "source": [
        "#break statement to come out of a loop\n",
        "for num in nums:\n",
        "  if num==3:\n",
        "    print('Found 3!')\n",
        "    break\n",
        "  print(num)"
      ],
      "metadata": {
        "id": "OOSL_80cJOZr",
        "outputId": "f2363f6e-efeb-4551-a9bc-71d2abe33a9c",
        "colab": {
          "base_uri": "https://localhost:8080/"
        }
      },
      "execution_count": 2,
      "outputs": [
        {
          "output_type": "stream",
          "name": "stdout",
          "text": [
            "1\n",
            "2\n",
            "Found 3!\n"
          ]
        }
      ]
    },
    {
      "cell_type": "code",
      "source": [
        "#Continue loop\n",
        "for num in nums:\n",
        "  if num==4:\n",
        "    print(\"Found 4!!\")\n",
        "    continue\n",
        "  print(num)"
      ],
      "metadata": {
        "id": "cpAbou4GJx5m",
        "outputId": "067f457c-a2f1-4a54-9dfa-411a7cb0b605",
        "colab": {
          "base_uri": "https://localhost:8080/"
        }
      },
      "execution_count": 4,
      "outputs": [
        {
          "output_type": "stream",
          "name": "stdout",
          "text": [
            "1\n",
            "2\n",
            "3\n",
            "Found 4!!\n",
            "5\n"
          ]
        }
      ]
    }
  ]
}