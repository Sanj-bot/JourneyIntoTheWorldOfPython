{
  "nbformat": 4,
  "nbformat_minor": 0,
  "metadata": {
    "colab": {
      "provenance": [],
      "authorship_tag": "ABX9TyPWUpe78fYybH7xKpMUfIYs",
      "include_colab_link": true
    },
    "kernelspec": {
      "name": "python3",
      "display_name": "Python 3"
    },
    "language_info": {
      "name": "python"
    }
  },
  "cells": [
    {
      "cell_type": "markdown",
      "metadata": {
        "id": "view-in-github",
        "colab_type": "text"
      },
      "source": [
        "<a href=\"https://colab.research.google.com/github/Sanj-bot/Python-Corey-Schafer/blob/main/5Dictionary.ipynb\" target=\"_parent\"><img src=\"https://colab.research.google.com/assets/colab-badge.svg\" alt=\"Open In Colab\"/></a>"
      ]
    },
    {
      "cell_type": "code",
      "execution_count": 11,
      "metadata": {
        "colab": {
          "base_uri": "https://localhost:8080/"
        },
        "id": "zLcJErs9YMGf",
        "outputId": "e4e76c81-f03f-4024-d845-42e5f789e412"
      },
      "outputs": [
        {
          "output_type": "stream",
          "name": "stdout",
          "text": [
            "{'Name': 'Sanjay Singh Gurjar', 'Age': 22, 'Courses': ['Math', 'Computer Science'], 'Number': '222,3333,4444'}\n",
            "Sanjay Singh Gurjar\n",
            "22\n",
            "Sanjay Singh Gurjar\n",
            "222,3333,4444\n"
          ]
        }
      ],
      "source": [
        "student={'Name':\"Sanjay Singh Gurjar\",'Age':22,'Courses':['Math','Computer Science']}\n",
        "student['Number']='222,3333,4444'\n",
        "print(student)\n",
        "print(student['Name'])\n",
        "print(student['Age'])\n",
        "#key can be string or number\n",
        "#print(student['phone']) #throws error\n",
        "print(student.get('Name'))\n",
        "print(student.get('Number','Not Found'))\n"
      ]
    },
    {
      "cell_type": "code",
      "source": [
        "student.update({'Name':'Sanjana Singh','Age':20,'Number':'7410800705'})\n",
        "print(student.get('Name'))\n",
        "del student['Age']\n",
        "print(student.get('Age'))"
      ],
      "metadata": {
        "colab": {
          "base_uri": "https://localhost:8080/"
        },
        "id": "JtANrVUqZiBk",
        "outputId": "dd70866b-66ae-475e-9e52-d8a7520fc8ca"
      },
      "execution_count": 17,
      "outputs": [
        {
          "output_type": "stream",
          "name": "stdout",
          "text": [
            "Sanjana Singh\n",
            "None\n"
          ]
        }
      ]
    },
    {
      "cell_type": "code",
      "source": [
        "print(len(student))"
      ],
      "metadata": {
        "colab": {
          "base_uri": "https://localhost:8080/"
        },
        "id": "qnwoZNuqaXyU",
        "outputId": "3be93ba9-0ea8-4687-eb1c-9e4ed627295f"
      },
      "execution_count": 18,
      "outputs": [
        {
          "output_type": "stream",
          "name": "stdout",
          "text": [
            "3\n"
          ]
        }
      ]
    },
    {
      "cell_type": "code",
      "source": [
        "print(student.keys())\n",
        "print(student.values())\n",
        "print(student.items())"
      ],
      "metadata": {
        "colab": {
          "base_uri": "https://localhost:8080/"
        },
        "id": "IstT6ng4aZ45",
        "outputId": "698cd32a-3e83-4a38-acd7-5a920493228a"
      },
      "execution_count": 22,
      "outputs": [
        {
          "output_type": "stream",
          "name": "stdout",
          "text": [
            "dict_keys(['Name', 'Courses', 'Number'])\n",
            "dict_values(['Sanjana Singh', ['Math', 'Computer Science'], '7410800705'])\n",
            "dict_items([('Name', 'Sanjana Singh'), ('Courses', ['Math', 'Computer Science']), ('Number', '7410800705')])\n"
          ]
        }
      ]
    },
    {
      "cell_type": "code",
      "source": [
        "for key in student:\n",
        "  print(key)\n",
        "\n",
        "for values in student:\n",
        "  print(values)\n",
        "\n",
        "for key,value in student.items():\n",
        "  print(key,\":\",values)"
      ],
      "metadata": {
        "colab": {
          "base_uri": "https://localhost:8080/"
        },
        "id": "SJZX_LmXapi_",
        "outputId": "33bea5e0-c5eb-482e-9c5c-9be9b3d578cd"
      },
      "execution_count": 26,
      "outputs": [
        {
          "output_type": "stream",
          "name": "stdout",
          "text": [
            "Name\n",
            "Courses\n",
            "Number\n",
            "Name\n",
            "Courses\n",
            "Number\n",
            "Name : Number\n",
            "Courses : Number\n",
            "Number : Number\n"
          ]
        }
      ]
    }
  ]
}