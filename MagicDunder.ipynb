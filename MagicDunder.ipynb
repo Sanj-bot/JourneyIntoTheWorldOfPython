{
  "nbformat": 4,
  "nbformat_minor": 0,
  "metadata": {
    "colab": {
      "provenance": [],
      "authorship_tag": "ABX9TyO7OFkNEQSWvonzGg0n0y0W",
      "include_colab_link": true
    },
    "kernelspec": {
      "name": "python3",
      "display_name": "Python 3"
    },
    "language_info": {
      "name": "python"
    }
  },
  "cells": [
    {
      "cell_type": "markdown",
      "metadata": {
        "id": "view-in-github",
        "colab_type": "text"
      },
      "source": [
        "<a href=\"https://colab.research.google.com/github/Sanj-bot/JourneyIntoTheWorldOfPython/blob/main/MagicDunder.ipynb\" target=\"_parent\"><img src=\"https://colab.research.google.com/assets/colab-badge.svg\" alt=\"Open In Colab\"/></a>"
      ]
    },
    {
      "cell_type": "code",
      "execution_count": 17,
      "metadata": {
        "id": "u7cHQ67Kom1L",
        "outputId": "7ed91449-a521-42e6-de73-e1b7bfa0f335",
        "colab": {
          "base_uri": "https://localhost:8080/",
          "height": 106
        }
      },
      "outputs": [
        {
          "output_type": "error",
          "ename": "IndentationError",
          "evalue": "unindent does not match any outer indentation level (<tokenize>, line 23)",
          "traceback": [
            "\u001b[0;36m  File \u001b[0;32m\"<tokenize>\"\u001b[0;36m, line \u001b[0;32m23\u001b[0m\n\u001b[0;31m    print(len(emp_1))\u001b[0m\n\u001b[0m    ^\u001b[0m\n\u001b[0;31mIndentationError\u001b[0m\u001b[0;31m:\u001b[0m unindent does not match any outer indentation level\n"
          ]
        }
      ],
      "source": [
        "#tut 5 of oops.\n",
        "class Employee:\n",
        "    raise_amt=1.04\n",
        "    def __init__(self, first, last, pay):\n",
        "        self.first=first\n",
        "        self.last=last\n",
        "        self.email=first+'.'+last+'@email.com'\n",
        "        self.pay=pay\n",
        "\n",
        "    def fullname(self):\n",
        "        return '{}{}'.format(self.first,self.last)\n",
        "    def apply_raise(self):\n",
        "        self.pay=int(self.pay*self.raise_amt)\n",
        "    def __repr__(self):\n",
        "        return \"Employee ('{}','{}','{}')\".format(self.first, self.last, self.pay)\n",
        "\n",
        "    def __str__(self):\n",
        "        return '{}={}'.format(self.fullname(), self.email)\n",
        "    def __add__(self, other):\n",
        "        return self.pay+other.pay\n",
        "    def __len__(self):\n",
        "        return len(self.fullname())\n",
        ""
      ]
    },
    {
      "cell_type": "code",
      "source": [
        "emp_1=Employee('Corey','Schafer',50000)\n",
        "emp_2=Employee('Test','Employee',60000)\n",
        "print(len(emp_1))\n",
        "#print(emp_1)\n",
        "print(1+2)\n",
        "print('a'+'b')\n",
        "print(emp_1.__repr__())\n",
        "print(emp_1.__str__())\n",
        "print(emp_1+emp_2)"
      ],
      "metadata": {
        "id": "SgPv-sSmHD2W",
        "outputId": "50c6249b-13d5-4649-c3d1-1101a4605f4a",
        "colab": {
          "base_uri": "https://localhost:8080/"
        }
      },
      "execution_count": 18,
      "outputs": [
        {
          "output_type": "stream",
          "name": "stdout",
          "text": [
            "12\n",
            "3\n",
            "ab\n",
            "Employee ('Corey','Schafer','50000')\n",
            "CoreySchafer=Corey.Schafer@email.com\n",
            "110000\n"
          ]
        }
      ]
    },
    {
      "cell_type": "markdown",
      "source": [
        "__init__(): # Dunder init\n",
        "#common special methods\n",
        "__repr__(self): #debugging and logging\n",
        "__str__(self): #"
      ],
      "metadata": {
        "id": "jMHwQijmHt9r"
      }
    },
    {
      "cell_type": "code",
      "source": [
        "print(1+2)\n",
        "print(int.__add__(1,2))\n",
        "print(str.__add__('a','b'))\n",
        "\n",
        "print(len('test'))\n",
        "print('test'.__len__())"
      ],
      "metadata": {
        "id": "_QH7cULpIA1q",
        "outputId": "a66fa28a-1cb2-4981-a79c-73b40d118a8e",
        "colab": {
          "base_uri": "https://localhost:8080/"
        }
      },
      "execution_count": 14,
      "outputs": [
        {
          "output_type": "stream",
          "name": "stdout",
          "text": [
            "3\n",
            "3\n",
            "ab\n",
            "4\n",
            "4\n"
          ]
        }
      ]
    }
  ]
}