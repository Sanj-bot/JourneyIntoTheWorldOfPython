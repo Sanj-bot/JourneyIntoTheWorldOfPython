{
 "cells": [
  {
   "cell_type": "code",
   "execution_count": 6,
   "id": "f41048ca-dd31-4556-b73f-22999f5eb53a",
   "metadata": {},
   "outputs": [
    {
     "ename": "NameError",
     "evalue": "name 'black' is not defined",
     "output_type": "error",
     "traceback": [
      "\u001b[1;31m---------------------------------------------------------------------------\u001b[0m",
      "\u001b[1;31mNameError\u001b[0m                                 Traceback (most recent call last)",
      "Cell \u001b[1;32mIn[6], line 7\u001b[0m\n\u001b[0;32m      4\u001b[0m plt\u001b[38;5;241m.\u001b[39mstyle\u001b[38;5;241m.\u001b[39muse(\u001b[38;5;124m'\u001b[39m\u001b[38;5;124mfivethirtyeight\u001b[39m\u001b[38;5;124m'\u001b[39m)\n\u001b[0;32m      6\u001b[0m ages \u001b[38;5;241m=\u001b[39m [\u001b[38;5;241m18\u001b[39m, \u001b[38;5;241m19\u001b[39m, \u001b[38;5;241m21\u001b[39m, \u001b[38;5;241m25\u001b[39m, \u001b[38;5;241m26\u001b[39m, \u001b[38;5;241m26\u001b[39m, \u001b[38;5;241m30\u001b[39m, \u001b[38;5;241m32\u001b[39m, \u001b[38;5;241m38\u001b[39m, \u001b[38;5;241m45\u001b[39m, \u001b[38;5;241m55\u001b[39m]\n\u001b[1;32m----> 7\u001b[0m plt\u001b[38;5;241m.\u001b[39mhist(ages,bins\u001b[38;5;241m=\u001b[39m\u001b[38;5;241m5\u001b[39m,edgecolors\u001b[38;5;241m=\u001b[39m\u001b[43mblack\u001b[49m)\n\u001b[0;32m      8\u001b[0m \u001b[38;5;66;03m# data = pd.read_csv('data.csv')\u001b[39;00m\n\u001b[0;32m      9\u001b[0m \u001b[38;5;66;03m# ids = data['Responder_id']\u001b[39;00m\n\u001b[0;32m     10\u001b[0m \u001b[38;5;66;03m# ages = data['Age']\u001b[39;00m\n\u001b[0;32m     11\u001b[0m \n\u001b[0;32m     12\u001b[0m \u001b[38;5;66;03m# median_age = 29\u001b[39;00m\n\u001b[0;32m     13\u001b[0m \u001b[38;5;66;03m# color = '#fc4f30'\u001b[39;00m\n\u001b[0;32m     15\u001b[0m plt\u001b[38;5;241m.\u001b[39mlegend()\n",
      "\u001b[1;31mNameError\u001b[0m: name 'black' is not defined"
     ]
    }
   ],
   "source": [
    "import pandas as pd\n",
    "from matplotlib import pyplot as plt\n",
    "\n",
    "plt.style.use('fivethirtyeight')\n",
    "\n",
    "ages = [18, 19, 21, 25, 26, 26, 30, 32, 38, 45, 55]\n",
    "plt.hist(ages,bins=5,edgecolors=black)\n",
    "# data = pd.read_csv('data.csv')\n",
    "# ids = data['Responder_id']\n",
    "# ages = data['Age']\n",
    "\n",
    "# median_age = 29\n",
    "# color = '#fc4f30'\n",
    "\n",
    "plt.legend()\n",
    "\n",
    "plt.title('Ages of Respondents')\n",
    "plt.xlabel('Ages')\n",
    "plt.ylabel('Total Respondents')\n",
    "\n",
    "#plt.tight_layout()\n",
    "\n",
    "plt.show()"
   ]
  }
 ],
 "metadata": {
  "kernelspec": {
   "display_name": "Python 3 (ipykernel)",
   "language": "python",
   "name": "python3"
  },
  "language_info": {
   "codemirror_mode": {
    "name": "ipython",
    "version": 3
   },
   "file_extension": ".py",
   "mimetype": "text/x-python",
   "name": "python",
   "nbconvert_exporter": "python",
   "pygments_lexer": "ipython3",
   "version": "3.11.8"
  }
 },
 "nbformat": 4,
 "nbformat_minor": 5
}
