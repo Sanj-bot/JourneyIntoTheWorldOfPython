{
 "cells": [
  {
   "cell_type": "code",
   "execution_count": null,
   "id": "91856152-bf4b-4796-9a05-0882226c88bf",
   "metadata": {},
   "outputs": [],
   "source": [
    "#Display text on screen\n"
   ]
  },
  {
   "cell_type": "code",
   "execution_count": null,
   "id": "254c7abc-5987-450b-a47b-5076bdd53fc3",
   "metadata": {},
   "outputs": [],
   "source": []
  },
  {
   "cell_type": "code",
   "execution_count": 1,
   "id": "c84b4745-3827-4024-947e-3d805a21e1d0",
   "metadata": {},
   "outputs": [
    {
     "name": "stdout",
     "output_type": "stream",
     "text": [
      "pygame 2.5.2 (SDL 2.28.3, Python 3.11.8)\n",
      "Hello from the pygame community. https://www.pygame.org/contribute.html\n"
     ]
    },
    {
     "ename": "error",
     "evalue": "display Surface quit",
     "output_type": "error",
     "traceback": [
      "\u001b[1;31m---------------------------------------------------------------------------\u001b[0m",
      "\u001b[1;31merror\u001b[0m                                     Traceback (most recent call last)",
      "Cell \u001b[1;32mIn[1], line 83\u001b[0m\n\u001b[0;32m     80\u001b[0m         pygame\u001b[38;5;241m.\u001b[39mdisplay\u001b[38;5;241m.\u001b[39mupdate()\n\u001b[0;32m     81\u001b[0m         clock\u001b[38;5;241m.\u001b[39mtick(\u001b[38;5;241m60\u001b[39m)\n\u001b[1;32m---> 83\u001b[0m \u001b[43mgame_loop\u001b[49m\u001b[43m(\u001b[49m\u001b[43m)\u001b[49m\n\u001b[0;32m     84\u001b[0m pygame\u001b[38;5;241m.\u001b[39mquit()\n\u001b[0;32m     85\u001b[0m quit()\n",
      "Cell \u001b[1;32mIn[1], line 77\u001b[0m, in \u001b[0;36mgame_loop\u001b[1;34m()\u001b[0m\n\u001b[0;32m     74\u001b[0m car(x,y)\n\u001b[0;32m     76\u001b[0m \u001b[38;5;28;01mif\u001b[39;00m x \u001b[38;5;241m>\u001b[39m display_width \u001b[38;5;241m-\u001b[39m car_width \u001b[38;5;129;01mor\u001b[39;00m x \u001b[38;5;241m<\u001b[39m \u001b[38;5;241m0\u001b[39m:\n\u001b[1;32m---> 77\u001b[0m     \u001b[43mcrash\u001b[49m\u001b[43m(\u001b[49m\u001b[43m)\u001b[49m\n\u001b[0;32m     80\u001b[0m pygame\u001b[38;5;241m.\u001b[39mdisplay\u001b[38;5;241m.\u001b[39mupdate()\n\u001b[0;32m     81\u001b[0m clock\u001b[38;5;241m.\u001b[39mtick(\u001b[38;5;241m60\u001b[39m)\n",
      "Cell \u001b[1;32mIn[1], line 44\u001b[0m, in \u001b[0;36mcrash\u001b[1;34m()\u001b[0m\n\u001b[0;32m     43\u001b[0m \u001b[38;5;28;01mdef\u001b[39;00m \u001b[38;5;21mcrash\u001b[39m():\n\u001b[1;32m---> 44\u001b[0m     \u001b[43mmessage_display\u001b[49m\u001b[43m(\u001b[49m\u001b[38;5;124;43m'\u001b[39;49m\u001b[38;5;124;43mChota bachu ho tum\u001b[39;49m\u001b[38;5;124;43m'\u001b[39;49m\u001b[43m)\u001b[49m\n",
      "Cell \u001b[1;32mIn[1], line 39\u001b[0m, in \u001b[0;36mmessage_display\u001b[1;34m(text)\u001b[0m\n\u001b[0;32m     35\u001b[0m pygame\u001b[38;5;241m.\u001b[39mdisplay\u001b[38;5;241m.\u001b[39mupdate()\n\u001b[0;32m     37\u001b[0m time\u001b[38;5;241m.\u001b[39msleep(\u001b[38;5;241m2\u001b[39m)\n\u001b[1;32m---> 39\u001b[0m \u001b[43mgame_loop\u001b[49m\u001b[43m(\u001b[49m\u001b[43m)\u001b[49m\n",
      "Cell \u001b[1;32mIn[1], line 77\u001b[0m, in \u001b[0;36mgame_loop\u001b[1;34m()\u001b[0m\n\u001b[0;32m     74\u001b[0m car(x,y)\n\u001b[0;32m     76\u001b[0m \u001b[38;5;28;01mif\u001b[39;00m x \u001b[38;5;241m>\u001b[39m display_width \u001b[38;5;241m-\u001b[39m car_width \u001b[38;5;129;01mor\u001b[39;00m x \u001b[38;5;241m<\u001b[39m \u001b[38;5;241m0\u001b[39m:\n\u001b[1;32m---> 77\u001b[0m     \u001b[43mcrash\u001b[49m\u001b[43m(\u001b[49m\u001b[43m)\u001b[49m\n\u001b[0;32m     80\u001b[0m pygame\u001b[38;5;241m.\u001b[39mdisplay\u001b[38;5;241m.\u001b[39mupdate()\n\u001b[0;32m     81\u001b[0m clock\u001b[38;5;241m.\u001b[39mtick(\u001b[38;5;241m60\u001b[39m)\n",
      "Cell \u001b[1;32mIn[1], line 44\u001b[0m, in \u001b[0;36mcrash\u001b[1;34m()\u001b[0m\n\u001b[0;32m     43\u001b[0m \u001b[38;5;28;01mdef\u001b[39;00m \u001b[38;5;21mcrash\u001b[39m():\n\u001b[1;32m---> 44\u001b[0m     \u001b[43mmessage_display\u001b[49m\u001b[43m(\u001b[49m\u001b[38;5;124;43m'\u001b[39;49m\u001b[38;5;124;43mChota bachu ho tum\u001b[39;49m\u001b[38;5;124;43m'\u001b[39;49m\u001b[43m)\u001b[49m\n",
      "Cell \u001b[1;32mIn[1], line 39\u001b[0m, in \u001b[0;36mmessage_display\u001b[1;34m(text)\u001b[0m\n\u001b[0;32m     35\u001b[0m pygame\u001b[38;5;241m.\u001b[39mdisplay\u001b[38;5;241m.\u001b[39mupdate()\n\u001b[0;32m     37\u001b[0m time\u001b[38;5;241m.\u001b[39msleep(\u001b[38;5;241m2\u001b[39m)\n\u001b[1;32m---> 39\u001b[0m \u001b[43mgame_loop\u001b[49m\u001b[43m(\u001b[49m\u001b[43m)\u001b[49m\n",
      "    \u001b[1;31m[... skipping similar frames: crash at line 44 (1 times), game_loop at line 77 (1 times), message_display at line 39 (1 times)]\u001b[0m\n",
      "Cell \u001b[1;32mIn[1], line 77\u001b[0m, in \u001b[0;36mgame_loop\u001b[1;34m()\u001b[0m\n\u001b[0;32m     74\u001b[0m car(x,y)\n\u001b[0;32m     76\u001b[0m \u001b[38;5;28;01mif\u001b[39;00m x \u001b[38;5;241m>\u001b[39m display_width \u001b[38;5;241m-\u001b[39m car_width \u001b[38;5;129;01mor\u001b[39;00m x \u001b[38;5;241m<\u001b[39m \u001b[38;5;241m0\u001b[39m:\n\u001b[1;32m---> 77\u001b[0m     \u001b[43mcrash\u001b[49m\u001b[43m(\u001b[49m\u001b[43m)\u001b[49m\n\u001b[0;32m     80\u001b[0m pygame\u001b[38;5;241m.\u001b[39mdisplay\u001b[38;5;241m.\u001b[39mupdate()\n\u001b[0;32m     81\u001b[0m clock\u001b[38;5;241m.\u001b[39mtick(\u001b[38;5;241m60\u001b[39m)\n",
      "Cell \u001b[1;32mIn[1], line 44\u001b[0m, in \u001b[0;36mcrash\u001b[1;34m()\u001b[0m\n\u001b[0;32m     43\u001b[0m \u001b[38;5;28;01mdef\u001b[39;00m \u001b[38;5;21mcrash\u001b[39m():\n\u001b[1;32m---> 44\u001b[0m     \u001b[43mmessage_display\u001b[49m\u001b[43m(\u001b[49m\u001b[38;5;124;43m'\u001b[39;49m\u001b[38;5;124;43mChota bachu ho tum\u001b[39;49m\u001b[38;5;124;43m'\u001b[39;49m\u001b[43m)\u001b[49m\n",
      "Cell \u001b[1;32mIn[1], line 39\u001b[0m, in \u001b[0;36mmessage_display\u001b[1;34m(text)\u001b[0m\n\u001b[0;32m     35\u001b[0m pygame\u001b[38;5;241m.\u001b[39mdisplay\u001b[38;5;241m.\u001b[39mupdate()\n\u001b[0;32m     37\u001b[0m time\u001b[38;5;241m.\u001b[39msleep(\u001b[38;5;241m2\u001b[39m)\n\u001b[1;32m---> 39\u001b[0m \u001b[43mgame_loop\u001b[49m\u001b[43m(\u001b[49m\u001b[43m)\u001b[49m\n",
      "Cell \u001b[1;32mIn[1], line 73\u001b[0m, in \u001b[0;36mgame_loop\u001b[1;34m()\u001b[0m\n\u001b[0;32m     69\u001b[0m             x_change \u001b[38;5;241m=\u001b[39m \u001b[38;5;241m0\u001b[39m\n\u001b[0;32m     71\u001b[0m x \u001b[38;5;241m+\u001b[39m\u001b[38;5;241m=\u001b[39m x_change\n\u001b[1;32m---> 73\u001b[0m \u001b[43mgameDisplay\u001b[49m\u001b[38;5;241;43m.\u001b[39;49m\u001b[43mfill\u001b[49m\u001b[43m(\u001b[49m\u001b[43mwhite\u001b[49m\u001b[43m)\u001b[49m\n\u001b[0;32m     74\u001b[0m car(x,y)\n\u001b[0;32m     76\u001b[0m \u001b[38;5;28;01mif\u001b[39;00m x \u001b[38;5;241m>\u001b[39m display_width \u001b[38;5;241m-\u001b[39m car_width \u001b[38;5;129;01mor\u001b[39;00m x \u001b[38;5;241m<\u001b[39m \u001b[38;5;241m0\u001b[39m:\n",
      "\u001b[1;31merror\u001b[0m: display Surface quit"
     ]
    }
   ],
   "source": [
    "#actual code\n",
    "import pygame\n",
    "import time\n",
    "\n",
    "pygame.init()\n",
    "\n",
    "display_width = 800\n",
    "display_height = 600\n",
    "\n",
    "black = (0,0,0)\n",
    "white = (255,255,255)\n",
    "red = (255,0,0)\n",
    "\n",
    "car_width = 73\n",
    "\n",
    "gameDisplay = pygame.display.set_mode((display_width,display_height))\n",
    "pygame.display.set_caption('A bit Racey')\n",
    "clock = pygame.time.Clock()\n",
    "\n",
    "carImg = pygame.image.load('data/billu.jpg')\n",
    "\n",
    "def car(x,y):\n",
    "    gameDisplay.blit(carImg,(x,y))\n",
    "\n",
    "def text_objects(text, font):\n",
    "    textSurface = font.render(text, True, black)\n",
    "    return textSurface, textSurface.get_rect()\n",
    "\n",
    "def message_display(text):\n",
    "    largeText = pygame.font.Font('freesansbold.ttf',60)\n",
    "    TextSurf, TextRect = text_objects(text, largeText)\n",
    "    TextRect.center = ((display_width/2),(display_height/2))\n",
    "    gameDisplay.blit(TextSurf, TextRect)\n",
    "\n",
    "    pygame.display.update()\n",
    "\n",
    "    time.sleep(2)\n",
    "\n",
    "    game_loop()\n",
    "    \n",
    "    \n",
    "\n",
    "def crash():\n",
    "    message_display('Chota bachu ho tum')\n",
    "    \n",
    "def game_loop():\n",
    "    x = (display_width * 0.45)\n",
    "    y = (display_height * 0.8)\n",
    "\n",
    "    x_change = 0\n",
    "\n",
    "    gameExit = False\n",
    "\n",
    "    while not gameExit:\n",
    "\n",
    "        for event in pygame.event.get():\n",
    "            if event.type == pygame.QUIT:\n",
    "                pygame.quit()\n",
    "                quit()\n",
    "\n",
    "            if event.type == pygame.KEYDOWN:\n",
    "                if event.key == pygame.K_LEFT:\n",
    "                    x_change = -5\n",
    "                if event.key == pygame.K_RIGHT:\n",
    "                    x_change = 5\n",
    "\n",
    "            if event.type == pygame.KEYUP:\n",
    "                if event.key == pygame.K_LEFT or event.key == pygame.K_RIGHT:\n",
    "                    x_change = 0\n",
    "\n",
    "        x += x_change\n",
    "\n",
    "        gameDisplay.fill(white)\n",
    "        car(x,y)\n",
    "\n",
    "        if x > display_width - car_width or x < 0:\n",
    "            crash()\n",
    "            \n",
    "        \n",
    "        pygame.display.update()\n",
    "        clock.tick(60)\n",
    "\n",
    "game_loop()\n",
    "pygame.quit()\n",
    "quit()"
   ]
  }
 ],
 "metadata": {
  "kernelspec": {
   "display_name": "Python 3 (ipykernel)",
   "language": "python",
   "name": "python3"
  },
  "language_info": {
   "codemirror_mode": {
    "name": "ipython",
    "version": 3
   },
   "file_extension": ".py",
   "mimetype": "text/x-python",
   "name": "python",
   "nbconvert_exporter": "python",
   "pygments_lexer": "ipython3",
   "version": "3.11.8"
  }
 },
 "nbformat": 4,
 "nbformat_minor": 5
}
