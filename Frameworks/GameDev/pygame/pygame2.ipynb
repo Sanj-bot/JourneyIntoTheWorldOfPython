{
 "cells": [
  {
   "cell_type": "code",
   "execution_count": 1,
   "id": "c8146db6-6061-436c-b5cc-ab8a9c681f75",
   "metadata": {},
   "outputs": [
    {
     "name": "stdout",
     "output_type": "stream",
     "text": [
      "pygame 2.5.2 (SDL 2.28.3, Python 3.11.8)\n",
      "Hello from the pygame community. https://www.pygame.org/contribute.html\n"
     ]
    }
   ],
   "source": [
    "import pygame\n",
    "pygame.init()\n",
    "#dimensions\n",
    "display_width=800\n",
    "display_height=500\n",
    "#color\n",
    "black=(0,0,0)\n",
    "white=(255,255,255)\n",
    "red=(255,0,0)\n",
    "\n",
    "gameDisplay=pygame.display.set_mode((display_width,display_height))\n",
    "clock=pygame.time.Clock()\n",
    "carImg=pygame.image.load('data/billu.jpg')\n",
    "def car(x,y):\n",
    "    gameDisplay.blit(carImg,(x,y))\n",
    "global x\n",
    "global y\n",
    "x=(display_width*0.45)\n",
    "y=(display_height*0.8)\n",
    "crashed=False\n",
    "\n",
    "#main logic\n",
    "while not crashed:\n",
    "    #event handling loop\n",
    "    for event in pygame.event.get():\n",
    "        if event.type==pygame.QUIT:\n",
    "            crashed=True\n",
    "    gameDisplay.fill(white)\n",
    "    car(x,y)\n",
    "    x=x+1\n",
    "    y=y+1\n",
    "    pygame.display.update()#use update or flip\n",
    "    clock.tick(20)\n",
    "        \n",
    "\n",
    "pygame.quit()\n",
    "quit()"
   ]
  },
  {
   "cell_type": "code",
   "execution_count": null,
   "id": "69898f76-1513-42bb-a5a7-3192e0c61a25",
   "metadata": {},
   "outputs": [],
   "source": []
  }
 ],
 "metadata": {
  "kernelspec": {
   "display_name": "Python 3 (ipykernel)",
   "language": "python",
   "name": "python3"
  },
  "language_info": {
   "codemirror_mode": {
    "name": "ipython",
    "version": 3
   },
   "file_extension": ".py",
   "mimetype": "text/x-python",
   "name": "python",
   "nbconvert_exporter": "python",
   "pygments_lexer": "ipython3",
   "version": "3.11.8"
  }
 },
 "nbformat": 4,
 "nbformat_minor": 5
}
