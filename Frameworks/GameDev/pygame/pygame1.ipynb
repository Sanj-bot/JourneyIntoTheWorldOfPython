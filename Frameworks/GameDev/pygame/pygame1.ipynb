{
 "cells": [
  {
   "cell_type": "code",
   "execution_count": 1,
   "id": "0b7103b2-11fd-4f70-aee9-d0ebbcea31dc",
   "metadata": {},
   "outputs": [
    {
     "name": "stdout",
     "output_type": "stream",
     "text": [
      "Requirement already satisfied: pygame in c:\\users\\user\\appdata\\local\\programs\\python\\python311\\lib\\site-packages (2.5.2)\n",
      "Note: you may need to restart the kernel to use updated packages.\n"
     ]
    }
   ],
   "source": [
    "pip install pygame\n"
   ]
  },
  {
   "cell_type": "code",
   "execution_count": 2,
   "id": "26e4bfd6-0386-4ee6-b180-80d4c23ed84d",
   "metadata": {},
   "outputs": [
    {
     "name": "stdout",
     "output_type": "stream",
     "text": [
      "pygame 2.5.2 (SDL 2.28.3, Python 3.11.8)\n",
      "Hello from the pygame community. https://www.pygame.org/contribute.html\n",
      "<Event(4352-AudioDeviceAdded {'which': 0, 'iscapture': 0})>\n",
      "<Event(4352-AudioDeviceAdded {'which': 0, 'iscapture': 1})>\n",
      "<Event(32774-WindowShown {'window': None})>\n",
      "<Event(32770-VideoExpose {})>\n",
      "<Event(32776-WindowExposed {'window': None})>\n",
      "<Event(32768-ActiveEvent {'gain': 1, 'state': 2})>\n",
      "<Event(32785-WindowFocusGained {'window': None})>\n",
      "<Event(770-TextEditing {'text': '', 'start': 0, 'length': 0, 'window': None})>\n",
      "<Event(32770-VideoExpose {})>\n",
      "<Event(32776-WindowExposed {'window': None})>\n",
      "<Event(32768-ActiveEvent {'gain': 1, 'state': 1})>\n",
      "<Event(32783-WindowEnter {'window': None})>\n",
      "<Event(1024-MouseMotion {'pos': (523, 259), 'rel': (0, 0), 'buttons': (0, 0, 0), 'touch': False, 'window': None})>\n",
      "<Event(1024-MouseMotion {'pos': (479, 257), 'rel': (-44, -2), 'buttons': (0, 0, 0), 'touch': False, 'window': None})>\n",
      "<Event(1024-MouseMotion {'pos': (412, 114), 'rel': (-67, -143), 'buttons': (0, 0, 0), 'touch': False, 'window': None})>\n",
      "<Event(1024-MouseMotion {'pos': (510, 250), 'rel': (98, 136), 'buttons': (0, 0, 0), 'touch': False, 'window': None})>\n",
      "<Event(1024-MouseMotion {'pos': (503, 363), 'rel': (-7, 113), 'buttons': (0, 0, 0), 'touch': False, 'window': None})>\n",
      "<Event(1024-MouseMotion {'pos': (489, 387), 'rel': (-14, 24), 'buttons': (0, 0, 0), 'touch': False, 'window': None})>\n",
      "<Event(1024-MouseMotion {'pos': (370, 440), 'rel': (-119, 53), 'buttons': (0, 0, 0), 'touch': False, 'window': None})>\n",
      "<Event(1024-MouseMotion {'pos': (453, 238), 'rel': (83, -202), 'buttons': (0, 0, 0), 'touch': False, 'window': None})>\n",
      "<Event(1024-MouseMotion {'pos': (515, 295), 'rel': (62, 57), 'buttons': (0, 0, 0), 'touch': False, 'window': None})>\n",
      "<Event(1024-MouseMotion {'pos': (487, 268), 'rel': (-28, -27), 'buttons': (0, 0, 0), 'touch': False, 'window': None})>\n",
      "<Event(1024-MouseMotion {'pos': (487, 257), 'rel': (0, -11), 'buttons': (0, 0, 0), 'touch': False, 'window': None})>\n",
      "<Event(1024-MouseMotion {'pos': (504, 102), 'rel': (17, -155), 'buttons': (0, 0, 0), 'touch': False, 'window': None})>\n",
      "<Event(1025-MouseButtonDown {'pos': (504, 102), 'button': 1, 'touch': False, 'window': None})>\n",
      "<Event(1026-MouseButtonUp {'pos': (504, 102), 'button': 1, 'touch': False, 'window': None})>\n",
      "<Event(1024-MouseMotion {'pos': (501, 100), 'rel': (-3, -2), 'buttons': (0, 0, 0), 'touch': False, 'window': None})>\n",
      "<Event(1024-MouseMotion {'pos': (447, 0), 'rel': (-54, -110), 'buttons': (0, 0, 0), 'touch': False, 'window': None})>\n",
      "<Event(32768-ActiveEvent {'gain': 0, 'state': 1})>\n",
      "<Event(32784-WindowLeave {'window': None})>\n",
      "<Event(32777-WindowMoved {'x': 175, 'y': 106, 'window': None})>\n",
      "<Event(32770-VideoExpose {})>\n",
      "<Event(32776-WindowExposed {'window': None})>\n",
      "<Event(32768-ActiveEvent {'gain': 1, 'state': 1})>\n",
      "<Event(32783-WindowEnter {'window': None})>\n",
      "<Event(1024-MouseMotion {'pos': (475, 3), 'rel': (0, 0), 'buttons': (0, 0, 0), 'touch': False, 'window': None})>\n",
      "<Event(1024-MouseMotion {'pos': (742, 14), 'rel': (267, 11), 'buttons': (0, 0, 0), 'touch': False, 'window': None})>\n",
      "<Event(1024-MouseMotion {'pos': (745, 14), 'rel': (3, 0), 'buttons': (0, 0, 0), 'touch': False, 'window': None})>\n",
      "<Event(1024-MouseMotion {'pos': (771, 0), 'rel': (26, -16), 'buttons': (0, 0, 0), 'touch': False, 'window': None})>\n",
      "<Event(32768-ActiveEvent {'gain': 0, 'state': 1})>\n",
      "<Event(32784-WindowLeave {'window': None})>\n",
      "<Event(32787-WindowClose {'window': None})>\n",
      "<Event(256-Quit {})>\n"
     ]
    }
   ],
   "source": [
    "import pygame\n",
    "pygame.init()\n",
    "\n",
    "gameDisplay=pygame.display.set_mode((800,600))\n",
    "pygame.display.set_caption('A bit Racey')\n",
    "clock=pygame.time.Clock()\n",
    "\n",
    "crashed =False # to exit the game we need to crash\n",
    "\n",
    "while not crashed:\n",
    "    for event in pygame.event.get():\n",
    "        if event.type==pygame.QUIT:\n",
    "            crashed=True\n",
    "        print(event)\n",
    "    pygame.display.update()\n",
    "    clock.tick(3) # 3 is 3 frames per second, makes the whole loop faster or slower\n",
    "\n",
    "pygame.quit()\n",
    "quit()"
   ]
  },
  {
   "cell_type": "code",
   "execution_count": null,
   "id": "b4b25994-c86c-413d-833b-9054347929ca",
   "metadata": {},
   "outputs": [],
   "source": []
  }
 ],
 "metadata": {
  "kernelspec": {
   "display_name": "Python 3 (ipykernel)",
   "language": "python",
   "name": "python3"
  },
  "language_info": {
   "codemirror_mode": {
    "name": "ipython",
    "version": 3
   },
   "file_extension": ".py",
   "mimetype": "text/x-python",
   "name": "python",
   "nbconvert_exporter": "python",
   "pygments_lexer": "ipython3",
   "version": "3.11.8"
  }
 },
 "nbformat": 4,
 "nbformat_minor": 5
}
