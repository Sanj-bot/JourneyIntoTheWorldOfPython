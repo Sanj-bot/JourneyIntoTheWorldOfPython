{
 "cells": [
  {
   "cell_type": "code",
   "execution_count": 14,
   "id": "efd1dec2-8e7b-4482-b4cf-8f1eecc4adcb",
   "metadata": {},
   "outputs": [],
   "source": [
    "#text entry box and putting values\n",
    "#and button\n",
    "from tkinter import *\n",
    "root=Tk()\n",
    "root.title(\"MY BUTTON\")\n",
    "root.iconbitmap(\"data/star.ico\")\n",
    "root.geometry(\"500x500\")\n",
    "#function\n",
    "def my_click():\n",
    "    my_label=Label(root,text=\"Welcome to the course!\",fg='blue')\n",
    "    \n",
    "    my_label.pack()\n",
    "mybutton=Button(root,text=\"Hey Click this!\",command=my_click,fg='black',bg='pink',padx=30,pady=30).pack()\n",
    "root.mainloop()"
   ]
  },
  {
   "cell_type": "code",
   "execution_count": 13,
   "id": "00a4f753-e87a-4994-b177-913c530ab0e6",
   "metadata": {},
   "outputs": [],
   "source": [
    "#padx,pady will give thickness"
   ]
  }
 ],
 "metadata": {
  "kernelspec": {
   "display_name": "Python 3 (ipykernel)",
   "language": "python",
   "name": "python3"
  },
  "language_info": {
   "codemirror_mode": {
    "name": "ipython",
    "version": 3
   },
   "file_extension": ".py",
   "mimetype": "text/x-python",
   "name": "python",
   "nbconvert_exporter": "python",
   "pygments_lexer": "ipython3",
   "version": "3.11.8"
  }
 },
 "nbformat": 4,
 "nbformat_minor": 5
}
