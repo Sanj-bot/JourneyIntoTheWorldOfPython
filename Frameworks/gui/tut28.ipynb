{
 "cells": [
  {
   "cell_type": "code",
   "execution_count": 1,
   "id": "25623733-d96b-4ae0-a1d5-42df10cdd4de",
   "metadata": {},
   "outputs": [],
   "source": [
    "#panned windows in tkinter\n",
    "from tkinter import *\n",
    "root=Tk()\n",
    "root.title('My Box GUI')\n",
    "root.iconbitmap('data/rabbit.ico')\n",
    "root.geometry(\"700x700\")\n",
    "root.configure(bg='pink')\n",
    "\n",
    "panel_1=PanedWindow(bd=4, relief=\"raised\", bg='red')\n",
    "panel_1.pack(fill=BOTH, expand=1)\n",
    "\n",
    "left_panel=Label(panel_1,text='Left Panning')\n",
    "panel_1.add(left_panel)\n",
    "\n",
    "\n",
    "panel_2=PanedWindow(panel_1, orient=VERTICAL, bd=4,relief='raised', bg='blue')\n",
    "panel_1.add(panel_2)\n",
    "\n",
    "\n",
    "#top panel\n",
    "top_panel=Label(panel_2, text=\"Top Panning\")\n",
    "panel_2.add(top_panel)\n",
    "\n",
    "bottom_panel=Label(panel_2, text=\"Botton Panning\")\n",
    "panel_2.add(bottom_panel)\n",
    "\n",
    "root.mainloop()"
   ]
  },
  {
   "cell_type": "code",
   "execution_count": null,
   "id": "f2f2b461-eb91-404f-9eab-4e5e2010b42e",
   "metadata": {},
   "outputs": [],
   "source": []
  },
  {
   "cell_type": "code",
   "execution_count": null,
   "id": "ab3b6d5b-00e5-4571-a61b-d7de0c819d86",
   "metadata": {},
   "outputs": [],
   "source": []
  },
  {
   "cell_type": "code",
   "execution_count": null,
   "id": "4bfa132c-aa9f-44b3-9c6e-a5c4445ccfc6",
   "metadata": {},
   "outputs": [],
   "source": []
  }
 ],
 "metadata": {
  "kernelspec": {
   "display_name": "Python 3 (ipykernel)",
   "language": "python",
   "name": "python3"
  },
  "language_info": {
   "codemirror_mode": {
    "name": "ipython",
    "version": 3
   },
   "file_extension": ".py",
   "mimetype": "text/x-python",
   "name": "python",
   "nbconvert_exporter": "python",
   "pygments_lexer": "ipython3",
   "version": "3.11.8"
  }
 },
 "nbformat": 4,
 "nbformat_minor": 5
}
