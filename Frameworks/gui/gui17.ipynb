{
 "cells": [
  {
   "cell_type": "code",
   "execution_count": 12,
   "id": "f098c09b-a564-4b02-aaae-23d55af2046d",
   "metadata": {},
   "outputs": [],
   "source": [
    "#Custom fonts and resizing entry boxes in tkinter\n",
    "from tkinter import *\n",
    "from PIL import Image, ImageTk\n",
    "root=Tk()\n",
    "root.title('Resize Entry')\n",
    "root.iconbitmap('data/rabbit.ico')\n",
    "root.geometry(\"500x500\")\n",
    "root.configure(bg='black')\n",
    "\n",
    "\n",
    "\n",
    "#setting up bilu as wallpaper\n",
    "img1=ImageTk.PhotoImage(Image.open(\"data\\\\1.jpg\"))\n",
    "label=Label(root,image=img1)\n",
    "label.pack()\n",
    "temp=0\n",
    "#click function defined\n",
    "def clicked():\n",
    "    hi_user=\"Hello\"+\" \"+e.get()\n",
    "    mylabel=Label(root,text=hi_user,font=(\"Arial Black\",20))\n",
    "    mylabel.pack(padx=10,pady=10) \n",
    "    temp=2\n",
    "#root.destroy()\n",
    "b1=Button(root,text=\"Enter Billu Name\", command=clicked)\n",
    "b1.pack(padx=20,pady=20)\n",
    "#Entry used to collect data\n",
    "e=Entry(root,width=10,font=('Arial',30))\n",
    "e.pack(padx=10,pady=10)\n",
    "#close button defined now\n",
    "def closed():\n",
    "    root.destroy()\n",
    "#button to close the app\n",
    "\n",
    "if temp==2:\n",
    "    b2=Button(root,text=\"close\", command=closed)\n",
    "    b2.pack(padx=20,pady=20)\n",
    "\n",
    "\n",
    "\n",
    "\n",
    "\n",
    "\n",
    "\n",
    "\n",
    "\n",
    "\n",
    "root.mainloop()"
   ]
  }
 ],
 "metadata": {
  "kernelspec": {
   "display_name": "Python 3 (ipykernel)",
   "language": "python",
   "name": "python3"
  },
  "language_info": {
   "codemirror_mode": {
    "name": "ipython",
    "version": 3
   },
   "file_extension": ".py",
   "mimetype": "text/x-python",
   "name": "python",
   "nbconvert_exporter": "python",
   "pygments_lexer": "ipython3",
   "version": "3.11.8"
  }
 },
 "nbformat": 4,
 "nbformat_minor": 5
}
