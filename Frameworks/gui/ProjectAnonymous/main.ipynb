{
 "cells": [
  {
   "cell_type": "code",
   "execution_count": 7,
   "id": "a8e23c2f-60bf-468d-9c80-00bcf8a049ef",
   "metadata": {},
   "outputs": [],
   "source": [
    "def generate():\n",
    "    root2=Tk()\n",
    "    root2.title(\"Some Shit\")\n",
    "    b1=Button(root2,text=\"Virus Here\",command=generate,bg=\"yellow\").pack()\n",
    "    root2.mainloop()   \n",
    "from tkinter import *\n",
    "root=Tk()\n",
    "root.title(\"Anonymous\")\n",
    "root.geometry(\"400x400\")\n",
    "b1=Button(root,text=\"Hey click this!\",command=generate,bg=\"pink\").pack()\n",
    "root.mainloop()\n",
    " \n"
   ]
  }
 ],
 "metadata": {
  "kernelspec": {
   "display_name": "Python 3 (ipykernel)",
   "language": "python",
   "name": "python3"
  },
  "language_info": {
   "codemirror_mode": {
    "name": "ipython",
    "version": 3
   },
   "file_extension": ".py",
   "mimetype": "text/x-python",
   "name": "python",
   "nbconvert_exporter": "python",
   "pygments_lexer": "ipython3",
   "version": "3.11.8"
  }
 },
 "nbformat": 4,
 "nbformat_minor": 5
}
