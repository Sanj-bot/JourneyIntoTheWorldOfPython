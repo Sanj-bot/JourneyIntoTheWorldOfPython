{
 "cells": [
  {
   "cell_type": "code",
   "execution_count": null,
   "id": "ce07aeb7-36b6-4e85-88c2-b05f2fb1033e",
   "metadata": {},
   "outputs": [],
   "source": [
    "#DJ console using vertical sliders in tkinter\n"
   ]
  },
  {
   "cell_type": "code",
   "execution_count": 4,
   "id": "129cb5b3-53ce-4931-8f22-8371a147fa18",
   "metadata": {},
   "outputs": [
    {
     "ename": "NameError",
     "evalue": "name 'grid' is not defined",
     "output_type": "error",
     "traceback": [
      "\u001b[1;31m---------------------------------------------------------------------------\u001b[0m",
      "\u001b[1;31mNameError\u001b[0m                                 Traceback (most recent call last)",
      "Cell \u001b[1;32mIn[4], line 10\u001b[0m\n\u001b[0;32m      7\u001b[0m root\u001b[38;5;241m.\u001b[39mconfigure(bg\u001b[38;5;241m=\u001b[39m\u001b[38;5;124m'\u001b[39m\u001b[38;5;124mpink\u001b[39m\u001b[38;5;124m'\u001b[39m)\n\u001b[0;32m      9\u001b[0m vertical_slider1\u001b[38;5;241m=\u001b[39mScale(root,from_\u001b[38;5;241m=\u001b[39m\u001b[38;5;241m0\u001b[39m ,to\u001b[38;5;241m=\u001b[39m\u001b[38;5;241m300\u001b[39m,orient\u001b[38;5;241m=\u001b[39mVERTICAL)\n\u001b[1;32m---> 10\u001b[0m vertical_slider1\u001b[38;5;241m=\u001b[39m\u001b[43mgrid\u001b[49m(row\u001b[38;5;241m=\u001b[39m\u001b[38;5;241m0\u001b[39m,column\u001b[38;5;241m=\u001b[39m\u001b[38;5;241m0\u001b[39m)\n\u001b[0;32m     11\u001b[0m vertical_slider2\u001b[38;5;241m=\u001b[39mScale(root,from_\u001b[38;5;241m=\u001b[39m\u001b[38;5;241m0\u001b[39m ,to\u001b[38;5;241m=\u001b[39m\u001b[38;5;241m300\u001b[39m,orient\u001b[38;5;241m=\u001b[39mVERTICAL)\n\u001b[0;32m     12\u001b[0m vertical_slider2\u001b[38;5;241m=\u001b[39mgrid(row\u001b[38;5;241m=\u001b[39m\u001b[38;5;241m0\u001b[39m,column\u001b[38;5;241m=\u001b[39m\u001b[38;5;241m1\u001b[39m)\n",
      "\u001b[1;31mNameError\u001b[0m: name 'grid' is not defined"
     ]
    }
   ],
   "source": [
    "from tkinter import *\n",
    "\n",
    "root=Tk()\n",
    "root.title('My Box GUI')\n",
    "root.iconbitmap('data/rabbit.ico')\n",
    "root.geometry(\"500x500\")\n",
    "root.configure(bg='pink')\n",
    "\n",
    "vertical_slider1=Scale(root,from_=0 ,to=300,orient=VERTICAL)\n",
    "vertical_slider1=grid(row=0,column=0)\n",
    "vertical_slider2=Scale(root,from_=0 ,to=300,orient=VERTICAL)\n",
    "vertical_slider2=grid(row=0,column=1)\n",
    "vertical_slider3=Scale(root,from_=0 ,to=300,orient=VERTICAL)\n",
    "vertical_slider3=grid(row=0,column=2)\n",
    "vertical_slider4=Scale(root,from_=0 ,to=300,orient=VERTICAL)\n",
    "vertical_slider4=grid(row=0,column=3)\n",
    "vertical_slider5=Scale(root,from_=0 ,to=300,orient=VERTICAL)\n",
    "vertical_slider5=grid(row=0,column=4)\n",
    "\n",
    "\n",
    "\n",
    "def value():\n",
    "    ver_label=Label(root,text=vertical_slider1.get())\n",
    "    ver_label.grid(row=0,column=5)\n",
    "    ver_label=Label(root,text=vertical_slider2.get())\n",
    "    ver_label.grid(row=0,column=6)\n",
    "    ver_label=Label(root,text=vertical_slider3.get())\n",
    "    ver_label.grid(row=0,column=7)\n",
    "    ver_label=Label(root,text=vertical_slider4.get())\n",
    "    ver_label.grid(row=0,column=8)\n",
    "    ver_label=Label(root,text=vertical_slider5.get())\n",
    "    ver_label.grid(row=0,column=9)\n",
    "\n",
    "\n",
    "ver_button=Button(root,text='Click for value',command=value)\n",
    "ver_button.grid(row=2,column=10)\n",
    "\n",
    "\n",
    "\n",
    "\n",
    "\n",
    "\n",
    "\n",
    "\n",
    "root.mainloop()"
   ]
  }
 ],
 "metadata": {
  "kernelspec": {
   "display_name": "Python 3 (ipykernel)",
   "language": "python",
   "name": "python3"
  },
  "language_info": {
   "codemirror_mode": {
    "name": "ipython",
    "version": 3
   },
   "file_extension": ".py",
   "mimetype": "text/x-python",
   "name": "python",
   "nbconvert_exporter": "python",
   "pygments_lexer": "ipython3",
   "version": "3.11.8"
  }
 },
 "nbformat": 4,
 "nbformat_minor": 5
}
