{
 "cells": [
  {
   "cell_type": "code",
   "execution_count": null,
   "id": "ce07aeb7-36b6-4e85-88c2-b05f2fb1033e",
   "metadata": {},
   "outputs": [],
   "source": [
    "#DJ console using vertical sliders in tkinter\n"
   ]
  },
  {
   "cell_type": "code",
   "execution_count": 5,
   "id": "129cb5b3-53ce-4931-8f22-8371a147fa18",
   "metadata": {},
   "outputs": [],
   "source": [
    "from tkinter import *\n",
    "\n",
    "root=Tk()\n",
    "root.title('My Box GUI')\n",
    "root.iconbitmap('data/rabbit.ico')\n",
    "root.geometry(\"500x500\")\n",
    "root.configure(bg='pink')\n",
    "\n",
    "vertical_slider1=Scale(root,from_=0 ,to=300,orient=VERTICAL)\n",
    "vertical_slider1.grid(row=0,column=0)\n",
    "vertical_slider2=Scale(root,from_=0 ,to=300,orient=VERTICAL)\n",
    "vertical_slider2.grid(row=0,column=1)\n",
    "vertical_slider3=Scale(root,from_=0 ,to=300,orient=VERTICAL)\n",
    "vertical_slider3.grid(row=0,column=2)\n",
    "vertical_slider4=Scale(root,from_=0 ,to=300,orient=VERTICAL)\n",
    "vertical_slider4.grid(row=0,column=3)\n",
    "vertical_slider5=Scale(root,from_=0 ,to=300,orient=VERTICAL)\n",
    "vertical_slider5.grid(row=0,column=4)\n",
    "\n",
    "\n",
    "\n",
    "def value():\n",
    "    ver_label=Label(root,text=vertical_slider1.get())\n",
    "    ver_label.grid(row=0,column=5)\n",
    "    ver_label=Label(root,text=vertical_slider2.get())\n",
    "    ver_label.grid(row=0,column=6)\n",
    "    ver_label=Label(root,text=vertical_slider3.get())\n",
    "    ver_label.grid(row=0,column=7)\n",
    "    ver_label=Label(root,text=vertical_slider4.get())\n",
    "    ver_label.grid(row=0,column=8)\n",
    "    ver_label=Label(root,text=vertical_slider5.get())\n",
    "    ver_label.grid(row=0,column=9)\n",
    "\n",
    "\n",
    "ver_button=Button(root,text='Click for value',command=value)\n",
    "ver_button.grid(row=2,column=10)\n",
    "\n",
    "\n",
    "\n",
    "\n",
    "\n",
    "\n",
    "\n",
    "\n",
    "root.mainloop()"
   ]
  }
 ],
 "metadata": {
  "kernelspec": {
   "display_name": "Python 3 (ipykernel)",
   "language": "python",
   "name": "python3"
  },
  "language_info": {
   "codemirror_mode": {
    "name": "ipython",
    "version": 3
   },
   "file_extension": ".py",
   "mimetype": "text/x-python",
   "name": "python",
   "nbconvert_exporter": "python",
   "pygments_lexer": "ipython3",
   "version": "3.11.8"
  }
 },
 "nbformat": 4,
 "nbformat_minor": 5
}
