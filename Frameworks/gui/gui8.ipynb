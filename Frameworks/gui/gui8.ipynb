{
 "cells": [
  {
   "cell_type": "code",
   "execution_count": 6,
   "id": "2b094874-e97b-45ae-9f43-5047ed75a457",
   "metadata": {},
   "outputs": [],
   "source": [
    "#DROP DOWN MENUUU\n",
    "\n",
    "\n",
    "from tkinter import *\n",
    "\n",
    "root=Tk()\n",
    "root.title('My Box GUI')\n",
    "root.iconbitmap('data/rabbit.ico')\n",
    "root.geometry(\"300x600\")\n",
    "root.configure(bg='pink')\n",
    "\n",
    "def open():\n",
    "    my_label=Label(root,text=clicked.get())\n",
    "    my_label.grid(row=2,column=2,padx=10,pady=10,ipady=30)\n",
    "\n",
    "\n",
    "options=[\n",
    "    'iPhone XR',\n",
    "    'iPhone SE',\n",
    "    'iPhone X',\n",
    "    'iPhone X MAX',\n",
    "    'Google Pixel',\n",
    "]\n",
    "clicked=StringVar()\n",
    "clicked.set(options[0])\n",
    "drop=OptionMenu(root,clicked,*options)\n",
    "drop.grid(row=0,column=1,padx=10,pady=10)\n",
    "\n",
    "my_button=Button(root,text=\"SUBMIT\",command=open)\n",
    "my_button.grid(row=0,column=2,padx=10,pady=10)\n",
    "\n",
    "root.mainloop()"
   ]
  }
 ],
 "metadata": {
  "kernelspec": {
   "display_name": "Python 3 (ipykernel)",
   "language": "python",
   "name": "python3"
  },
  "language_info": {
   "codemirror_mode": {
    "name": "ipython",
    "version": 3
   },
   "file_extension": ".py",
   "mimetype": "text/x-python",
   "name": "python",
   "nbconvert_exporter": "python",
   "pygments_lexer": "ipython3",
   "version": "3.11.7"
  }
 },
 "nbformat": 4,
 "nbformat_minor": 5
}
