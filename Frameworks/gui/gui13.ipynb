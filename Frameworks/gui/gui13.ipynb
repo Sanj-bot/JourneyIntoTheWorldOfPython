{
 "cells": [
  {
   "cell_type": "code",
   "execution_count": 5,
   "id": "811c8df5-259f-464d-9b2c-5702352b5922",
   "metadata": {},
   "outputs": [],
   "source": [
    "# new window in tkinter\n",
    "\n",
    "from tkinter import *\n",
    "\n",
    "root=Tk()\n",
    "root.title('My Box GUI')\n",
    "root.iconbitmap('data/rabbit.ico')\n",
    "root.geometry(\"300x600\")\n",
    "root.configure(bg='pink')\n",
    "\n",
    "def open():\n",
    "    new=Toplevel()\n",
    "    new.title('NEW WINDOW')\n",
    "    new.iconbitmap('data/rabbit.ico')\n",
    "    new.geometry(\"400x400\")\n",
    "    label=Label(new,text=\"Hello this is new Window!!\")\n",
    "    label.pack()\n",
    "    b2=Button(new,text=\"EXIT\",command=new.quit)\n",
    "    b2.pack()\n",
    "    root.destroy()\n",
    "\n",
    "\n",
    "\n",
    "\n",
    "L1=Label(root,text=\"I am old window\")\n",
    "L1.pack()\n",
    "\n",
    "B1=Button(root,text=\"click this for New Window!\",command=open)\n",
    "B1.pack()\n",
    "\n"
   ]
  },
  {
   "cell_type": "code",
   "execution_count": null,
   "id": "6e1f4bcb-9968-480f-8e5f-ae8b1dcec42b",
   "metadata": {},
   "outputs": [],
   "source": []
  }
 ],
 "metadata": {
  "kernelspec": {
   "display_name": "Python 3 (ipykernel)",
   "language": "python",
   "name": "python3"
  },
  "language_info": {
   "codemirror_mode": {
    "name": "ipython",
    "version": 3
   },
   "file_extension": ".py",
   "mimetype": "text/x-python",
   "name": "python",
   "nbconvert_exporter": "python",
   "pygments_lexer": "ipython3",
   "version": "3.11.8"
  }
 },
 "nbformat": 4,
 "nbformat_minor": 5
}
