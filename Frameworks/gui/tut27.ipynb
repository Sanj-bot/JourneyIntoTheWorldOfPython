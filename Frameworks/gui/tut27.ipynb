{
 "cells": [
  {
   "cell_type": "code",
   "execution_count": 1,
   "id": "ff99413b-e6b6-4149-882b-3a4b9eb2dcf1",
   "metadata": {},
   "outputs": [],
   "source": [
    "from tkinter import *\n",
    "from tkinter import colorchooser\n",
    "root=Tk()\n",
    "root.title('My Box GUI')\n",
    "root.iconbitmap('data/rabbit.ico')\n",
    "root.geometry(\"300x600\")\n",
    "root.configure(bg='pink')\n",
    "\n",
    "def color_pick():\n",
    "    color_choose=colorchooser.askcolor()[1]\n",
    "    mylabel=Label(root,text=color_choose,font=('Helvetica',18),bg=color_choose)\n",
    "    mylabel.pack()\n",
    "    root.configure(bg=color_choose)\n",
    "\n",
    "\n",
    "\n",
    "b1=Button(root,text=\"Choose a color\", font=('Arial Black', 20), command=color_pick)\n",
    "b1.pack()\n",
    "root.mainloop()"
   ]
  },
  {
   "cell_type": "code",
   "execution_count": null,
   "id": "44431c7b-6549-44ee-865f-6778682ecd70",
   "metadata": {},
   "outputs": [],
   "source": [
    "#can be further used to build a paint application\n"
   ]
  }
 ],
 "metadata": {
  "kernelspec": {
   "display_name": "Python 3 (ipykernel)",
   "language": "python",
   "name": "python3"
  },
  "language_info": {
   "codemirror_mode": {
    "name": "ipython",
    "version": 3
   },
   "file_extension": ".py",
   "mimetype": "text/x-python",
   "name": "python",
   "nbconvert_exporter": "python",
   "pygments_lexer": "ipython3",
   "version": "3.11.8"
  }
 },
 "nbformat": 4,
 "nbformat_minor": 5
}
