{
 "cells": [
  {
   "cell_type": "code",
   "execution_count": null,
   "id": "fd8bb023-6b0c-43f7-be60-160aef91b66a",
   "metadata": {},
   "outputs": [],
   "source": [
    "#crating menu with radio buttons\n",
    "\n"
   ]
  },
  {
   "cell_type": "code",
   "execution_count": 12,
   "id": "a4e186e9-596f-415c-a752-c8c119803624",
   "metadata": {},
   "outputs": [],
   "source": [
    "from tkinter import *\n",
    "root=Tk()\n",
    "root.title('My Box GUI')\n",
    "root.iconbitmap('data/rabbit.ico')\n",
    "root.geometry(\"300x600\")\n",
    "root.configure(bg='pink')\n",
    "\n",
    "\n",
    "PRODUCT=[\n",
    "    ('Microsoft Surface','Microsoft Surface'),\n",
    "    ('ASUS Zenfone','ASUS Zenfone'),\n",
    "    ('Google Pixel','Google Pixel'),\n",
    "    ('HP omen','HP omen'),\n",
    "    ('Apple iphone SE2','Apple iphone SE2'),\n",
    "    ('BOSE q3 Headphones','BOSE q3 Headphones')\n",
    "    \n",
    "    \n",
    "]\n",
    "\n",
    "choise=StringVar()\n",
    "choise.set('Microsoft Surface')\n",
    "\n",
    "\n",
    "for text,mode in PRODUCT:\n",
    "    Radiobutton(root,text=text,variable=choise,value=mode,bg='grey').pack()\n",
    "\n",
    "\n",
    "def clicked(value):\n",
    "    my_label=Label(root,text=value,bg='green')\n",
    "    my_label.pack()\n",
    "\n",
    "\n",
    "mybutton=Button(root,text=\"Buy NOW!!\",command=lambda : clicked(choise.get())).pack()\n",
    "\n",
    "\n",
    "\n",
    "\n",
    "\n",
    "\n",
    "\n",
    "\n",
    "root.mainloop()\n",
    "\n",
    "\n"
   ]
  }
 ],
 "metadata": {
  "kernelspec": {
   "display_name": "Python 3 (ipykernel)",
   "language": "python",
   "name": "python3"
  },
  "language_info": {
   "codemirror_mode": {
    "name": "ipython",
    "version": 3
   },
   "file_extension": ".py",
   "mimetype": "text/x-python",
   "name": "python",
   "nbconvert_exporter": "python",
   "pygments_lexer": "ipython3",
   "version": "3.11.7"
  }
 },
 "nbformat": 4,
 "nbformat_minor": 5
}
