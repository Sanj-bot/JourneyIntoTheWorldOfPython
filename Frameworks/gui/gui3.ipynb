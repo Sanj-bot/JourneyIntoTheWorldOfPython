{
 "cells": [
  {
   "cell_type": "code",
   "execution_count": 1,
   "id": "767366c4-5171-4b2f-89a2-da78e7a59d94",
   "metadata": {},
   "outputs": [],
   "source": [
    "from tkinter import *\n",
    "root=Tk()\n",
    "root.title(\"MY GUI APP\")\n",
    "root.iconbitmap(\"data/star.ico\")\n",
    "root.geometry(\"500x500\")\n",
    "\n",
    "my_label=Label(root,text=\"My new GUI app\")\n",
    "my_label2=Label(root,text=\"This is line 2\")\n",
    "my_label.grid(row=0,column=0)\n",
    "my_label2.grid(row=2,column=2)\n",
    "root.mainloop()"
   ]
  }
 ],
 "metadata": {
  "kernelspec": {
   "display_name": "Python 3 (ipykernel)",
   "language": "python",
   "name": "python3"
  },
  "language_info": {
   "codemirror_mode": {
    "name": "ipython",
    "version": 3
   },
   "file_extension": ".py",
   "mimetype": "text/x-python",
   "name": "python",
   "nbconvert_exporter": "python",
   "pygments_lexer": "ipython3",
   "version": "3.11.7"
  }
 },
 "nbformat": 4,
 "nbformat_minor": 5
}
