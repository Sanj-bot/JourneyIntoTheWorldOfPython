{
 "cells": [
  {
   "cell_type": "code",
   "execution_count": 1,
   "id": "2b094874-e97b-45ae-9f43-5047ed75a457",
   "metadata": {},
   "outputs": [
    {
     "ename": "NameError",
     "evalue": "name 'options' is not defined",
     "output_type": "error",
     "traceback": [
      "\u001b[1;31m---------------------------------------------------------------------------\u001b[0m",
      "\u001b[1;31mNameError\u001b[0m                                 Traceback (most recent call last)",
      "Cell \u001b[1;32mIn[1], line 25\u001b[0m\n\u001b[0;32m     17\u001b[0m Options\u001b[38;5;241m=\u001b[39m[\n\u001b[0;32m     18\u001b[0m     \u001b[38;5;124m'\u001b[39m\u001b[38;5;124miPhone XR\u001b[39m\u001b[38;5;124m'\u001b[39m,\n\u001b[0;32m     19\u001b[0m     \u001b[38;5;124m'\u001b[39m\u001b[38;5;124miPhone SE\u001b[39m\u001b[38;5;124m'\u001b[39m,\n\u001b[1;32m   (...)\u001b[0m\n\u001b[0;32m     22\u001b[0m     \u001b[38;5;124m'\u001b[39m\u001b[38;5;124mGoogle Pixel\u001b[39m\u001b[38;5;124m'\u001b[39m\n\u001b[0;32m     23\u001b[0m ]\n\u001b[0;32m     24\u001b[0m clicked\u001b[38;5;241m=\u001b[39mStringVar()\n\u001b[1;32m---> 25\u001b[0m clicked\u001b[38;5;241m.\u001b[39mset(\u001b[43moptions\u001b[49m[\u001b[38;5;241m0\u001b[39m])\n\u001b[0;32m     26\u001b[0m drop\u001b[38;5;241m=\u001b[39mOptionMenu(root,click,clicked,\u001b[38;5;241m*\u001b[39moptions)\n\u001b[0;32m     27\u001b[0m drop\u001b[38;5;241m.\u001b[39mgrid(row\u001b[38;5;241m=\u001b[39m\u001b[38;5;241m0\u001b[39m,column\u001b[38;5;241m=\u001b[39m\u001b[38;5;241m1\u001b[39m,padx\u001b[38;5;241m=\u001b[39m\u001b[38;5;241m10\u001b[39m,pady\u001b[38;5;241m=\u001b[39m\u001b[38;5;241m10\u001b[39m)\n",
      "\u001b[1;31mNameError\u001b[0m: name 'options' is not defined"
     ]
    }
   ],
   "source": [
    "#DROP DOWN MENUUU\n",
    "\n",
    "\n",
    "from tkinter import *\n",
    "\n",
    "root=Tk()\n",
    "root.title('My Box GUI')\n",
    "root.iconbitmap('data/rabbit.ico')\n",
    "root.geometry(\"300x600\")\n",
    "root.configure(bg='pink')\n",
    "\n",
    "def open():\n",
    "    my_label=Label(root,text=click.get())\n",
    "    my_label.grid(row=2,column=2,padx=10,pady=30)\n",
    "\n",
    "\n",
    "Options=[\n",
    "    'iPhone XR',\n",
    "    'iPhone SE',\n",
    "    'iPhone X',\n",
    "    'iPhone X MAX',\n",
    "    'Google Pixel'\n",
    "]\n",
    "clicked=StringVar()\n",
    "clicked.set(options[0])\n",
    "drop=OptionMenu(root,click,clicked,*options)\n",
    "drop.grid(row=0,column=1,padx=10,pady=10)\n",
    "\n",
    "my_button=Button(root,text=\"SUBMIT\",command=open)\n",
    "my_button.grid(row=0,column=2,padx=10,ipady=10)\n",
    "\n",
    "\n",
    "\n",
    "\n",
    "\n",
    "\n",
    "\n",
    "\n",
    "\n",
    "\n",
    "\n",
    "\n",
    "root.mainloop()"
   ]
  }
 ],
 "metadata": {
  "kernelspec": {
   "display_name": "Python 3 (ipykernel)",
   "language": "python",
   "name": "python3"
  },
  "language_info": {
   "codemirror_mode": {
    "name": "ipython",
    "version": 3
   },
   "file_extension": ".py",
   "mimetype": "text/x-python",
   "name": "python",
   "nbconvert_exporter": "python",
   "pygments_lexer": "ipython3",
   "version": "3.11.8"
  }
 },
 "nbformat": 4,
 "nbformat_minor": 5
}
