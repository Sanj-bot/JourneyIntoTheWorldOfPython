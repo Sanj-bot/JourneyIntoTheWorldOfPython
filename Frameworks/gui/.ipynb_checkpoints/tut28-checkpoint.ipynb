{
 "cells": [
  {
   "cell_type": "code",
   "execution_count": 2,
   "id": "25623733-d96b-4ae0-a1d5-42df10cdd4de",
   "metadata": {},
   "outputs": [],
   "source": [
    "from tkinter import *\n",
    "from tkinter import colorchooser\n",
    "root=Tk()\n",
    "root.title('My Box GUI')\n",
    "root.iconbitmap('data/rabbit.ico')\n",
    "root.geometry(\"300x600\")\n",
    "root.configure(bg='pink')\n",
    "\n",
    "def color_pick():\n",
    "    color_choose=colorchooser.askcolor()[1]\n",
    "    mylabel=Label(root,text=color_choose,font=('Helvetica',18),bg=color_choose)\n",
    "    mylabel.pack()\n",
    "\n",
    "\n",
    "\n",
    "\n",
    "b1=Button(root,text=\"Choose a color\", font=('Arial Black', 20), command=color_pick)\n",
    "b1.pack()\n",
    "root.mainloop()"
   ]
  },
  {
   "cell_type": "code",
   "execution_count": null,
   "id": "f2f2b461-eb91-404f-9eab-4e5e2010b42e",
   "metadata": {},
   "outputs": [],
   "source": []
  },
  {
   "cell_type": "code",
   "execution_count": null,
   "id": "ab3b6d5b-00e5-4571-a61b-d7de0c819d86",
   "metadata": {},
   "outputs": [],
   "source": []
  },
  {
   "cell_type": "code",
   "execution_count": null,
   "id": "4bfa132c-aa9f-44b3-9c6e-a5c4445ccfc6",
   "metadata": {},
   "outputs": [],
   "source": []
  }
 ],
 "metadata": {
  "kernelspec": {
   "display_name": "Python 3 (ipykernel)",
   "language": "python",
   "name": "python3"
  },
  "language_info": {
   "codemirror_mode": {
    "name": "ipython",
    "version": 3
   },
   "file_extension": ".py",
   "mimetype": "text/x-python",
   "name": "python",
   "nbconvert_exporter": "python",
   "pygments_lexer": "ipython3",
   "version": "3.11.8"
  }
 },
 "nbformat": 4,
 "nbformat_minor": 5
}
