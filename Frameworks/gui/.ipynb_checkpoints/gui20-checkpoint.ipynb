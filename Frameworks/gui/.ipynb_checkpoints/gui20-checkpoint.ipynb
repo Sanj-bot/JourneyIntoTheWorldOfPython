{
 "cells": [
  {
   "cell_type": "code",
   "execution_count": 9,
   "id": "0da438e6-be8b-4766-bb74-b5046130b52a",
   "metadata": {},
   "outputs": [],
   "source": [
    "#Lottery machine using random\n",
    "from tkinter import *\n",
    "from PIL import Image, ImageTk\n",
    "from random import randint\n",
    "root=Tk()\n",
    "root.title('My Box GUI')\n",
    "root.iconbitmap('data/rabbit.ico')\n",
    "root.geometry(\"300x600\")\n",
    "root.configure(bg='pink')\n",
    "\n",
    "def pick():\n",
    "    lst=[\n",
    "        'P1',\n",
    "        'P2',\n",
    "        'P3',\n",
    "        'P4',\n",
    "        'P5',\n",
    "        'P6',\n",
    "        'P7',\n",
    "        'P8',\n",
    "        'P1',\n",
    "        'P1',\n",
    "        'P1'\n",
    "    ]\n",
    "    entry_set=set(lst)    \n",
    "    unique_list=list(entry_set)\n",
    "    our_num=len(unique_list)-1\n",
    "    rand=randint(0,our_num)\n",
    "    winner_label=Label(root,text=unique_list[rand],font=('helvetica',30))\n",
    "    winner_label.pack(pady=20)\n",
    "\n",
    "#label and button\n",
    "poster_label=Label(root,text=\"RANDOM WINNER\", font=('Arial Black',25))\n",
    "poster_label.pack(padx=10,pady=10)\n",
    "winnerbutton=Button(root,text=\"PICK YOUR WINNER\", command=pick,font=('Arial Black',25))\n",
    "winnerbutton.pack(pady=20)\n",
    "\n",
    "\n",
    "root.mainloop()"
   ]
  },
  {
   "cell_type": "code",
   "execution_count": null,
   "id": "4eba837e-e5b6-48d8-839b-7da249b1cfe9",
   "metadata": {
    "editable": true,
    "slideshow": {
     "slide_type": ""
    },
    "tags": []
   },
   "outputs": [],
   "source": [
    "#pyinstaller.exe --onefile gui20.py"
   ]
  }
 ],
 "metadata": {
  "kernelspec": {
   "display_name": "Python 3 (ipykernel)",
   "language": "python",
   "name": "python3"
  },
  "language_info": {
   "codemirror_mode": {
    "name": "ipython",
    "version": 3
   },
   "file_extension": ".py",
   "mimetype": "text/x-python",
   "name": "python",
   "nbconvert_exporter": "python",
   "pygments_lexer": "ipython3",
   "version": "3.11.8"
  }
 },
 "nbformat": 4,
 "nbformat_minor": 5
}
