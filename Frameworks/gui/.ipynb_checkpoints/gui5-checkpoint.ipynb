{
 "cells": [
  {
   "cell_type": "code",
   "execution_count": 1,
   "id": "1d9a6723-1409-45e4-b96b-d5f4cea8a31b",
   "metadata": {},
   "outputs": [],
   "source": [
    "#displaying images using label python\n",
    "from tkinter import *\n",
    "from PIL import Image, ImageTk\n",
    "\n",
    "mahmudul_root=Tk()\n",
    "mahmudul_root.geometry(\"455x244\")\n",
    "image=Image.open(\"images\\one.jpg\")\n",
    "photo=ImageTk.PhotoImage(image)\n",
    "varul_label=Label(image=photo)\n",
    "varun_label=Label(image=photo)\n",
    "mahmudul_root.mainloop()"
   ]
  },
  {
   "cell_type": "code",
   "execution_count": 2,
   "id": "39d0404d-41f4-4a7d-9530-79561bc13848",
   "metadata": {},
   "outputs": [
    {
     "name": "stdout",
     "output_type": "stream",
     "text": [
      "hello\n"
     ]
    }
   ],
   "source": [
    "print(\"hello\")"
   ]
  }
 ],
 "metadata": {
  "kernelspec": {
   "display_name": "Python 3 (ipykernel)",
   "language": "python",
   "name": "python3"
  },
  "language_info": {
   "codemirror_mode": {
    "name": "ipython",
    "version": 3
   },
   "file_extension": ".py",
   "mimetype": "text/x-python",
   "name": "python",
   "nbconvert_exporter": "python",
   "pygments_lexer": "ipython3",
   "version": "3.11.8"
  }
 },
 "nbformat": 4,
 "nbformat_minor": 5
}
