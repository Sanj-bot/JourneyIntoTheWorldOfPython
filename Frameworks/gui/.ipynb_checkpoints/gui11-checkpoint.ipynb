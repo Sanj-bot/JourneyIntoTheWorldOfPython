{
 "cells": [
  {
   "cell_type": "code",
   "execution_count": null,
   "id": "ce07aeb7-36b6-4e85-88c2-b05f2fb1033e",
   "metadata": {},
   "outputs": [],
   "source": [
    "#DJ console using vertical sliders in tkinter\n"
   ]
  },
  {
   "cell_type": "code",
   "execution_count": null,
   "id": "129cb5b3-53ce-4931-8f22-8371a147fa18",
   "metadata": {},
   "outputs": [],
   "source": []
  }
 ],
 "metadata": {
  "kernelspec": {
   "display_name": "Python 3 (ipykernel)",
   "language": "python",
   "name": "python3"
  },
  "language_info": {
   "codemirror_mode": {
    "name": "ipython",
    "version": 3
   },
   "file_extension": ".py",
   "mimetype": "text/x-python",
   "name": "python",
   "nbconvert_exporter": "python",
   "pygments_lexer": "ipython3",
   "version": "3.11.8"
  }
 },
 "nbformat": 4,
 "nbformat_minor": 5
}
