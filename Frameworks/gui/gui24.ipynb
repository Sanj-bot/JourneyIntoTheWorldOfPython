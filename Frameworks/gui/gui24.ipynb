{
 "cells": [
  {
   "cell_type": "code",
   "execution_count": 15,
   "id": "96d2a4cf-8186-4b10-87cb-235efa11537c",
   "metadata": {
    "editable": true,
    "slideshow": {
     "slide_type": ""
    },
    "tags": []
   },
   "outputs": [],
   "source": [
    "#keyboard mouse binding methods\n",
    "\n",
    "from tkinter import *\n",
    "\n",
    "root=Tk()\n",
    "root.title('My Box GUI')\n",
    "root.iconbitmap('data/rabbit.ico')\n",
    "root.geometry(\"300x600\")\n",
    "root.configure(bg='pink')\n",
    "\n",
    "\n",
    "def event_click(event):\n",
    "    #l1=Label(root,text=\"You just clicked something!\")\n",
    "    #l1.pack()\n",
    "    l2=Label(root,text=event.char)\n",
    "    l2.pack()\n",
    "    \n",
    "#format\n",
    "#b1.bind(\"<event>\",action)\n",
    "#<Enter>,<FocusIn>,<Leave>,<Return>,<Key>\n",
    "#press tab then enter char values\n",
    "#buttons\n",
    "b1=Button(root,text=\"Hit it!\")\n",
    "b1.bind(\"<Key>\",event_click)\n",
    "b1.pack(pady=30)\n",
    "\n",
    "\n",
    "\n",
    "\n",
    "\n",
    "root.mainloop()"
   ]
  },
  {
   "cell_type": "code",
   "execution_count": null,
   "id": "1b991363-62f7-4914-8e8e-75b49f776d4b",
   "metadata": {
    "editable": true,
    "slideshow": {
     "slide_type": ""
    },
    "tags": []
   },
   "outputs": [],
   "source": []
  }
 ],
 "metadata": {
  "kernelspec": {
   "display_name": "Python 3 (ipykernel)",
   "language": "python",
   "name": "python3"
  },
  "language_info": {
   "codemirror_mode": {
    "name": "ipython",
    "version": 3
   },
   "file_extension": ".py",
   "mimetype": "text/x-python",
   "name": "python",
   "nbconvert_exporter": "python",
   "pygments_lexer": "ipython3",
   "version": "3.11.8"
  }
 },
 "nbformat": 4,
 "nbformat_minor": 5
}
