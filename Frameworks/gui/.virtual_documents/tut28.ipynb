#panned windows in tkinter
from tkinter import *
root=Tk()
root.title('My Box GUI')
root.iconbitmap('data/rabbit.ico')
root.geometry("700x700")
root.configure(bg='pink')

panel_1=PanedWindow(bd=4, relief="raised", bg='red')
panel_1.pack(fill=BOTH, expand=1)

left_panel=Label(panel_1,text='Left Panning')
panel_1.add(left_panel)


panel_2=PanedWindow(panel_1, orient=VERTICAL, bd=4,relief='raised', bg='blue')
panel_1.add(panel_2)


#top panel
top_panel=Label(panel_2, text="Top Panning")
panel_2.add(top_panel)

bottom_panel=Label(panel_2, text="Botton Panning")
panel_2.add(bottom_panel)

root.mainloop()









