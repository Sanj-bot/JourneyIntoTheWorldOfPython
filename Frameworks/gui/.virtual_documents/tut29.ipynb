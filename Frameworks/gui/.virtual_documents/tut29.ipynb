#using frames inside menu app
from tkinter import *
from tkinter import messagebox

root=Tk()
root.title('My Box GUI')
root.iconbitmap('data/rabbit.ico')
root.geometry("500x500")
root.configure(bg='pink')

def new():
    hide_everything()
    file_frame.pack()
def delete():
    
    messagebox.showwarning()
def exit():
    root.destroy()
def cut():
    hide_everything()
    edit_frame.pack()
def paste():
    pass
def copy():
    pass
def more():
    hide_everything()
    option_frame.pack()
def about():
    l1=Label(option_menu,fg='black', text="This is a free app by Coder Mimo")
    l1.pack()
def help():
    pass
    
def hide_everything():
    file_frame.pack_forget()
    edit_frame.pack_forget()
    option_frame.pack_forget()


my_menu=Menu(root)
root.config(menu=my_menu)
# file menu 
file_menu=Menu(my_menu, tearoff=0)
my_menu.add_cascade(label="File", menu=file_menu)
file_menu.add_command(label="New", command=new)
file_menu.add_command(label="Delete", command=delete)
file_menu.add_command(label="Exit", command=exit)
#file_menu.add_seperator()
#edit menu (2)
edit_menu=Menu(my_menu, tearoff=0)
my_menu.add_cascade(label="Edit", menu=edit_menu)
edit_menu.add_command(label="Cut", command=cut)
edit_menu.add_command(label="Paste", command=paste)
edit_menu.add_command(label="Copy", command=copy)
#edit_menu.add_seperator()
#option menu
option_menu=Menu(my_menu,tearoff=0)
my_menu.add_cascade(label='Options', menu=option_menu)
option_menu.add_command(label='More', command=more)
option_menu.add_command(label='help', command=help)
option_menu.add_command(label='About', command=about)
#option_menu.add_seperator()
#let us make some frame!!!
file_frame=Frame(root,width=500, height=500, bg='green')
edit_frame=Frame(root,width=500,height=500, bg='red')
option_frame=Frame(root,width=500,height=500, bg='yellow')
root.mainloop()


import tkinter as tk
from tkinter import messagebox

root = tk.Tk()
root.title('My Box GUI')
root.iconbitmap('data/rabbit.ico')  # Assuming the icon file exists
root.geometry("300x600")
root.configure(bg='pink')

def new():
    file_frame.pack()  # Show the file frame
    edit_frame.pack_forget()  # Hide other frames
    option_frame.pack_forget()

def delete():
    messagebox.showwarning("Warning", "Are you sure you want to delete?")

def exit():
    root.destroy()

def paste():
    pass

def copy():
    pass

def about():
    l1 = tk.Label(option_frame, fg='black', text="This is a free app by XYZ developer")
    l1.pack()  # Pack the label within the option_frame

def help():
    pass

my_menu = tk.Menu(root)
root.config(menu=my_menu)

# File Menu
file_menu = tk.Menu(my_menu, tearoff=0)
my_menu.add_cascade(label="File", menu=file_menu)
file_menu.add_command(label="New", command=new)
file_menu.add_command(label="Delete", command=delete)
file_menu.add_command(label="Exit", command=exit)
file_menu.add_separator()

# Edit Menu
edit_menu = tk.Menu(my_menu, tearoff=1)
my_menu.add_cascade(label="Edit Menu", menu=edit_menu)
edit_menu.add_command(label="Cut", command=cut)  # Assuming you have a 'cut' function defined
edit_menu.add_command(label="Paste", command=paste)
edit_menu.add_command(label="Copy", command=copy)
edit_menu.add_separator()

# Options Menu
option_menu = tk.Menu(my_menu, tearoff=0)
my_menu.add_cascade(label='Options', menu=option_menu)
option_menu.add_command(label='More', command=more)  # Consider defining a 'more' function if needed
option_menu.add_command(label='Help', command=help)
option_menu.add_command(label='About', command=about)
option_menu.add_separator()

# Frames (initially hidden)
file_frame = tk.Frame(root, width=500, height=500, bg='green')
edit_frame = tk.Frame(root, width=500, height=500, bg='red')
option_frame = tk.Frame(root, width=500, height=500, bg='yellow')

# Initially hide all frames
file_frame.pack_forget()
edit_frame.pack_forget()
option_frame.pack_forget()

root.mainloop()



