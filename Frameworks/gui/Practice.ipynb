{
 "cells": [
  {
   "cell_type": "code",
   "execution_count": 28,
   "id": "6900f1af-8c74-46ee-aadb-81db706762b0",
   "metadata": {},
   "outputs": [],
   "source": [
    "#Notes management system\n",
    "\n",
    "from tkinter import *\n",
    "root =Tk()\n",
    "\n",
    "root.title(\"Notes of the subjects!\")\n",
    "root.geometry(\"200x500\")\n",
    "\n",
    "\n",
    "#heading\n",
    "heading=Label(root,text=\"The following subjects notes we have:\",bg=\"pink\",).grid(row=0,column=0)\n",
    "def AI():\n",
    "    AI2=Label(root,text=\"1. Welcome to AI!\", bg=\"pink\").grid(row=2,column=0)\n",
    "    \n",
    "def AIInput1():\n",
    "    AIInput=Label(root,text=\"Syllabus of chapter \"+AIInput.get()).grid(row=4,column=0)\n",
    "\n",
    "\n",
    "\n",
    "       \n",
    "AIInput=Entry(root,width=100, bg='pink').grid(row=3,column=0)\n",
    "AI=Button(root,text=\"Artificial Intelligence\",bg=\"pink\", command=AI).grid(row=1,column=0)\n",
    "#3,0\n",
    "\n",
    "\n",
    "\n",
    "\n",
    "\n",
    "\n",
    "\n",
    "\n",
    "\n",
    "\n",
    "\n",
    "\n",
    "root.mainloop()\n"
   ]
  },
  {
   "cell_type": "code",
   "execution_count": null,
   "id": "153b5e08-2842-49be-9ed6-0194e1a2aca5",
   "metadata": {},
   "outputs": [],
   "source": [
    "print(a)"
   ]
  },
  {
   "cell_type": "code",
   "execution_count": null,
   "id": "7c0caafc-5e74-4986-9c87-65501db49023",
   "metadata": {},
   "outputs": [],
   "source": []
  }
 ],
 "metadata": {
  "kernelspec": {
   "display_name": "Python 3 (ipykernel)",
   "language": "python",
   "name": "python3"
  },
  "language_info": {
   "codemirror_mode": {
    "name": "ipython",
    "version": 3
   },
   "file_extension": ".py",
   "mimetype": "text/x-python",
   "name": "python",
   "nbconvert_exporter": "python",
   "pygments_lexer": "ipython3",
   "version": "3.11.8"
  }
 },
 "nbformat": 4,
 "nbformat_minor": 5
}
