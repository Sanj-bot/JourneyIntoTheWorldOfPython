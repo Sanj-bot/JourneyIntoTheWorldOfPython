{
 "cells": [
  {
   "cell_type": "code",
   "execution_count": null,
   "id": "d747fe1d-67f9-444e-9b92-e67ce17c4022",
   "metadata": {},
   "outputs": [],
   "source": [
    "#using frames and exit buttons in TKinter\n",
    "\n",
    "from tkinter import *\n",
    "root=Tk()\n",
    "root.title('My Box GUI')\n",
    "root.iconbitmap('data/rabbit.ico')\n",
    "root.geometry(\"400x400\")\n",
    "root.configure(bg='pink')\n",
    "\n",
    "frame=LabelFrame(root,text=\"This is a frame! \",padx=100,pady=100)\n",
    "frame.grid(padx=20,pady=20)\n",
    "\n",
    "def myclick():\n",
    "    label1=Label(frame,text=\"Hello USER!\",fg='blue')\n",
    "    label1.grid(row=10,column=5)\n",
    "def close_window():\n",
    "    frame.destroy()\n",
    "\n",
    "b1=Button(frame,text=\"Click Me!\",command=myclick)\n",
    "b1.grid(row=0,column=1)\n",
    "c=Button(frame,text=\"EXIT!\",command=close_window)\n",
    "         \n",
    "c.grid(row=0,column=3)\n",
    "\n",
    "root.mainloop()"
   ]
  },
  {
   "cell_type": "code",
   "execution_count": null,
   "id": "1d9c6d8a-8008-4cd6-9e63-725fdac2cf1d",
   "metadata": {},
   "outputs": [],
   "source": []
  }
 ],
 "metadata": {
  "kernelspec": {
   "display_name": "Python 3 (ipykernel)",
   "language": "python",
   "name": "python3"
  },
  "language_info": {
   "codemirror_mode": {
    "name": "ipython",
    "version": 3
   },
   "file_extension": ".py",
   "mimetype": "text/x-python",
   "name": "python",
   "nbconvert_exporter": "python",
   "pygments_lexer": "ipython3",
   "version": "3.11.8"
  }
 },
 "nbformat": 4,
 "nbformat_minor": 5
}
