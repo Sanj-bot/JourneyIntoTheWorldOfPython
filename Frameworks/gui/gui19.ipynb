{
 "cells": [
  {
   "cell_type": "code",
   "execution_count": null,
   "id": "40da6e09-4d87-4b9c-9fb8-d83546b2b855",
   "metadata": {},
   "outputs": [],
   "source": [
    "#matplotlib and numpy data in Tkinter application.\n",
    "from tkinter import *\n",
    "from PIL import Image, ImageTk\n",
    "import matplotlib.pyplot as plt\n",
    "import numpy as np\n",
    "\n",
    "root=Tk()\n",
    "root.title('Pie Chart')\n",
    "root.iconbitmap('data/rabbit.ico')\n",
    "root.geometry(\"500x500\")\n",
    "root.configure(bg='gray')\n",
    "  \n",
    "def graph():\n",
    "    exp_val=[1500,600,700,400,250]\n",
    "    exp_labels=['House rent','Internet Bill','Food','Fuel Charges','Others']\n",
    "    plt.pie(exp_val,labels=exp_labels,radius=1.5,autopct=\"%0.2f%%\")\n",
    "    plt.axis('equal')\n",
    "    plt.show()\n",
    "\n",
    "\n",
    "\n",
    "\n",
    "b1=Button(root,text=\"Click for result\",command=graph).pack()\n",
    "\n",
    "\n",
    "root.mainloop()\n"
   ]
  }
 ],
 "metadata": {
  "kernelspec": {
   "display_name": "Python 3 (ipykernel)",
   "language": "python",
   "name": "python3"
  },
  "language_info": {
   "codemirror_mode": {
    "name": "ipython",
    "version": 3
   },
   "file_extension": ".py",
   "mimetype": "text/x-python",
   "name": "python",
   "nbconvert_exporter": "python",
   "pygments_lexer": "ipython3",
   "version": "3.11.8"
  }
 },
 "nbformat": 4,
 "nbformat_minor": 5
}
