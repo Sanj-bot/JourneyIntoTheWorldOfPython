{
 "cells": [
  {
   "cell_type": "code",
   "execution_count": 2,
   "id": "57713b7e-20b3-4bca-bb0c-18d3e771e602",
   "metadata": {},
   "outputs": [
    {
     "ename": "AttributeError",
     "evalue": "'Menu' object has no attribute 'add_seperator'",
     "output_type": "error",
     "traceback": [
      "\u001b[1;31m---------------------------------------------------------------------------\u001b[0m",
      "\u001b[1;31mAttributeError\u001b[0m                            Traceback (most recent call last)",
      "Cell \u001b[1;32mIn[2], line 19\u001b[0m\n\u001b[0;32m     17\u001b[0m file_menu\u001b[38;5;241m.\u001b[39madd_command(label\u001b[38;5;241m=\u001b[39m\u001b[38;5;124m\"\u001b[39m\u001b[38;5;124mFolder\u001b[39m\u001b[38;5;124m\"\u001b[39m, command\u001b[38;5;241m=\u001b[39mmy_com)\n\u001b[0;32m     18\u001b[0m file_menu\u001b[38;5;241m.\u001b[39madd_command(label\u001b[38;5;241m=\u001b[39m\u001b[38;5;124m\"\u001b[39m\u001b[38;5;124mZiplock\u001b[39m\u001b[38;5;124m\"\u001b[39m, command\u001b[38;5;241m=\u001b[39mmy_com)\n\u001b[1;32m---> 19\u001b[0m \u001b[43mfile_menu\u001b[49m\u001b[38;5;241;43m.\u001b[39;49m\u001b[43madd_seperator\u001b[49m()\n\u001b[0;32m     22\u001b[0m \u001b[38;5;66;03m#edit menu (2)\u001b[39;00m\n\u001b[0;32m     23\u001b[0m edit_menu\u001b[38;5;241m=\u001b[39mMenu(my_menu, tearoff\u001b[38;5;241m=\u001b[39m\u001b[38;5;241m0\u001b[39m)\n",
      "\u001b[1;31mAttributeError\u001b[0m: 'Menu' object has no attribute 'add_seperator'"
     ]
    }
   ],
   "source": [
    "#using frames inside menu app\n",
    "from tkinter import *\n",
    "root=Tk()\n",
    "root.title('My Box GUI')\n",
    "root.iconbitmap('data/rabbit.ico')\n",
    "root.geometry(\"300x600\")\n",
    "root.configure(bg='pink')\n",
    "my_menu=Menu(root)\n",
    "root.config(menu=my_menu)\n",
    "# file menu (1)\n",
    "file_menu=Menu(my_menu, tearoff=0)\n",
    "my_menu.add_cascade(label=\"File\", menu=file_menu)\n",
    "file_menu.add_command(label=\"New\", command=new)\n",
    "file_menu.add_command(label=\"Delete\", command=delete)\n",
    "file_menu.add_command(label=\"Exit\", command=exit)\n",
    "file_menu.add_seperator()\n",
    "#edit menu (2)\n",
    "edit_menu=Menu(my_menu, tearoff=1)\n",
    "my_menu.add_cascade(label=\"Edit Menu\", menu=edit_menu)\n",
    "edit_menu.add_command(label=\"Cut\", command=cut)\n",
    "edit_menu.add_command(label=\"Paste\", command=paste)\n",
    "edit_menu.add_command(label=\"Copy\", command=copy)\n",
    "edit_menu.add_seperator()\n",
    "#option menu\n",
    "option_menu=Menu(my_menu,tearoff=0)\n",
    "my_menu.add_cascade(label='Options', menu=option_menu)\n",
    "option_menu.add_command(label='More', command=more)\n",
    "option_menu.add_command(label='help', command=help)\n",
    "option_menu.add_command(label='About', command=about)\n",
    "option_menu.add_seperator()\n",
    "#let us make some frame!!!\n",
    "file_frame=Frame(root,width=500, height=500, bg='green')\n",
    "edit_frame=Frame(root,width=500,height=500, bg='red')\n",
    "option_frame=Frame(root,width=500,height=500, bg='yellow')\n",
    "root.mainloop()"
   ]
  }
 ],
 "metadata": {
  "kernelspec": {
   "display_name": "Python 3 (ipykernel)",
   "language": "python",
   "name": "python3"
  },
  "language_info": {
   "codemirror_mode": {
    "name": "ipython",
    "version": 3
   },
   "file_extension": ".py",
   "mimetype": "text/x-python",
   "name": "python",
   "nbconvert_exporter": "python",
   "pygments_lexer": "ipython3",
   "version": "3.11.8"
  }
 },
 "nbformat": 4,
 "nbformat_minor": 5
}
