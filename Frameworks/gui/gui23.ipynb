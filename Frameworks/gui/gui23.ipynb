{
 "cells": [
  {
   "cell_type": "code",
   "execution_count": 1,
   "id": "ac88de80-8cd7-4638-9e8c-cc2a587346bd",
   "metadata": {
    "editable": true,
    "slideshow": {
     "slide_type": ""
    },
    "tags": []
   },
   "outputs": [
    {
     "name": "stdout",
     "output_type": "stream",
     "text": [
      "you have clicked something!\n",
      "you have clicked something!\n",
      "you have clicked something!\n",
      "you have clicked something!\n"
     ]
    }
   ],
   "source": [
    "#using classes and objects in Tkinter python\n",
    "\n",
    "from tkinter import *\n",
    "\n",
    "root=Tk()\n",
    "root.title('My Box GUI')\n",
    "root.iconbitmap('data/rabbit.ico')\n",
    "root.geometry(\"300x600\")\n",
    "root.configure(bg='pink')\n",
    "\n",
    "\n",
    "class Application():\n",
    "    def __init__(self,s1):\n",
    "        f1=Frame(s1)\n",
    "        f1.pack()\n",
    "\n",
    "        self.b1=Button(s1,text=\"Click\",command=self.click)\n",
    "        self.b1.pack(pady=10)\n",
    "\n",
    "    def click(self):\n",
    "        print(\"you have clicked something!\")\n",
    "        \n",
    "obj1=Application(root)\n",
    "\n",
    "  \n",
    "root.mainloop()"
   ]
  }
 ],
 "metadata": {
  "kernelspec": {
   "display_name": "Python 3 (ipykernel)",
   "language": "python",
   "name": "python3"
  },
  "language_info": {
   "codemirror_mode": {
    "name": "ipython",
    "version": 3
   },
   "file_extension": ".py",
   "mimetype": "text/x-python",
   "name": "python",
   "nbconvert_exporter": "python",
   "pygments_lexer": "ipython3",
   "version": "3.11.8"
  }
 },
 "nbformat": 4,
 "nbformat_minor": 5
}
