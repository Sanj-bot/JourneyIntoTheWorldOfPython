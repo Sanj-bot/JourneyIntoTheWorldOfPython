{
 "cells": [
  {
   "cell_type": "code",
   "execution_count": 14,
   "id": "439895e0-cc9f-4443-80ec-8246526e555e",
   "metadata": {},
   "outputs": [],
   "source": [
    "#message popup boxes in tkinter\n",
    "from tkinter import *\n",
    "from tkinter import messagebox\n",
    "\n",
    "root=Tk()\n",
    "root.title('POPUP BOX')\n",
    "# root.iconbitmap('apple.ico')\n",
    "root.geometry('400x400')\n",
    "root.configure(bg='pink')\n",
    "\n",
    "def popup1():\n",
    "    messagebox.showinfo(\"NEW WIN\",\"Hello\")\n",
    "def popup2():\n",
    "    messagebox.showerror(\"NEW WIN\",\"Hello\")\n",
    "def popup3():\n",
    "    messagebox.askokcancel(\"NEW WIN\",\"Hello\")\n",
    "def popup4():\n",
    "    messagebox.askquestion(\"NEW WIN\",\"Hello\")    \n",
    "def popup5():\n",
    "    messagebox.askyesno(\"NEW WIN\",\"Hello\")\n",
    "\n",
    "\n",
    "\n",
    "\n",
    "\n",
    "\n",
    "B1=Button(root,text=\"POPUP-1\",command=popup1)  \n",
    "B1.pack()\n",
    "B2=Button(root,text=\"POPUP-2\",command=popup2)  \n",
    "B2.pack()\n",
    "B3=Button(root,text=\"POPUP-3\",command=popup3)  \n",
    "B3.pack()\n",
    "B4=Button(root,text=\"POPUP-4\",command=popup4)  \n",
    "B4.pack()\n",
    "B5=Button(root,text=\"POPUP-5\",command=popup5)  \n",
    "B5.pack()\n",
    "\n",
    "\n",
    "root.mainloop()\n"
   ]
  }
 ],
 "metadata": {
  "kernelspec": {
   "display_name": "Python 3 (ipykernel)",
   "language": "python",
   "name": "python3"
  },
  "language_info": {
   "codemirror_mode": {
    "name": "ipython",
    "version": 3
   },
   "file_extension": ".py",
   "mimetype": "text/x-python",
   "name": "python",
   "nbconvert_exporter": "python",
   "pygments_lexer": "ipython3",
   "version": "3.11.7"
  }
 },
 "nbformat": 4,
 "nbformat_minor": 5
}
