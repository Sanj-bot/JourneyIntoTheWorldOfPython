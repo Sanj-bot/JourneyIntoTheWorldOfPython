{
 "cells": [
  {
   "cell_type": "code",
   "execution_count": 1,
   "id": "84e3a6d7-a6df-4752-8491-6df4a3bf9efb",
   "metadata": {},
   "outputs": [],
   "source": [
    "#input box or input fiends\n"
   ]
  },
  {
   "cell_type": "code",
   "execution_count": 4,
   "id": "5193b098-5c9e-4fe2-a52f-1e84f2c7c29d",
   "metadata": {},
   "outputs": [],
   "source": [
    "from tkinter import *\n",
    "root=Tk()\n",
    "root.title(\"MY BUTTON\")\n",
    "root.iconbitmap(\"data/star.ico\")\n",
    "root.geometry(\"500x500\")\n",
    "\n",
    "\n",
    "e=Entry(root,width=50,fg='red')\n",
    "e.grid(row=0,column=1)\n",
    "\n",
    "ee=Entry(root,width=30,fg='black')\n",
    "ee.grid(row=0,column=2)\n",
    "\n",
    "\n",
    "\n",
    "def clickme():\n",
    "    mylabel=Label(root,text=\"Hello \"+e.get())\n",
    "    mylabel.grid(row=3,column=1)\n",
    "    e.delete(0,END)\n",
    "def click2():\n",
    "    mylabel=Label(root,text=\"Hello \"+ee.get())\n",
    "    mylabel.grid(row=3,column=2)\n",
    "    ee.delete(0,END)\n",
    "mybutton=Button(root,text=\"Enter your name:\",padx=10,pady=10,bg='white',fg='green',command=clickme)\n",
    "mybutton.grid(row=2,column=1)\n",
    "mybutton2=Button(root,text=\"Enter your Last:\",padx=10,pady=10,bg='white',fg='green',command=click2)\n",
    "mybutton2.grid(row=2,column=2)\n",
    "root.mainloop()\n"
   ]
  },
  {
   "cell_type": "code",
   "execution_count": null,
   "id": "e7460c92-a4ae-4a33-acb9-68cb0b3ac185",
   "metadata": {},
   "outputs": [],
   "source": []
  }
 ],
 "metadata": {
  "kernelspec": {
   "display_name": "Python 3 (ipykernel)",
   "language": "python",
   "name": "python3"
  },
  "language_info": {
   "codemirror_mode": {
    "name": "ipython",
    "version": 3
   },
   "file_extension": ".py",
   "mimetype": "text/x-python",
   "name": "python",
   "nbconvert_exporter": "python",
   "pygments_lexer": "ipython3",
   "version": "3.11.8"
  }
 },
 "nbformat": 4,
 "nbformat_minor": 5
}
