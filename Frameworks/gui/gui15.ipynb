{
 "cells": [
  {
   "cell_type": "code",
   "execution_count": 14,
   "id": "90400b47-a708-4f16-96d7-451420f29d9d",
   "metadata": {},
   "outputs": [],
   "source": [
    "#opening file directories \n",
    "#tut 13 practice\n",
    "\n",
    "from tkinter import *\n",
    "from tkinter import filedialog\n",
    "from PIL import Image,ImageTk\n",
    "\n",
    "\n",
    "root=Tk()\n",
    "root.title('File Broswer')\n",
    "root.iconbitmap('data/rabbit.ico')\n",
    "root.geometry(\"300x600\")\n",
    "\n",
    "def files():\n",
    "    root.filename=filedialog.askopenfilename(initialdir='C:\\\\Users\\\\user\\\\Pictures\\\\badabillu',title=\"Select File\",filetypes=((\"All files\",\"*.*\"),(\"jpeg files\",\"*.png\")))\n",
    "\n",
    "\n",
    "\n",
    "b1=Button(root,text=\"FILE OPEN\",command=files)\n",
    "b1.pack()\n",
    "my_label=Label(root,text=\"ALL DONE!\")\n",
    "my_label.pack()\n",
    "\n",
    "\n",
    "\n",
    "\n",
    "\n",
    "\n",
    "\n",
    "\n",
    "\n",
    "\n",
    "\n",
    "\n",
    "                                             \n",
    "root.mainloop()"
   ]
  },
  {
   "cell_type": "code",
   "execution_count": null,
   "id": "8e5f32b3-ee5f-48fc-8db2-2338d271a0d3",
   "metadata": {},
   "outputs": [],
   "source": []
  }
 ],
 "metadata": {
  "kernelspec": {
   "display_name": "Python 3 (ipykernel)",
   "language": "python",
   "name": "python3"
  },
  "language_info": {
   "codemirror_mode": {
    "name": "ipython",
    "version": 3
   },
   "file_extension": ".py",
   "mimetype": "text/x-python",
   "name": "python",
   "nbconvert_exporter": "python",
   "pygments_lexer": "ipython3",
   "version": "3.11.7"
  }
 },
 "nbformat": 4,
 "nbformat_minor": 5
}
