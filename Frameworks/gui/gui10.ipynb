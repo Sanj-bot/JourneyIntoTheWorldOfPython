{
 "cells": [
  {
   "cell_type": "code",
   "execution_count": 1,
   "id": "43cf7bf1-e815-4bc4-8c93-1da686acf71b",
   "metadata": {},
   "outputs": [],
   "source": [
    "from tkinter import *\n",
    "\n",
    "root=Tk()\n",
    "root.title('My Box GUI')\n",
    "root.iconbitmap('data/rabbit.ico')\n",
    "root.geometry(\"500x600\")\n",
    "root.configure(bg='pink')\n",
    "\n",
    "\n",
    "vertical_slider=Scale(root,from_=0, to=250,orient=VERTICAL)\n",
    "vertical_slider.pack(anchor='w')\n",
    "\n",
    "horizontal_slider=Scale(root,from_=0,to=300,orient=HORIZONTAL)\n",
    "horizontal_slider.pack(anchor='w')\n",
    "\n",
    "\n",
    "def slider():\n",
    "    ver_label=Label(root,text=vertical_slider.get()).pack()\n",
    "    horizontal_label=Label(root,text=horizontal_slider.get()).pack()\n",
    "\n",
    "\n",
    "\n",
    "ver_button=Button(root,text=\"click for values!\",command=slider)\n",
    "ver_button.pack()\n",
    "\n",
    "root.mainloop()"
   ]
  },
  {
   "cell_type": "code",
   "execution_count": null,
   "id": "27131e7c-650d-40b1-9831-f5b5a055f84d",
   "metadata": {},
   "outputs": [],
   "source": []
  }
 ],
 "metadata": {
  "kernelspec": {
   "display_name": "Python 3 (ipykernel)",
   "language": "python",
   "name": "python3"
  },
  "language_info": {
   "codemirror_mode": {
    "name": "ipython",
    "version": 3
   },
   "file_extension": ".py",
   "mimetype": "text/x-python",
   "name": "python",
   "nbconvert_exporter": "python",
   "pygments_lexer": "ipython3",
   "version": "3.11.7"
  }
 },
 "nbformat": 4,
 "nbformat_minor": 5
}
