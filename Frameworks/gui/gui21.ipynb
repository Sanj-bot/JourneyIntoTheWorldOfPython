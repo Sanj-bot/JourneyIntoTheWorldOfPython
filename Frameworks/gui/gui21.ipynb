{
 "cells": [
  {
   "cell_type": "code",
   "execution_count": null,
   "id": "9811df06-70e0-45f0-9bd4-dca8a4fb983c",
   "metadata": {},
   "outputs": [],
   "source": [
    "from tkinter import *\n",
    "\n",
    "root=Tk()\n",
    "root.title('My Box GUI')\n",
    "root.iconbitmap('data/rabbit.ico')\n",
    "root.geometry(\"300x600\")\n",
    "root.configure(bg='pink')\n",
    "  \n",
    "root.mainloop()"
   ]
  }
 ],
 "metadata": {
  "kernelspec": {
   "display_name": "Python 3 (ipykernel)",
   "language": "python",
   "name": "python3"
  },
  "language_info": {
   "codemirror_mode": {
    "name": "ipython",
    "version": 3
   },
   "file_extension": ".py",
   "mimetype": "text/x-python",
   "name": "python",
   "nbconvert_exporter": "python",
   "pygments_lexer": "ipython3",
   "version": "3.11.8"
  }
 },
 "nbformat": 4,
 "nbformat_minor": 5
}
