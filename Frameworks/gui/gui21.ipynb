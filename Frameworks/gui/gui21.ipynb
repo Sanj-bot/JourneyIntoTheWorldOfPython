{
 "cells": [
  {
   "cell_type": "code",
   "execution_count": null,
   "id": "9811df06-70e0-45f0-9bd4-dca8a4fb983c",
   "metadata": {},
   "outputs": [],
   "source": [
    "#Executable python Apps on windows\n",
    "from tkinter import *\n",
    "\n",
    "root=Tk()\n",
    "root.title('My Box GUI')\n",
    "root.iconbitmap('data/rabbit.ico')\n",
    "root.geometry(\"300x600\")\n",
    "root.configure(bg='pink')\n",
    "  \n",
    "root.mainloop()"
   ]
  },
  {
   "cell_type": "code",
   "execution_count": 1,
   "id": "603fcc52-81ad-4941-9491-1ca83d47f0f7",
   "metadata": {},
   "outputs": [
    {
     "name": "stdout",
     "output_type": "stream",
     "text": [
      "Collecting pyinstallerNote: you may need to restart the kernel to use updated packages.\n",
      "\n",
      "  Downloading pyinstaller-6.5.0-py3-none-win_amd64.whl.metadata (8.3 kB)\n",
      "Requirement already satisfied: setuptools>=42.0.0 in c:\\users\\user\\appdata\\local\\programs\\python\\python311\\lib\\site-packages (from pyinstaller) (69.1.1)\n",
      "Collecting altgraph (from pyinstaller)\n",
      "  Downloading altgraph-0.17.4-py2.py3-none-any.whl.metadata (7.3 kB)\n",
      "Collecting pyinstaller-hooks-contrib>=2024.3 (from pyinstaller)\n",
      "  Downloading pyinstaller_hooks_contrib-2024.3-py2.py3-none-any.whl.metadata (16 kB)\n",
      "Requirement already satisfied: packaging>=22.0 in c:\\users\\user\\appdata\\local\\programs\\python\\python311\\lib\\site-packages (from pyinstaller) (23.2)\n",
      "Collecting pefile>=2022.5.30 (from pyinstaller)\n",
      "  Downloading pefile-2023.2.7-py3-none-any.whl.metadata (1.4 kB)\n",
      "Collecting pywin32-ctypes>=0.2.1 (from pyinstaller)\n",
      "  Downloading pywin32_ctypes-0.2.2-py3-none-any.whl.metadata (3.8 kB)\n",
      "Downloading pyinstaller-6.5.0-py3-none-win_amd64.whl (1.3 MB)\n",
      "   ---------------------------------------- 0.0/1.3 MB ? eta -:--:--\n",
      "   -- ------------------------------------- 0.1/1.3 MB 2.3 MB/s eta 0:00:01\n",
      "   ----------- ---------------------------- 0.4/1.3 MB 4.9 MB/s eta 0:00:01\n",
      "   --------------- ------------------------ 0.5/1.3 MB 4.1 MB/s eta 0:00:01\n",
      "   ------------------- -------------------- 0.6/1.3 MB 3.6 MB/s eta 0:00:01\n",
      "   ---------------------- ----------------- 0.7/1.3 MB 3.4 MB/s eta 0:00:01\n",
      "   ------------------------- -------------- 0.8/1.3 MB 3.3 MB/s eta 0:00:01\n",
      "   ------------------------------ --------- 1.0/1.3 MB 3.3 MB/s eta 0:00:01\n",
      "   --------------------------------- ------ 1.1/1.3 MB 3.0 MB/s eta 0:00:01\n",
      "   ------------------------------------ --- 1.2/1.3 MB 3.1 MB/s eta 0:00:01\n",
      "   ---------------------------------------- 1.3/1.3 MB 3.0 MB/s eta 0:00:00\n",
      "Downloading pefile-2023.2.7-py3-none-any.whl (71 kB)\n",
      "   ---------------------------------------- 0.0/71.8 kB ? eta -:--:--\n",
      "   ---------------------------------------- 71.8/71.8 kB 4.1 MB/s eta 0:00:00\n",
      "Downloading pyinstaller_hooks_contrib-2024.3-py2.py3-none-any.whl (329 kB)\n",
      "   ---------------------------------------- 0.0/329.0 kB ? eta -:--:--\n",
      "   --------------------------------------- 329.0/329.0 kB 10.3 MB/s eta 0:00:00\n",
      "Downloading pywin32_ctypes-0.2.2-py3-none-any.whl (30 kB)\n",
      "Downloading altgraph-0.17.4-py2.py3-none-any.whl (21 kB)\n",
      "Installing collected packages: altgraph, pywin32-ctypes, pyinstaller-hooks-contrib, pefile, pyinstaller\n",
      "Successfully installed altgraph-0.17.4 pefile-2023.2.7 pyinstaller-6.5.0 pyinstaller-hooks-contrib-2024.3 pywin32-ctypes-0.2.2\n"
     ]
    }
   ],
   "source": [
    "pip install pyinstaller\n"
   ]
  }
 ],
 "metadata": {
  "kernelspec": {
   "display_name": "Python 3 (ipykernel)",
   "language": "python",
   "name": "python3"
  },
  "language_info": {
   "codemirror_mode": {
    "name": "ipython",
    "version": 3
   },
   "file_extension": ".py",
   "mimetype": "text/x-python",
   "name": "python",
   "nbconvert_exporter": "python",
   "pygments_lexer": "ipython3",
   "version": "3.11.8"
  }
 },
 "nbformat": 4,
 "nbformat_minor": 5
}
