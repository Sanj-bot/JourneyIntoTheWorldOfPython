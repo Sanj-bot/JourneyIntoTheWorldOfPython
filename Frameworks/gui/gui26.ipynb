{
 "cells": [
  {
   "cell_type": "code",
   "execution_count": null,
   "id": "2a24aea1-f8b6-44cf-9715-cca42e6e53af",
   "metadata": {},
   "outputs": [],
   "source": [
    "#create menu or top menu "
   ]
  },
  {
   "cell_type": "code",
   "execution_count": 2,
   "id": "1ab546c2-7cea-4a04-8511-e2419931cbe0",
   "metadata": {},
   "outputs": [],
   "source": [
    "from tkinter import *\n",
    "\n",
    "root=Tk()\n",
    "root.title('My Box GUI')\n",
    "root.iconbitmap('data/rabbit.ico')\n",
    "root.geometry(\"300x600\")\n",
    "root.configure(bg='pink')\n",
    "\n",
    "my_menu=Menu(root)\n",
    "root.config(menu=my_menu)\n",
    "\n",
    "def my_com():\n",
    "    pass\n",
    "\n",
    "\n",
    "\n",
    "# file menu (1)\n",
    "file_menu=Menu(my_menu, tearoff=0)\n",
    "my_menu.add_cascade(label=\"File\", menu=file_menu)\n",
    "file_menu.add_command(label=\"New\", command=my_com)\n",
    "file_menu.add_command(label=\"Folder\", command=my_com)\n",
    "file_menu.add_command(label=\"Ziplock\", command=my_com)\n",
    "\n",
    "#edit menu (2)\n",
    "edit_menu=Menu(my_menu, tearoff=0)\n",
    "my_menu.add_cascade(label=\"Edit Menu\", menu=edit_menu)\n",
    "edit_menu.add_command(label=\"Cut\", command=my_com)\n",
    "edit_men\n",
    "u.add_command(label=\"Paste\", command=my_com)\n",
    "edit_menu.add_command(label=\"Copy\", command=my_com)\n",
    "\n",
    "#help menu (3)\n",
    "help_menu=Menu(my_menu, tearoff=0)\n",
    "my_menu.add_cascade(label=\"Help\", menu=help_menu)\n",
    "help_menu.add_command(label=\"About\", command=my_com)\n",
    "help_menu.add_command(label=\"End\", command=root.destroy)\n",
    "\n",
    "root.mainloop()"
   ]
  },
  {
   "cell_type": "code",
   "execution_count": null,
   "id": "e836925b-61e0-421f-8455-2f8bfac3be52",
   "metadata": {},
   "outputs": [],
   "source": []
  },
  {
   "cell_type": "code",
   "execution_count": null,
   "id": "82d56a70-3f01-45fb-9750-5fdf24436719",
   "metadata": {},
   "outputs": [],
   "source": []
  },
  {
   "cell_type": "code",
   "execution_count": null,
   "id": "e1703077-d74b-4dfa-a692-89c5c664d807",
   "metadata": {},
   "outputs": [],
   "source": []
  },
  {
   "cell_type": "code",
   "execution_count": null,
   "id": "31eda182-3057-48b4-b709-c1f22063497e",
   "metadata": {},
   "outputs": [],
   "source": []
  },
  {
   "cell_type": "code",
   "execution_count": null,
   "id": "11c2f0a5-aa88-405c-9a06-b7ea3392763a",
   "metadata": {},
   "outputs": [],
   "source": []
  }
 ],
 "metadata": {
  "kernelspec": {
   "display_name": "Python 3 (ipykernel)",
   "language": "python",
   "name": "python3"
  },
  "language_info": {
   "codemirror_mode": {
    "name": "ipython",
    "version": 3
   },
   "file_extension": ".py",
   "mimetype": "text/x-python",
   "name": "python",
   "nbconvert_exporter": "python",
   "pygments_lexer": "ipython3",
   "version": "3.11.8"
  }
 },
 "nbformat": 4,
 "nbformat_minor": 5
}
