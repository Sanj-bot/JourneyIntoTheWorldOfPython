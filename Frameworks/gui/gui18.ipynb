{
 "cells": [
  {
   "cell_type": "code",
   "execution_count": 1,
   "id": "0f23a6bd-be9d-49fe-aa94-60f45361ddd9",
   "metadata": {},
   "outputs": [
    {
     "name": "stdout",
     "output_type": "stream",
     "text": [
      "1\n"
     ]
    }
   ],
   "source": [
    "#REmove labels and find state label in Tkinter \n",
    "from tkinter import *\n",
    "from PIL import Image, ImageTk\n",
    "root=Tk()\n",
    "root.title('Resize Entry')\n",
    "root.iconbitmap('data/rabbit.ico')\n",
    "root.geometry(\"500x500\")\n",
    "root.configure(bg='black')\n",
    "#setting up bilu as wallpaper\n",
    "img1=ImageTk.PhotoImage(Image.open(\"data\\\\1.jpg\"))\n",
    "label=Label(root,image=img1)\n",
    "label.pack()\n",
    "#click function defined\n",
    "def clicked():\n",
    "    global mylabel\n",
    "    hi_user=\"Hello\"+\" \"+e.get()\n",
    "    mylabel=Label(root,text=hi_user,font=(\"Arial Black\",20))\n",
    "    mylabel.pack(padx=10,pady=10) \n",
    "    b1['state']=DISABLED\n",
    "def delete():\n",
    "    mylabel.destroy()\n",
    "    b1['state']=NORMAL\n",
    "    print(b1.winfo_exists())\n",
    "#root.destroy()\n",
    "b1=Button(root,text=\"Enter Billu Name\", command=clicked)\n",
    "b1.pack(padx=20,pady=20)\n",
    "#Entry used to collect data\n",
    "e=Entry(root,width=10,font=('Arial',30))\n",
    "e.pack(padx=10,pady=10)\n",
    "delete_button=Button(root,text=\"Delete Name\",command=delete)\n",
    "delete_button.pack(padx=20,pady=20)\n",
    "root.mainloop()"
   ]
  },
  {
   "cell_type": "code",
   "execution_count": null,
   "id": "9a2519bb-cc0a-4dac-aae8-2198c92b4215",
   "metadata": {},
   "outputs": [],
   "source": []
  }
 ],
 "metadata": {
  "kernelspec": {
   "display_name": "Python 3 (ipykernel)",
   "language": "python",
   "name": "python3"
  },
  "language_info": {
   "codemirror_mode": {
    "name": "ipython",
    "version": 3
   },
   "file_extension": ".py",
   "mimetype": "text/x-python",
   "name": "python",
   "nbconvert_exporter": "python",
   "pygments_lexer": "ipython3",
   "version": "3.11.7"
  }
 },
 "nbformat": 4,
 "nbformat_minor": 5
}
