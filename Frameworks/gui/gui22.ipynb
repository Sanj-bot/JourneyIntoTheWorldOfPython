{
 "cells": [
  {
   "cell_type": "code",
   "execution_count": 1,
   "id": "15f84605-e427-4f6b-8aee-c1343863009b",
   "metadata": {
    "editable": true,
    "slideshow": {
     "slide_type": ""
    },
    "tags": []
   },
   "outputs": [],
   "source": [
    "#Overwrite on label using pack_grid forget methods in tkinter\n",
    "\n",
    "from tkinter import *\n",
    "\n",
    "root=Tk()\n",
    "root.title('My Box GUI')\n",
    "root.iconbitmap('data/rabbit.ico')\n",
    "root.geometry(\"300x600\")\n",
    "root.configure(bg='pink')\n",
    "\n",
    "#click function\n",
    "def click():\n",
    "    global mylabel\n",
    "    hello_user=\"Hello\"+e.get()\n",
    "    mylabel=Label(root,text=hello_user,font=('Arial',30))\n",
    "    mylabel.pack()\n",
    "    e.delete(0,END)\n",
    "    b1['state']=DISABLED\n",
    "\n",
    "def delete():\n",
    "    mylabel.pack_forget()\n",
    "    b1['state']=NORMAL\n",
    "\n",
    "\n",
    "\n",
    "e=Entry(root,width=18,font=('Arial',20))\n",
    "e.pack()\n",
    "\n",
    "b1=Button(root,text=\"name here\",command=click)\n",
    "b1.pack()\n",
    "\n",
    "delete_button=Button(root,text=\"Delete Text\",command=delete)\n",
    "delete_button.pack()\n",
    "root.mainloop()\n"
   ]
  },
  {
   "cell_type": "code",
   "execution_count": null,
   "id": "e151dc40-04fd-4692-9748-24c41a20c19d",
   "metadata": {},
   "outputs": [],
   "source": [
    "#Overwrite on label using pack_grid forget methods in tkinter\n",
    "\n",
    "from tkinter import *\n",
    "\n",
    "root=Tk()\n",
    "root.title('My Box GUI')\n",
    "root.iconbitmap('data/rabbit.ico')\n",
    "root.geometry(\"300x600\")\n",
    "root.configure(bg='pink')\n",
    "\n",
    "#click function\n",
    "def click():\n",
    "    global mylabel\n",
    "    hello_user=\"Hello\"+e.get()\n",
    "    mylabel=Label(root,text=hello_user,font=('Arial',30))\n",
    "    mylabel.grid(row=3,column=0)\n",
    "    e.delete(0,END)\n",
    "    b1['state']=DISABLED\n",
    "\n",
    "def delete():\n",
    "    mylabel.pack_forget()\n",
    "    b1['state']=NORMAL\n",
    "\n",
    "\n",
    "\n",
    "e=Entry(root,width=18,font=('Arial',20))\n",
    "e.grid(row=0,column=0)\n",
    "\n",
    "b1=Button(root,text=\"name here\",command=click)\n",
    "b1.grid(row=1,column=0)\n",
    "\n",
    "delete_button=Button(root,text=\"Delete Text\",command=delete)\n",
    "delete_button.grid(row=6,column=0)\n",
    "root.mainloop()\n"
   ]
  }
 ],
 "metadata": {
  "kernelspec": {
   "display_name": "Python 3 (ipykernel)",
   "language": "python",
   "name": "python3"
  },
  "language_info": {
   "codemirror_mode": {
    "name": "ipython",
    "version": 3
   },
   "file_extension": ".py",
   "mimetype": "text/x-python",
   "name": "python",
   "nbconvert_exporter": "python",
   "pygments_lexer": "ipython3",
   "version": "3.11.8"
  }
 },
 "nbformat": 4,
 "nbformat_minor": 5
}
