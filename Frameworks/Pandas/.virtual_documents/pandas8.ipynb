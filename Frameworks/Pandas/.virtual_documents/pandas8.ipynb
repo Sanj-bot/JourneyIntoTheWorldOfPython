import pandas as pd
df=pd.read_csv('data/survey_results_public.csv',index_col='Respondent')
schema_df=pd.read_csv('data/survey_results_schema.csv',index_col='Column')



pd.set_option('display.max_columns',85)
pd.set_option('display.max_rows',85)



df.head()


df['ConvertedComp'].head(15)



df['ConvertedComp'].median()


df.describe()



df['ConvertedComp'].count()
#non null values


df['Hobbyist'].value_counts()


df['SocialMedia'].value_counts()


df['SocialMedia'].value_counts(normalize=True)


#groupby operation: splitting, apply, combine results
# df['Country'].value_counts()


country_grp=df.groupby(['Country'])


country_grp.get_group('India')


#  result of united states
filt=df['Country']=='Norway'
df.loc[filt]['SocialMedia'].value_counts()


#country wise social media
country_grp['SocialMedia'].value_counts().head(50)


country_grp['SocialMedia'].value_counts(normalize=True).loc['China']


country_grp['ConvertedComp'].median().loc['India']


#aggregate function: using more than one function
country_grp['ConvertedComp'].agg(['median','mean']).loc['Canada']


 #count of python users in india

filt=df['Country']=='India'
df.loc[filt]['LanguageWorkedWith'].str.contains('Python').sum()


# all python developers for every country
country_grp['LanguageWorkedWith'].apply(lambda x:x.str.contains('Python').sum())


# percentage of people from each country who know python


country_respondents=df['Country'].value_counts()
country_respondents


country_uses_python=country_grp['LanguageWorkedWith'].apply(lambda x:x.str.contains('Python').sum())


country_uses_python


python_df=pd.concat([country_respondents,country_uses_python],axis='columns',sort=False)
python_df.describe()


#rename columns
python_df.rename(columns={'count':'NumRespondents','LanguageWorkedWith':'NumKnowsPython'},inplace=True)
python_df


python_df.describe()


python_df['PctKnowsPython']=(python_df['NumKnowsPython']/python_df['NumRespondents'])*100


python_df


python_df.sort_values(by='PctKnowsPython',ascending=False)


python_df.head(50)


python_df.loc['Japan']















