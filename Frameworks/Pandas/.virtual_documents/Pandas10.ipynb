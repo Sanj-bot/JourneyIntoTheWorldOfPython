import pandas as pd
d_parser=lambda x: pd.datetime.strptime(x,'%Y-%m-%d %I-%p')
df=pd.read_csv('ETH_1h.csv',parse_dates=['Date'],date_format=d_parser)
df


df.head(15)


df.loc[0,'Date']


df['Date']=pd.to_datetime(df['Date'],format='%Y-%m-%d %I-%p')


df['Date']


df.loc[0,'Date'].day_name()


df['Date'].dt.day_name()


df['DayofWeek']=df['Date'].dt.day_name()


df['DayofWeek']


df['Date'].min()


df['Date'].max()


df['Date'].max()-df['Date'].min()


filt=(df['Date']>='2019')&(df['Date']<'2020')


df.loc[filt]



filt=(df['Date']>=pd.to_datetime('2019-01-01'))&(df['Date']<pd.to_datetime('2020-01-01'))
df.loc[filt]


df.set_index('Date',inplace=True)


help(df.set_index)


import inspect

doc_string = inspect.getdoc(df.set_index)
print(doc_string)



df.head()


df['2020-01':'2020-02']


df
