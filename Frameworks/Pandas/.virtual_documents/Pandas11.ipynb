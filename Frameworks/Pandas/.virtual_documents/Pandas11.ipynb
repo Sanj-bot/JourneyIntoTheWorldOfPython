#reading writing data to diffeent sources Excel, JSON,SQL.
import pandas as pd
dataframe=pd.read_csv('data/survey_results_public.csv')


filt=(dataframe['Country']=='India')
india_df=dataframe.loc[filt]
india_df


india_df.to_csv('data/modified.csv')


india_df.to_csv('data/modified.tsv',sep='\t')


pip install xlwt



pip install openpyxl


pip install xlrd


india_df.to_excel('data/modified.xlsx')


test=pd.read_excel('data/modified.xlsx',index_col='Respondent')


india_df.to_json('data/modified.json',orient='records',lines=True)
























