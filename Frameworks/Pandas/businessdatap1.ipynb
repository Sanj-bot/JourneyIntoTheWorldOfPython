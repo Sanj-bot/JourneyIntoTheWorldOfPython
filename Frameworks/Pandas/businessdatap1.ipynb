{
 "cells": [
  {
   "cell_type": "code",
   "execution_count": 1,
   "id": "a573e6c0-bfc6-4de4-9a7f-a10c0c89b0ed",
   "metadata": {},
   "outputs": [],
   "source": [
    "import pandas as pd\n",
    "import numpy as np\n"
   ]
  },
  {
   "cell_type": "code",
   "execution_count": 2,
   "id": "dbe3e84d-dba1-42ca-bcf7-19fd7e875e97",
   "metadata": {},
   "outputs": [],
   "source": [
    "companies=pd.read_csv('business/companies.csv')"
   ]
  },
  {
   "cell_type": "code",
   "execution_count": 5,
   "id": "62a66975-389d-4faf-9266-d95ba3aa1b7f",
   "metadata": {},
   "outputs": [
    {
     "data": {
      "text/plain": [
       "(66368, 14)"
      ]
     },
     "execution_count": 5,
     "metadata": {},
     "output_type": "execute_result"
    }
   ],
   "source": [
    "#shape of companies dataframe\n",
    "companies.shape"
   ]
  },
  {
   "cell_type": "code",
   "execution_count": 7,
   "id": "1608386a-3d89-4b0c-a712-e5fadb1671fb",
   "metadata": {},
   "outputs": [
    {
     "name": "stdout",
     "output_type": "stream",
     "text": [
      "<class 'pandas.core.frame.DataFrame'>\n",
      "RangeIndex: 66368 entries, 0 to 66367\n",
      "Data columns (total 14 columns):\n",
      " #   Column             Non-Null Count  Dtype \n",
      "---  ------             --------------  ----- \n",
      " 0   permalink          66368 non-null  object\n",
      " 1   name               66367 non-null  object\n",
      " 2   homepage_url       61310 non-null  object\n",
      " 3   category_list      63220 non-null  object\n",
      " 4   funding_total_usd  66368 non-null  object\n",
      " 5   status             66368 non-null  object\n",
      " 6   country_code       59410 non-null  object\n",
      " 7   state_code         57821 non-null  object\n",
      " 8   region             58338 non-null  object\n",
      " 9   city               58340 non-null  object\n",
      " 10  funding_rounds     66368 non-null  int64 \n",
      " 11  founded_at         51147 non-null  object\n",
      " 12  first_funding_at   66344 non-null  object\n",
      " 13  last_funding_at    66368 non-null  object\n",
      "dtypes: int64(1), object(13)\n",
      "memory usage: 7.1+ MB\n"
     ]
    }
   ],
   "source": [
    "#give me info of companies dataframe\n",
    "companies.info()"
   ]
  },
  {
   "cell_type": "code",
   "execution_count": 9,
   "id": "1b5efdc3-d3da-42ce-abe2-0e8e0c7570a3",
   "metadata": {},
   "outputs": [],
   "source": [
    "#dispaly first 4 rows and columns\n",
    "pd.set_option('display.max_columns',4)\n",
    "pd.set_option('display.max_rows',4)"
   ]
  },
  {
   "cell_type": "code",
   "execution_count": 10,
   "id": "e10e7188-1360-482d-862c-455daa78dbbe",
   "metadata": {},
   "outputs": [
    {
     "data": {
      "text/html": [
       "<div>\n",
       "<style scoped>\n",
       "    .dataframe tbody tr th:only-of-type {\n",
       "        vertical-align: middle;\n",
       "    }\n",
       "\n",
       "    .dataframe tbody tr th {\n",
       "        vertical-align: top;\n",
       "    }\n",
       "\n",
       "    .dataframe thead th {\n",
       "        text-align: right;\n",
       "    }\n",
       "</style>\n",
       "<table border=\"1\" class=\"dataframe\">\n",
       "  <thead>\n",
       "    <tr style=\"text-align: right;\">\n",
       "      <th></th>\n",
       "      <th>permalink</th>\n",
       "      <th>name</th>\n",
       "      <th>...</th>\n",
       "      <th>first_funding_at</th>\n",
       "      <th>last_funding_at</th>\n",
       "    </tr>\n",
       "  </thead>\n",
       "  <tbody>\n",
       "    <tr>\n",
       "      <th>0</th>\n",
       "      <td>/organization/-fame</td>\n",
       "      <td>#fame</td>\n",
       "      <td>...</td>\n",
       "      <td>2015-01-05</td>\n",
       "      <td>2015-01-05</td>\n",
       "    </tr>\n",
       "    <tr>\n",
       "      <th>1</th>\n",
       "      <td>/organization/-qounter</td>\n",
       "      <td>:Qounter</td>\n",
       "      <td>...</td>\n",
       "      <td>2014-03-01</td>\n",
       "      <td>2014-10-14</td>\n",
       "    </tr>\n",
       "    <tr>\n",
       "      <th>...</th>\n",
       "      <td>...</td>\n",
       "      <td>...</td>\n",
       "      <td>...</td>\n",
       "      <td>...</td>\n",
       "      <td>...</td>\n",
       "    </tr>\n",
       "    <tr>\n",
       "      <th>66366</th>\n",
       "      <td>/organization/Ôasys-2</td>\n",
       "      <td>Ôasys</td>\n",
       "      <td>...</td>\n",
       "      <td>2015-01-01</td>\n",
       "      <td>2015-01-01</td>\n",
       "    </tr>\n",
       "    <tr>\n",
       "      <th>66367</th>\n",
       "      <td>/organization/İnovatiff-reklam-ve-tanıtım-hizm...</td>\n",
       "      <td>İnovatiff Reklam ve Tanıtım Hizmetleri Tic</td>\n",
       "      <td>...</td>\n",
       "      <td>2013-10-01</td>\n",
       "      <td>2013-10-01</td>\n",
       "    </tr>\n",
       "  </tbody>\n",
       "</table>\n",
       "<p>66368 rows × 14 columns</p>\n",
       "</div>"
      ],
      "text/plain": [
       "                                               permalink  \\\n",
       "0                                    /organization/-fame   \n",
       "1                                 /organization/-qounter   \n",
       "...                                                  ...   \n",
       "66366                              /organization/Ôasys-2   \n",
       "66367  /organization/İnovatiff-reklam-ve-tanıtım-hizm...   \n",
       "\n",
       "                                             name  ... first_funding_at  \\\n",
       "0                                           #fame  ...       2015-01-05   \n",
       "1                                        :Qounter  ...       2014-03-01   \n",
       "...                                           ...  ...              ...   \n",
       "66366                                       Ôasys  ...       2015-01-01   \n",
       "66367  İnovatiff Reklam ve Tanıtım Hizmetleri Tic  ...       2013-10-01   \n",
       "\n",
       "      last_funding_at  \n",
       "0          2015-01-05  \n",
       "1          2014-10-14  \n",
       "...               ...  \n",
       "66366      2015-01-01  \n",
       "66367      2013-10-01  \n",
       "\n",
       "[66368 rows x 14 columns]"
      ]
     },
     "execution_count": 10,
     "metadata": {},
     "output_type": "execute_result"
    }
   ],
   "source": [
    "companies"
   ]
  },
  {
   "cell_type": "code",
   "execution_count": 11,
   "id": "52abd31e-2f04-43e5-a0c6-29a9db4580f0",
   "metadata": {},
   "outputs": [
    {
     "data": {
      "text/plain": [
       "Index(['permalink', 'name', 'homepage_url', 'category_list',\n",
       "       'funding_total_usd', 'status', 'country_code', 'state_code', 'region',\n",
       "       'city', 'funding_rounds', 'founded_at', 'first_funding_at',\n",
       "       'last_funding_at'],\n",
       "      dtype='object')"
      ]
     },
     "execution_count": 11,
     "metadata": {},
     "output_type": "execute_result"
    }
   ],
   "source": [
    "#print all columns\n",
    "companies.columns"
   ]
  },
  {
   "cell_type": "code",
   "execution_count": 15,
   "id": "e21b0a30-6cc1-4bdb-a499-59eae95ed773",
   "metadata": {},
   "outputs": [],
   "source": [
    "#print name of all companies\n",
    "names=companies['name'].unique()"
   ]
  },
  {
   "cell_type": "code",
   "execution_count": null,
   "id": "dff1e1a3-b0ea-4ac7-b83b-c7fb6e1d7217",
   "metadata": {},
   "outputs": [],
   "source": []
  },
  {
   "cell_type": "code",
   "execution_count": null,
   "id": "150d7d3f-c69b-474e-bcd5-156af45c10a0",
   "metadata": {},
   "outputs": [],
   "source": []
  }
 ],
 "metadata": {
  "kernelspec": {
   "display_name": "Python 3 (ipykernel)",
   "language": "python",
   "name": "python3"
  },
  "language_info": {
   "codemirror_mode": {
    "name": "ipython",
    "version": 3
   },
   "file_extension": ".py",
   "mimetype": "text/x-python",
   "name": "python",
   "nbconvert_exporter": "python",
   "pygments_lexer": "ipython3",
   "version": "3.11.7"
  }
 },
 "nbformat": 4,
 "nbformat_minor": 5
}
