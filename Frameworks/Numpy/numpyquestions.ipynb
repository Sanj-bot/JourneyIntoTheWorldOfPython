{
  "metadata": {
    "kernelspec": {
      "language": "python",
      "display_name": "Python 3",
      "name": "python3"
    },
    "language_info": {
      "name": "python",
      "version": "3.10.13",
      "mimetype": "text/x-python",
      "codemirror_mode": {
        "name": "ipython",
        "version": 3
      },
      "pygments_lexer": "ipython3",
      "nbconvert_exporter": "python",
      "file_extension": ".py"
    },
    "kaggle": {
      "accelerator": "none",
      "dataSources": [],
      "dockerImageVersionId": 30732,
      "isInternetEnabled": true,
      "language": "python",
      "sourceType": "notebook",
      "isGpuEnabled": false
    },
    "colab": {
      "name": "NumpyPractice",
      "provenance": []
    }
  },
  "nbformat_minor": 0,
  "nbformat": 4,
  "cells": [
    {
      "cell_type": "code",
      "source": [],
      "metadata": {
        "id": "_1UAA-1GKRiA"
      },
      "execution_count": null,
      "outputs": []
    },
    {
      "cell_type": "code",
      "source": [
        "# This Python 3 environment comes with many helpful analytics libraries installed\n",
        "# It is defined by the kaggle/python Docker image: https://github.com/kaggle/docker-python\n",
        "# For example, here's several helpful packages to load\n",
        "\n",
        "import numpy as np # linear algebra\n",
        "import pandas as pd # data processing, CSV file I/O (e.g. pd.read_csv)\n",
        "\n",
        "# Input data files are available in the read-only \"../input/\" directory\n",
        "# For example, running this (by clicking run or pressing Shift+Enter) will list all files under the input directory\n",
        "\n",
        "import os\n",
        "for dirname, _, filenames in os.walk('/kaggle/input'):\n",
        "    for filename in filenames:\n",
        "        print(os.path.join(dirname, filename))\n",
        "\n",
        "# You can write up to 20GB to the current directory (/kaggle/working/) that gets preserved as output when you create a version using \"Save & Run All\"\n",
        "# You can also write temporary files to /kaggle/temp/, but they won't be saved outside of the current session"
      ],
      "metadata": {
        "_uuid": "8f2839f25d086af736a60e9eeb907d3b93b6e0e5",
        "_cell_guid": "b1076dfc-b9ad-4769-8c92-a6c4dae69d19",
        "execution": {
          "iopub.status.busy": "2024-06-29T02:25:58.542801Z",
          "iopub.execute_input": "2024-06-29T02:25:58.543175Z",
          "iopub.status.idle": "2024-06-29T02:25:59.821672Z",
          "shell.execute_reply.started": "2024-06-29T02:25:58.543144Z",
          "shell.execute_reply": "2024-06-29T02:25:59.820344Z"
        },
        "trusted": true,
        "id": "RbvoqgfLKRiC"
      },
      "execution_count": null,
      "outputs": []
    },
    {
      "cell_type": "code",
      "source": [
        "import numpy as np"
      ],
      "metadata": {
        "execution": {
          "iopub.status.busy": "2024-06-29T02:26:25.185365Z",
          "iopub.execute_input": "2024-06-29T02:26:25.186619Z",
          "iopub.status.idle": "2024-06-29T02:26:25.19141Z",
          "shell.execute_reply.started": "2024-06-29T02:26:25.186579Z",
          "shell.execute_reply": "2024-06-29T02:26:25.190145Z"
        },
        "trusted": true,
        "id": "24OCc_2DKRiL"
      },
      "execution_count": null,
      "outputs": []
    },
    {
      "cell_type": "code",
      "source": [
        "#checking version of numpy\n",
        "np.version.version"
      ],
      "metadata": {
        "execution": {
          "iopub.status.busy": "2024-06-29T02:29:29.867813Z",
          "iopub.execute_input": "2024-06-29T02:29:29.86826Z",
          "iopub.status.idle": "2024-06-29T02:29:29.875976Z",
          "shell.execute_reply.started": "2024-06-29T02:29:29.868228Z",
          "shell.execute_reply": "2024-06-29T02:29:29.874558Z"
        },
        "trusted": true,
        "id": "AjSZP06JKRiM",
        "outputId": "7326bb8a-abab-4b1c-92b9-580f39feaaf2"
      },
      "execution_count": null,
      "outputs": [
        {
          "execution_count": 7,
          "output_type": "execute_result",
          "data": {
            "text/plain": "'1.26.4'"
          },
          "metadata": {}
        }
      ]
    },
    {
      "cell_type": "code",
      "source": [
        "#create 1d array\n",
        "l=range(1,10)\n",
        "l2=np.array(l)\n",
        "print(l2)"
      ],
      "metadata": {
        "execution": {
          "iopub.status.busy": "2024-06-29T02:31:31.50632Z",
          "iopub.execute_input": "2024-06-29T02:31:31.506791Z",
          "iopub.status.idle": "2024-06-29T02:31:31.514837Z",
          "shell.execute_reply.started": "2024-06-29T02:31:31.506756Z",
          "shell.execute_reply": "2024-06-29T02:31:31.513615Z"
        },
        "trusted": true,
        "id": "W3BYP5YuKRiP",
        "outputId": "74476293-923a-41d0-ce0f-7c1c7c2855b4"
      },
      "execution_count": null,
      "outputs": [
        {
          "name": "stdout",
          "text": "[1 2 3 4 5 6 7 8 9]\n",
          "output_type": "stream"
        }
      ]
    },
    {
      "cell_type": "code",
      "source": [
        "print(type(l2))"
      ],
      "metadata": {
        "execution": {
          "iopub.status.busy": "2024-06-29T02:31:36.528048Z",
          "iopub.execute_input": "2024-06-29T02:31:36.528469Z",
          "iopub.status.idle": "2024-06-29T02:31:36.534571Z",
          "shell.execute_reply.started": "2024-06-29T02:31:36.528434Z",
          "shell.execute_reply": "2024-06-29T02:31:36.533219Z"
        },
        "trusted": true,
        "id": "97TZWDWtKRiQ",
        "outputId": "6686c751-b387-4ff0-8e20-83cedd8546d1"
      },
      "execution_count": null,
      "outputs": [
        {
          "name": "stdout",
          "text": "<class 'numpy.ndarray'>\n",
          "output_type": "stream"
        }
      ]
    },
    {
      "cell_type": "code",
      "source": [
        "# Q3: how to create a boolean array\n",
        "l2=range(1,10)\n",
        "l=np.array(l)\n",
        "for i in range(1,9):\n",
        "    if l[i]%2==0:\n",
        "        l[i]=0\n",
        "    else:\n",
        "        l[i]=1\n",
        "\n",
        "print(l)"
      ],
      "metadata": {
        "execution": {
          "iopub.status.busy": "2024-06-29T02:35:44.208816Z",
          "iopub.execute_input": "2024-06-29T02:35:44.209318Z",
          "iopub.status.idle": "2024-06-29T02:35:44.217197Z",
          "shell.execute_reply.started": "2024-06-29T02:35:44.209284Z",
          "shell.execute_reply": "2024-06-29T02:35:44.215976Z"
        },
        "trusted": true,
        "id": "otn5aRW0KRiR",
        "outputId": "100bf0d8-13da-4689-affd-de98a2bdb188"
      },
      "execution_count": null,
      "outputs": [
        {
          "name": "stdout",
          "text": "[1 0 1 0 1 0 1 0 1]\n",
          "output_type": "stream"
        }
      ]
    },
    {
      "cell_type": "code",
      "source": [
        "l3=np.array(l)\n",
        "print(l3)"
      ],
      "metadata": {
        "execution": {
          "iopub.status.busy": "2024-06-29T02:36:17.022835Z",
          "iopub.execute_input": "2024-06-29T02:36:17.023338Z",
          "iopub.status.idle": "2024-06-29T02:36:17.029955Z",
          "shell.execute_reply.started": "2024-06-29T02:36:17.0233Z",
          "shell.execute_reply": "2024-06-29T02:36:17.028595Z"
        },
        "trusted": true,
        "id": "3E4LkZJEKRiT",
        "outputId": "48126fa1-2ecd-46fa-a0d6-16819385f203"
      },
      "execution_count": null,
      "outputs": [
        {
          "name": "stdout",
          "text": "[1 0 1 0 1 0 1 0 1]\n",
          "output_type": "stream"
        }
      ]
    },
    {
      "cell_type": "code",
      "source": [
        "#q4:How to reshape a array\n",
        "l3.reshape(3,3)"
      ],
      "metadata": {
        "execution": {
          "iopub.status.busy": "2024-06-29T02:37:26.680035Z",
          "iopub.execute_input": "2024-06-29T02:37:26.680639Z",
          "iopub.status.idle": "2024-06-29T02:37:26.688742Z",
          "shell.execute_reply.started": "2024-06-29T02:37:26.6806Z",
          "shell.execute_reply": "2024-06-29T02:37:26.687352Z"
        },
        "trusted": true,
        "id": "BsaDjeciKRiV",
        "outputId": "e161773f-2cfa-44f9-af31-99977d6f704e"
      },
      "execution_count": null,
      "outputs": [
        {
          "execution_count": 21,
          "output_type": "execute_result",
          "data": {
            "text/plain": "array([[1, 0, 1],\n       [0, 1, 0],\n       [1, 0, 1]])"
          },
          "metadata": {}
        }
      ]
    },
    {
      "cell_type": "code",
      "source": [
        "l.reshape(3,3)"
      ],
      "metadata": {
        "execution": {
          "iopub.status.busy": "2024-06-29T02:39:19.364915Z",
          "iopub.execute_input": "2024-06-29T02:39:19.365627Z",
          "iopub.status.idle": "2024-06-29T02:39:19.375618Z",
          "shell.execute_reply.started": "2024-06-29T02:39:19.365569Z",
          "shell.execute_reply": "2024-06-29T02:39:19.374331Z"
        },
        "trusted": true,
        "id": "MRyxnE1nKRiW",
        "outputId": "8f9bcdbc-0ed0-4c59-cb79-0bdee07a3393"
      },
      "execution_count": null,
      "outputs": [
        {
          "execution_count": 22,
          "output_type": "execute_result",
          "data": {
            "text/plain": "array([[1, 0, 1],\n       [0, 1, 0],\n       [1, 0, 1]])"
          },
          "metadata": {}
        }
      ]
    },
    {
      "cell_type": "code",
      "source": [
        "#q5 vertical stacking of l and l3\n",
        "c=np.vstack((l,l3))\n",
        "print(c)"
      ],
      "metadata": {
        "execution": {
          "iopub.status.busy": "2024-06-29T02:43:09.97222Z",
          "iopub.execute_input": "2024-06-29T02:43:09.972747Z",
          "iopub.status.idle": "2024-06-29T02:43:09.98339Z",
          "shell.execute_reply.started": "2024-06-29T02:43:09.972692Z",
          "shell.execute_reply": "2024-06-29T02:43:09.982193Z"
        },
        "trusted": true,
        "id": "ECvi0-jAKRiW",
        "outputId": "571b1565-3a4c-4369-eaef-4b7931b8bed2"
      },
      "execution_count": null,
      "outputs": [
        {
          "name": "stdout",
          "text": "[[1 0 1 0 1 0 1 0 1]\n [1 0 1 0 1 0 1 0 1]]\n",
          "output_type": "stream"
        }
      ]
    },
    {
      "cell_type": "code",
      "source": [
        "print(c)"
      ],
      "metadata": {
        "execution": {
          "iopub.status.busy": "2024-06-29T02:42:46.011179Z",
          "iopub.status.idle": "2024-06-29T02:42:46.01164Z",
          "shell.execute_reply.started": "2024-06-29T02:42:46.01142Z",
          "shell.execute_reply": "2024-06-29T02:42:46.011438Z"
        },
        "trusted": true,
        "id": "AgFr_0RIKRiX"
      },
      "execution_count": null,
      "outputs": []
    },
    {
      "cell_type": "code",
      "source": [
        "#q6 horizontal stacking of l and l3\n",
        "d=np.hstack((l,l3))"
      ],
      "metadata": {
        "execution": {
          "iopub.status.busy": "2024-06-29T02:45:00.452581Z",
          "iopub.execute_input": "2024-06-29T02:45:00.452984Z",
          "iopub.status.idle": "2024-06-29T02:45:00.458326Z",
          "shell.execute_reply.started": "2024-06-29T02:45:00.452954Z",
          "shell.execute_reply": "2024-06-29T02:45:00.457113Z"
        },
        "trusted": true,
        "id": "2LAO25vHKRiX"
      },
      "execution_count": null,
      "outputs": []
    },
    {
      "cell_type": "code",
      "source": [
        "print(d)"
      ],
      "metadata": {
        "execution": {
          "iopub.status.busy": "2024-06-29T02:44:28.46695Z",
          "iopub.execute_input": "2024-06-29T02:44:28.46742Z",
          "iopub.status.idle": "2024-06-29T02:44:28.473531Z",
          "shell.execute_reply.started": "2024-06-29T02:44:28.467366Z",
          "shell.execute_reply": "2024-06-29T02:44:28.472115Z"
        },
        "trusted": true,
        "id": "vBmcgcX1KRiX",
        "outputId": "08afabb0-daa3-463b-a09a-ec243d4871d0"
      },
      "execution_count": null,
      "outputs": [
        {
          "name": "stdout",
          "text": "[1 0 1 0 1 0 1 0 1 1 0 1 0 1 0 1 0 1]\n",
          "output_type": "stream"
        }
      ]
    },
    {
      "cell_type": "code",
      "source": [
        "#q7 find sum of l and l3\n",
        "l4=l+l3\n",
        "print(l4)\n",
        "l4=l4.reshape(3,3)\n",
        "l4"
      ],
      "metadata": {
        "execution": {
          "iopub.status.busy": "2024-06-29T03:02:38.894733Z",
          "iopub.execute_input": "2024-06-29T03:02:38.89515Z",
          "iopub.status.idle": "2024-06-29T03:02:38.903521Z",
          "shell.execute_reply.started": "2024-06-29T03:02:38.895119Z",
          "shell.execute_reply": "2024-06-29T03:02:38.902436Z"
        },
        "trusted": true,
        "id": "9WKQMoNsKRiY",
        "outputId": "3ba56dfe-54cf-403f-ea4e-fceaf20a0f69"
      },
      "execution_count": null,
      "outputs": [
        {
          "name": "stdout",
          "text": "[2 0 2 0 2 0 2 0 2]\n",
          "output_type": "stream"
        },
        {
          "execution_count": 69,
          "output_type": "execute_result",
          "data": {
            "text/plain": "array([[2, 0, 2],\n       [0, 2, 0],\n       [2, 0, 2]])"
          },
          "metadata": {}
        }
      ]
    },
    {
      "cell_type": "code",
      "source": [
        "#q8: find dot product of l3,l4\n",
        "l5=l3.dot(l)\n",
        "print(l5)"
      ],
      "metadata": {
        "execution": {
          "iopub.status.busy": "2024-06-29T03:03:45.246377Z",
          "iopub.execute_input": "2024-06-29T03:03:45.247675Z",
          "iopub.status.idle": "2024-06-29T03:03:45.253774Z",
          "shell.execute_reply.started": "2024-06-29T03:03:45.247635Z",
          "shell.execute_reply": "2024-06-29T03:03:45.25247Z"
        },
        "trusted": true,
        "id": "9NJKVw-QKRiZ",
        "outputId": "efccf481-44e0-44b4-b0d6-eea5b608ee42"
      },
      "execution_count": null,
      "outputs": [
        {
          "name": "stdout",
          "text": "5\n",
          "output_type": "stream"
        }
      ]
    },
    {
      "cell_type": "code",
      "source": [
        "l3new=l3.reshape(3,3)"
      ],
      "metadata": {
        "execution": {
          "iopub.status.busy": "2024-06-29T02:51:44.163642Z",
          "iopub.execute_input": "2024-06-29T02:51:44.164069Z",
          "iopub.status.idle": "2024-06-29T02:51:44.169431Z",
          "shell.execute_reply.started": "2024-06-29T02:51:44.16404Z",
          "shell.execute_reply": "2024-06-29T02:51:44.168107Z"
        },
        "trusted": true,
        "id": "k9U0PRx3KRia"
      },
      "execution_count": null,
      "outputs": []
    },
    {
      "cell_type": "code",
      "source": [
        "#q9: find dimension of l,l3,l3new\n",
        "print(l.ndim,l3.ndim,l3new.ndim)\n"
      ],
      "metadata": {
        "execution": {
          "iopub.status.busy": "2024-06-29T03:05:33.88114Z",
          "iopub.execute_input": "2024-06-29T03:05:33.881564Z",
          "iopub.status.idle": "2024-06-29T03:05:33.887985Z",
          "shell.execute_reply.started": "2024-06-29T03:05:33.881529Z",
          "shell.execute_reply": "2024-06-29T03:05:33.886784Z"
        },
        "trusted": true,
        "id": "o1v4LZiUKRia",
        "outputId": "a0cfed71-0d9b-4202-8425-3ff57021845b"
      },
      "execution_count": null,
      "outputs": [
        {
          "name": "stdout",
          "text": "1 1 2\n",
          "output_type": "stream"
        }
      ]
    },
    {
      "cell_type": "code",
      "source": [
        "#q10 find item size of l3new, and its datatype\n",
        "print(l3new)\n",
        "print(l3new.itemsize)\n",
        "print(l3new.dtype)"
      ],
      "metadata": {
        "execution": {
          "iopub.status.busy": "2024-06-29T03:06:57.207151Z",
          "iopub.execute_input": "2024-06-29T03:06:57.207563Z",
          "iopub.status.idle": "2024-06-29T03:06:57.213771Z",
          "shell.execute_reply.started": "2024-06-29T03:06:57.207532Z",
          "shell.execute_reply": "2024-06-29T03:06:57.212618Z"
        },
        "trusted": true,
        "id": "q5DgWUW5KRib",
        "outputId": "6191dcb8-70b6-4a73-887a-adb3a579cc26"
      },
      "execution_count": null,
      "outputs": [
        {
          "name": "stdout",
          "text": "[[1 0 1]\n [0 1 0]\n [1 0 1]]\n8\nint64\n",
          "output_type": "stream"
        }
      ]
    },
    {
      "cell_type": "markdown",
      "source": [
        "l3"
      ],
      "metadata": {
        "id": "1CwHOSxrKRic"
      }
    },
    {
      "cell_type": "code",
      "source": [
        "#q10: give a demo code of diff between size and shape and type conversion\n",
        "l=range(0,100)\n",
        "l2=np.array(l).reshape(50,2)\n",
        "# print(l2)\n",
        "print(l2.size)\n",
        "l2.shape\n",
        "l2float=np.array(l2,dtype=np.float64)\n",
        "# print(l2float)\n",
        "l2complex=np.array(l2,dtype=complex)\n",
        "\n",
        "# print(l2complex)"
      ],
      "metadata": {
        "execution": {
          "iopub.status.busy": "2024-06-29T03:14:32.680869Z",
          "iopub.execute_input": "2024-06-29T03:14:32.681787Z",
          "iopub.status.idle": "2024-06-29T03:14:32.693124Z",
          "shell.execute_reply.started": "2024-06-29T03:14:32.681749Z",
          "shell.execute_reply": "2024-06-29T03:14:32.69172Z"
        },
        "trusted": true,
        "id": "FFV6D3w9KRif",
        "outputId": "53a89cbc-e001-4097-c9de-fb6e8dd1ecf3"
      },
      "execution_count": null,
      "outputs": [
        {
          "name": "stdout",
          "text": "100\n[[ 0.  1.]\n [ 2.  3.]\n [ 4.  5.]\n [ 6.  7.]\n [ 8.  9.]\n [10. 11.]\n [12. 13.]\n [14. 15.]\n [16. 17.]\n [18. 19.]\n [20. 21.]\n [22. 23.]\n [24. 25.]\n [26. 27.]\n [28. 29.]\n [30. 31.]\n [32. 33.]\n [34. 35.]\n [36. 37.]\n [38. 39.]\n [40. 41.]\n [42. 43.]\n [44. 45.]\n [46. 47.]\n [48. 49.]\n [50. 51.]\n [52. 53.]\n [54. 55.]\n [56. 57.]\n [58. 59.]\n [60. 61.]\n [62. 63.]\n [64. 65.]\n [66. 67.]\n [68. 69.]\n [70. 71.]\n [72. 73.]\n [74. 75.]\n [76. 77.]\n [78. 79.]\n [80. 81.]\n [82. 83.]\n [84. 85.]\n [86. 87.]\n [88. 89.]\n [90. 91.]\n [92. 93.]\n [94. 95.]\n [96. 97.]\n [98. 99.]]\n[[ 0.+0.j  1.+0.j]\n [ 2.+0.j  3.+0.j]\n [ 4.+0.j  5.+0.j]\n [ 6.+0.j  7.+0.j]\n [ 8.+0.j  9.+0.j]\n [10.+0.j 11.+0.j]\n [12.+0.j 13.+0.j]\n [14.+0.j 15.+0.j]\n [16.+0.j 17.+0.j]\n [18.+0.j 19.+0.j]\n [20.+0.j 21.+0.j]\n [22.+0.j 23.+0.j]\n [24.+0.j 25.+0.j]\n [26.+0.j 27.+0.j]\n [28.+0.j 29.+0.j]\n [30.+0.j 31.+0.j]\n [32.+0.j 33.+0.j]\n [34.+0.j 35.+0.j]\n [36.+0.j 37.+0.j]\n [38.+0.j 39.+0.j]\n [40.+0.j 41.+0.j]\n [42.+0.j 43.+0.j]\n [44.+0.j 45.+0.j]\n [46.+0.j 47.+0.j]\n [48.+0.j 49.+0.j]\n [50.+0.j 51.+0.j]\n [52.+0.j 53.+0.j]\n [54.+0.j 55.+0.j]\n [56.+0.j 57.+0.j]\n [58.+0.j 59.+0.j]\n [60.+0.j 61.+0.j]\n [62.+0.j 63.+0.j]\n [64.+0.j 65.+0.j]\n [66.+0.j 67.+0.j]\n [68.+0.j 69.+0.j]\n [70.+0.j 71.+0.j]\n [72.+0.j 73.+0.j]\n [74.+0.j 75.+0.j]\n [76.+0.j 77.+0.j]\n [78.+0.j 79.+0.j]\n [80.+0.j 81.+0.j]\n [82.+0.j 83.+0.j]\n [84.+0.j 85.+0.j]\n [86.+0.j 87.+0.j]\n [88.+0.j 89.+0.j]\n [90.+0.j 91.+0.j]\n [92.+0.j 93.+0.j]\n [94.+0.j 95.+0.j]\n [96.+0.j 97.+0.j]\n [98.+0.j 99.+0.j]]\n",
          "output_type": "stream"
        }
      ]
    },
    {
      "cell_type": "code",
      "source": [
        "# q11: use of zeros and ones function with hstack\n",
        "zeroes=np.zeros((20,20))\n",
        "ones=np.ones((20,20))\n",
        "both=np.hstack((zeroes,ones))\n",
        "# hstack takes one positional argument\n",
        "print(both)"
      ],
      "metadata": {
        "execution": {
          "iopub.status.busy": "2024-06-29T03:18:05.951447Z",
          "iopub.execute_input": "2024-06-29T03:18:05.951883Z",
          "iopub.status.idle": "2024-06-29T03:18:05.966785Z",
          "shell.execute_reply.started": "2024-06-29T03:18:05.951849Z",
          "shell.execute_reply": "2024-06-29T03:18:05.965356Z"
        },
        "trusted": true,
        "id": "2Z4HL4pMKRif",
        "outputId": "38ced59a-f301-4771-a5e5-689de82789d4"
      },
      "execution_count": null,
      "outputs": [
        {
          "name": "stdout",
          "text": "[[0. 0. 0. 0. 0. 0. 0. 0. 0. 0. 0. 0. 0. 0. 0. 0. 0. 0. 0. 0. 1. 1. 1. 1.\n  1. 1. 1. 1. 1. 1. 1. 1. 1. 1. 1. 1. 1. 1. 1. 1.]\n [0. 0. 0. 0. 0. 0. 0. 0. 0. 0. 0. 0. 0. 0. 0. 0. 0. 0. 0. 0. 1. 1. 1. 1.\n  1. 1. 1. 1. 1. 1. 1. 1. 1. 1. 1. 1. 1. 1. 1. 1.]\n [0. 0. 0. 0. 0. 0. 0. 0. 0. 0. 0. 0. 0. 0. 0. 0. 0. 0. 0. 0. 1. 1. 1. 1.\n  1. 1. 1. 1. 1. 1. 1. 1. 1. 1. 1. 1. 1. 1. 1. 1.]\n [0. 0. 0. 0. 0. 0. 0. 0. 0. 0. 0. 0. 0. 0. 0. 0. 0. 0. 0. 0. 1. 1. 1. 1.\n  1. 1. 1. 1. 1. 1. 1. 1. 1. 1. 1. 1. 1. 1. 1. 1.]\n [0. 0. 0. 0. 0. 0. 0. 0. 0. 0. 0. 0. 0. 0. 0. 0. 0. 0. 0. 0. 1. 1. 1. 1.\n  1. 1. 1. 1. 1. 1. 1. 1. 1. 1. 1. 1. 1. 1. 1. 1.]\n [0. 0. 0. 0. 0. 0. 0. 0. 0. 0. 0. 0. 0. 0. 0. 0. 0. 0. 0. 0. 1. 1. 1. 1.\n  1. 1. 1. 1. 1. 1. 1. 1. 1. 1. 1. 1. 1. 1. 1. 1.]\n [0. 0. 0. 0. 0. 0. 0. 0. 0. 0. 0. 0. 0. 0. 0. 0. 0. 0. 0. 0. 1. 1. 1. 1.\n  1. 1. 1. 1. 1. 1. 1. 1. 1. 1. 1. 1. 1. 1. 1. 1.]\n [0. 0. 0. 0. 0. 0. 0. 0. 0. 0. 0. 0. 0. 0. 0. 0. 0. 0. 0. 0. 1. 1. 1. 1.\n  1. 1. 1. 1. 1. 1. 1. 1. 1. 1. 1. 1. 1. 1. 1. 1.]\n [0. 0. 0. 0. 0. 0. 0. 0. 0. 0. 0. 0. 0. 0. 0. 0. 0. 0. 0. 0. 1. 1. 1. 1.\n  1. 1. 1. 1. 1. 1. 1. 1. 1. 1. 1. 1. 1. 1. 1. 1.]\n [0. 0. 0. 0. 0. 0. 0. 0. 0. 0. 0. 0. 0. 0. 0. 0. 0. 0. 0. 0. 1. 1. 1. 1.\n  1. 1. 1. 1. 1. 1. 1. 1. 1. 1. 1. 1. 1. 1. 1. 1.]\n [0. 0. 0. 0. 0. 0. 0. 0. 0. 0. 0. 0. 0. 0. 0. 0. 0. 0. 0. 0. 1. 1. 1. 1.\n  1. 1. 1. 1. 1. 1. 1. 1. 1. 1. 1. 1. 1. 1. 1. 1.]\n [0. 0. 0. 0. 0. 0. 0. 0. 0. 0. 0. 0. 0. 0. 0. 0. 0. 0. 0. 0. 1. 1. 1. 1.\n  1. 1. 1. 1. 1. 1. 1. 1. 1. 1. 1. 1. 1. 1. 1. 1.]\n [0. 0. 0. 0. 0. 0. 0. 0. 0. 0. 0. 0. 0. 0. 0. 0. 0. 0. 0. 0. 1. 1. 1. 1.\n  1. 1. 1. 1. 1. 1. 1. 1. 1. 1. 1. 1. 1. 1. 1. 1.]\n [0. 0. 0. 0. 0. 0. 0. 0. 0. 0. 0. 0. 0. 0. 0. 0. 0. 0. 0. 0. 1. 1. 1. 1.\n  1. 1. 1. 1. 1. 1. 1. 1. 1. 1. 1. 1. 1. 1. 1. 1.]\n [0. 0. 0. 0. 0. 0. 0. 0. 0. 0. 0. 0. 0. 0. 0. 0. 0. 0. 0. 0. 1. 1. 1. 1.\n  1. 1. 1. 1. 1. 1. 1. 1. 1. 1. 1. 1. 1. 1. 1. 1.]\n [0. 0. 0. 0. 0. 0. 0. 0. 0. 0. 0. 0. 0. 0. 0. 0. 0. 0. 0. 0. 1. 1. 1. 1.\n  1. 1. 1. 1. 1. 1. 1. 1. 1. 1. 1. 1. 1. 1. 1. 1.]\n [0. 0. 0. 0. 0. 0. 0. 0. 0. 0. 0. 0. 0. 0. 0. 0. 0. 0. 0. 0. 1. 1. 1. 1.\n  1. 1. 1. 1. 1. 1. 1. 1. 1. 1. 1. 1. 1. 1. 1. 1.]\n [0. 0. 0. 0. 0. 0. 0. 0. 0. 0. 0. 0. 0. 0. 0. 0. 0. 0. 0. 0. 1. 1. 1. 1.\n  1. 1. 1. 1. 1. 1. 1. 1. 1. 1. 1. 1. 1. 1. 1. 1.]\n [0. 0. 0. 0. 0. 0. 0. 0. 0. 0. 0. 0. 0. 0. 0. 0. 0. 0. 0. 0. 1. 1. 1. 1.\n  1. 1. 1. 1. 1. 1. 1. 1. 1. 1. 1. 1. 1. 1. 1. 1.]\n [0. 0. 0. 0. 0. 0. 0. 0. 0. 0. 0. 0. 0. 0. 0. 0. 0. 0. 0. 0. 1. 1. 1. 1.\n  1. 1. 1. 1. 1. 1. 1. 1. 1. 1. 1. 1. 1. 1. 1. 1.]]\n",
          "output_type": "stream"
        }
      ]
    },
    {
      "cell_type": "code",
      "source": [
        "# q12: use arange function and lin function to generate 5 types of values\n",
        "l2=np.arange(1,100,2)\n",
        "print(type(l2))\n",
        "# print(l2)\n",
        "l22=np.linspace(1,5,200)\n",
        "# print(l22)\n",
        "l22.reshape(20,10)"
      ],
      "metadata": {
        "execution": {
          "iopub.status.busy": "2024-06-29T03:21:46.985003Z",
          "iopub.execute_input": "2024-06-29T03:21:46.985425Z",
          "iopub.status.idle": "2024-06-29T03:21:46.998293Z",
          "shell.execute_reply.started": "2024-06-29T03:21:46.985392Z",
          "shell.execute_reply": "2024-06-29T03:21:46.996956Z"
        },
        "trusted": true,
        "id": "SDWrK2fpKRig",
        "outputId": "c3af0364-2fc6-4bfb-ee90-ad5a6cc6bbcc"
      },
      "execution_count": null,
      "outputs": [
        {
          "name": "stdout",
          "text": "<class 'numpy.ndarray'>\n",
          "output_type": "stream"
        },
        {
          "execution_count": 108,
          "output_type": "execute_result",
          "data": {
            "text/plain": "array([[1.        , 1.0201005 , 1.04020101, 1.06030151, 1.08040201,\n        1.10050251, 1.12060302, 1.14070352, 1.16080402, 1.18090452],\n       [1.20100503, 1.22110553, 1.24120603, 1.26130653, 1.28140704,\n        1.30150754, 1.32160804, 1.34170854, 1.36180905, 1.38190955],\n       [1.40201005, 1.42211055, 1.44221106, 1.46231156, 1.48241206,\n        1.50251256, 1.52261307, 1.54271357, 1.56281407, 1.58291457],\n       [1.60301508, 1.62311558, 1.64321608, 1.66331658, 1.68341709,\n        1.70351759, 1.72361809, 1.74371859, 1.7638191 , 1.7839196 ],\n       [1.8040201 , 1.8241206 , 1.84422111, 1.86432161, 1.88442211,\n        1.90452261, 1.92462312, 1.94472362, 1.96482412, 1.98492462],\n       [2.00502513, 2.02512563, 2.04522613, 2.06532663, 2.08542714,\n        2.10552764, 2.12562814, 2.14572864, 2.16582915, 2.18592965],\n       [2.20603015, 2.22613065, 2.24623116, 2.26633166, 2.28643216,\n        2.30653266, 2.32663317, 2.34673367, 2.36683417, 2.38693467],\n       [2.40703518, 2.42713568, 2.44723618, 2.46733668, 2.48743719,\n        2.50753769, 2.52763819, 2.54773869, 2.5678392 , 2.5879397 ],\n       [2.6080402 , 2.6281407 , 2.64824121, 2.66834171, 2.68844221,\n        2.70854271, 2.72864322, 2.74874372, 2.76884422, 2.78894472],\n       [2.80904523, 2.82914573, 2.84924623, 2.86934673, 2.88944724,\n        2.90954774, 2.92964824, 2.94974874, 2.96984925, 2.98994975],\n       [3.01005025, 3.03015075, 3.05025126, 3.07035176, 3.09045226,\n        3.11055276, 3.13065327, 3.15075377, 3.17085427, 3.19095477],\n       [3.21105528, 3.23115578, 3.25125628, 3.27135678, 3.29145729,\n        3.31155779, 3.33165829, 3.35175879, 3.3718593 , 3.3919598 ],\n       [3.4120603 , 3.4321608 , 3.45226131, 3.47236181, 3.49246231,\n        3.51256281, 3.53266332, 3.55276382, 3.57286432, 3.59296482],\n       [3.61306533, 3.63316583, 3.65326633, 3.67336683, 3.69346734,\n        3.71356784, 3.73366834, 3.75376884, 3.77386935, 3.79396985],\n       [3.81407035, 3.83417085, 3.85427136, 3.87437186, 3.89447236,\n        3.91457286, 3.93467337, 3.95477387, 3.97487437, 3.99497487],\n       [4.01507538, 4.03517588, 4.05527638, 4.07537688, 4.09547739,\n        4.11557789, 4.13567839, 4.15577889, 4.1758794 , 4.1959799 ],\n       [4.2160804 , 4.2361809 , 4.25628141, 4.27638191, 4.29648241,\n        4.31658291, 4.33668342, 4.35678392, 4.37688442, 4.39698492],\n       [4.41708543, 4.43718593, 4.45728643, 4.47738693, 4.49748744,\n        4.51758794, 4.53768844, 4.55778894, 4.57788945, 4.59798995],\n       [4.61809045, 4.63819095, 4.65829146, 4.67839196, 4.69849246,\n        4.71859296, 4.73869347, 4.75879397, 4.77889447, 4.79899497],\n       [4.81909548, 4.83919598, 4.85929648, 4.87939698, 4.89949749,\n        4.91959799, 4.93969849, 4.95979899, 4.9798995 , 5.        ]])"
          },
          "metadata": {}
        }
      ]
    },
    {
      "cell_type": "code",
      "source": [
        "# q13: find min , max and sum of elements\n",
        "min=l22.min()\n",
        "sum=l22.sum()\n",
        "max=l22.max()\n",
        "print(min,max,sum)"
      ],
      "metadata": {
        "execution": {
          "iopub.status.busy": "2024-06-29T03:24:01.541032Z",
          "iopub.execute_input": "2024-06-29T03:24:01.541458Z",
          "iopub.status.idle": "2024-06-29T03:24:01.548558Z",
          "shell.execute_reply.started": "2024-06-29T03:24:01.541417Z",
          "shell.execute_reply": "2024-06-29T03:24:01.547211Z"
        },
        "trusted": true,
        "id": "Rva5bDKiKRig",
        "outputId": "a21c6f32-2f72-44be-d3e5-9c0cca327d38"
      },
      "execution_count": null,
      "outputs": [
        {
          "name": "stdout",
          "text": "1.0 5.0 600.0\n",
          "output_type": "stream"
        }
      ]
    },
    {
      "cell_type": "code",
      "source": [
        "#q14: make a 3x3 matrix and print sum across all axises\n",
        "mat=np.arange(1,10)\n",
        "mat=mat.reshape(3,3)\n",
        "print(mat)"
      ],
      "metadata": {
        "execution": {
          "iopub.status.busy": "2024-06-29T03:27:29.070029Z",
          "iopub.execute_input": "2024-06-29T03:27:29.070469Z",
          "iopub.status.idle": "2024-06-29T03:27:29.07799Z",
          "shell.execute_reply.started": "2024-06-29T03:27:29.070437Z",
          "shell.execute_reply": "2024-06-29T03:27:29.076496Z"
        },
        "trusted": true,
        "id": "5UVGZqW1KRih",
        "outputId": "acbff512-8768-4721-a9c0-faf4b060acf3"
      },
      "execution_count": null,
      "outputs": [
        {
          "name": "stdout",
          "text": "[[1 2 3]\n [4 5 6]\n [7 8 9]]\n",
          "output_type": "stream"
        }
      ]
    },
    {
      "cell_type": "code",
      "source": [
        "sum0=mat.sum(axis=0)\n",
        "# print(sum0)\n",
        "sum1=mat.sum(axis=1)\n",
        "# print(sum1)\n",
        "print(mat)"
      ],
      "metadata": {
        "execution": {
          "iopub.status.busy": "2024-06-29T03:28:49.84907Z",
          "iopub.execute_input": "2024-06-29T03:28:49.849966Z",
          "iopub.status.idle": "2024-06-29T03:28:49.856211Z",
          "shell.execute_reply.started": "2024-06-29T03:28:49.849927Z",
          "shell.execute_reply": "2024-06-29T03:28:49.854973Z"
        },
        "trusted": true,
        "id": "a9n2t1OvKRii",
        "outputId": "44d4964a-b702-458d-f888-27edf7b3d1fa"
      },
      "execution_count": null,
      "outputs": [
        {
          "name": "stdout",
          "text": "[[1 2 3]\n [4 5 6]\n [7 8 9]]\n",
          "output_type": "stream"
        }
      ]
    },
    {
      "cell_type": "code",
      "source": [
        "print(mat[0:1])\n",
        "print(mat[1:2])\n",
        "print(mat[2:3])"
      ],
      "metadata": {
        "execution": {
          "iopub.status.busy": "2024-06-29T03:30:39.923904Z",
          "iopub.execute_input": "2024-06-29T03:30:39.924286Z",
          "iopub.status.idle": "2024-06-29T03:30:39.935447Z",
          "shell.execute_reply.started": "2024-06-29T03:30:39.924222Z",
          "shell.execute_reply": "2024-06-29T03:30:39.934358Z"
        },
        "trusted": true,
        "id": "do3b-zTgKRii",
        "outputId": "6e6fa769-8dc6-4361-a2ea-3bc244b775d5"
      },
      "execution_count": null,
      "outputs": [
        {
          "name": "stdout",
          "text": "[[1 2 3]]\n[[4 5 6]]\n[[7 8 9]]\n",
          "output_type": "stream"
        }
      ]
    },
    {
      "cell_type": "code",
      "source": [
        "print(mat[:,0:3])"
      ],
      "metadata": {
        "execution": {
          "iopub.status.busy": "2024-06-29T03:35:10.639061Z",
          "iopub.execute_input": "2024-06-29T03:35:10.64016Z",
          "iopub.status.idle": "2024-06-29T03:35:10.646Z",
          "shell.execute_reply.started": "2024-06-29T03:35:10.640122Z",
          "shell.execute_reply": "2024-06-29T03:35:10.644841Z"
        },
        "trusted": true,
        "id": "hgyrXF5bKRii",
        "outputId": "4a14b4c9-16a4-414f-af74-6224ecd51890"
      },
      "execution_count": null,
      "outputs": [
        {
          "name": "stdout",
          "text": "[[1 2 3]\n [4 5 6]\n [7 8 9]]\n",
          "output_type": "stream"
        }
      ]
    }
  ]
}