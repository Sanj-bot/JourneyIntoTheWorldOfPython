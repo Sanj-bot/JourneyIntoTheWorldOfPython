{
  "nbformat": 4,
  "nbformat_minor": 0,
  "metadata": {
    "colab": {
      "provenance": [],
      "authorship_tag": "ABX9TyNxiCr6peiiIrTFDK4FWTOG",
      "include_colab_link": true
    },
    "kernelspec": {
      "name": "python3",
      "display_name": "Python 3"
    },
    "language_info": {
      "name": "python"
    }
  },
  "cells": [
    {
      "cell_type": "markdown",
      "metadata": {
        "id": "view-in-github",
        "colab_type": "text"
      },
      "source": [
        "<a href=\"https://colab.research.google.com/github/Sanj-bot/Python-Corey-Schafer/blob/main/ListTupesAndDictionaies.ipynb\" target=\"_parent\"><img src=\"https://colab.research.google.com/assets/colab-badge.svg\" alt=\"Open In Colab\"/></a>"
      ]
    },
    {
      "cell_type": "code",
      "execution_count": null,
      "metadata": {
        "colab": {
          "base_uri": "https://localhost:8080/"
        },
        "id": "jrBsB-JKOtfq",
        "outputId": "ce335b6c-b04c-4beb-a505-162d72e69218"
      },
      "outputs": [
        {
          "output_type": "stream",
          "name": "stdout",
          "text": [
            "The minimum number is -30\n",
            "Index of -30 is 2\n",
            "is 1 present? True\n"
          ]
        }
      ],
      "source": [
        "#list\n",
        "numbers=[1,20,-30,22]\n",
        "print(\"The minimum number is\",min(numbers))\n",
        "print(\"Index of -30 is\",numbers.index(-30))\n",
        "print(\"is 1 present?\",1 in numbers)"
      ]
    },
    {
      "cell_type": "code",
      "source": [
        "for number in numbers:\n",
        "  print(number)"
      ],
      "metadata": {
        "colab": {
          "base_uri": "https://localhost:8080/"
        },
        "id": "Dqn6MXwnRv4C",
        "outputId": "76f47a9c-733a-436d-9efc-ed5ba9bc9bba"
      },
      "execution_count": null,
      "outputs": [
        {
          "output_type": "stream",
          "name": "stdout",
          "text": [
            "1\n",
            "20\n",
            "-30\n",
            "22\n"
          ]
        }
      ]
    },
    {
      "cell_type": "code",
      "source": [
        "for index, number in enumerate(numbers,start=1):\n",
        "  print(index,\":\",number)"
      ],
      "metadata": {
        "colab": {
          "base_uri": "https://localhost:8080/"
        },
        "id": "qz16JoQ_SG1r",
        "outputId": "dab269e0-f7a2-443f-9c57-68257b5af5e2"
      },
      "execution_count": null,
      "outputs": [
        {
          "output_type": "stream",
          "name": "stdout",
          "text": [
            "1 : 1\n",
            "2 : 20\n",
            "3 : -30\n",
            "4 : 22\n"
          ]
        }
      ]
    },
    {
      "cell_type": "code",
      "source": [
        "courses=['Phy', 'Chem','CompSci', 'Dis math']\n",
        "courses_string='--'.join(courses)\n",
        "print(courses_string)\n",
        "new_courses_list=courses_string.split('--')\n",
        "print(new_courses_list)"
      ],
      "metadata": {
        "colab": {
          "base_uri": "https://localhost:8080/"
        },
        "id": "ocu9ce01SmTZ",
        "outputId": "0d4da4b9-b1ab-4a5a-e398-a92d22892520"
      },
      "execution_count": null,
      "outputs": [
        {
          "output_type": "stream",
          "name": "stdout",
          "text": [
            "Physics--Chemistry--Computer Science--Discrete mathematics\n",
            "['Physics', 'Chemistry', 'Computer Science', 'Discrete mathematics']\n"
          ]
        }
      ]
    },
    {
      "cell_type": "code",
      "source": [
        "#Moving on to tuples and sets\n",
        "#Tuples are immutable\n",
        "\n",
        "tuple1=(\"Hist\", \"phy\", \"Philo\", \"SE\")\n",
        "tuple2=tuple1\n",
        "print(tuple1)\n",
        "print(tuple2)\n",
        "tuple2[0]='lit'\n",
        "print(tuple1)\n",
        "print(tuple2)\n",
        "\n",
        "\n",
        "\n",
        "\n",
        "#Sets\n",
        "\n"
      ],
      "metadata": {
        "colab": {
          "base_uri": "https://localhost:8080/",
          "height": 279
        },
        "id": "1X44ZxlBXCr0",
        "outputId": "31e70571-ed87-4206-cc50-59398c62e008"
      },
      "execution_count": null,
      "outputs": [
        {
          "output_type": "stream",
          "name": "stdout",
          "text": [
            "('Hist', 'phy', 'Philo', 'SE')\n",
            "('Hist', 'phy', 'Philo', 'SE')\n"
          ]
        },
        {
          "output_type": "error",
          "ename": "TypeError",
          "evalue": "ignored",
          "traceback": [
            "\u001b[0;31m---------------------------------------------------------------------------\u001b[0m",
            "\u001b[0;31mTypeError\u001b[0m                                 Traceback (most recent call last)",
            "\u001b[0;32m<ipython-input-27-7de364897e1e>\u001b[0m in \u001b[0;36m<cell line: 8>\u001b[0;34m()\u001b[0m\n\u001b[1;32m      6\u001b[0m \u001b[0mprint\u001b[0m\u001b[0;34m(\u001b[0m\u001b[0mtuple1\u001b[0m\u001b[0;34m)\u001b[0m\u001b[0;34m\u001b[0m\u001b[0;34m\u001b[0m\u001b[0m\n\u001b[1;32m      7\u001b[0m \u001b[0mprint\u001b[0m\u001b[0;34m(\u001b[0m\u001b[0mtuple2\u001b[0m\u001b[0;34m)\u001b[0m\u001b[0;34m\u001b[0m\u001b[0;34m\u001b[0m\u001b[0m\n\u001b[0;32m----> 8\u001b[0;31m \u001b[0mtuple2\u001b[0m\u001b[0;34m[\u001b[0m\u001b[0;36m0\u001b[0m\u001b[0;34m]\u001b[0m\u001b[0;34m=\u001b[0m\u001b[0;34m'lit'\u001b[0m\u001b[0;34m\u001b[0m\u001b[0;34m\u001b[0m\u001b[0m\n\u001b[0m\u001b[1;32m      9\u001b[0m \u001b[0mprint\u001b[0m\u001b[0;34m(\u001b[0m\u001b[0mtuple1\u001b[0m\u001b[0;34m)\u001b[0m\u001b[0;34m\u001b[0m\u001b[0;34m\u001b[0m\u001b[0m\n\u001b[1;32m     10\u001b[0m \u001b[0mprint\u001b[0m\u001b[0;34m(\u001b[0m\u001b[0mtuple2\u001b[0m\u001b[0;34m)\u001b[0m\u001b[0;34m\u001b[0m\u001b[0;34m\u001b[0m\u001b[0m\n",
            "\u001b[0;31mTypeError\u001b[0m: 'tuple' object does not support item assignment"
          ]
        }
      ]
    },
    {
      "cell_type": "code",
      "source": [
        "Sets_Example={\"Hind\", \"Chem\",\"Unix\"}\n",
        "print(Sets_Example)\n",
        "#order change with each execution, they dont really care about order\n",
        "#sets throws  away duplicates.\n",
        "numbers={1,2,2,2,2,2,2,2,3}\n",
        "print(numbers)\n",
        "print(2 in numbers) #sets are optimised for this\n"
      ],
      "metadata": {
        "colab": {
          "base_uri": "https://localhost:8080/"
        },
        "id": "rOUcY343YiIp",
        "outputId": "f91f2cfe-7525-4473-effd-3186c24b2489"
      },
      "execution_count": null,
      "outputs": [
        {
          "output_type": "stream",
          "name": "stdout",
          "text": [
            "{'Unix', 'Chem', 'Hind'}\n",
            "{1, 2, 3}\n",
            "True\n"
          ]
        }
      ]
    },
    {
      "cell_type": "code",
      "source": [
        "cs_courses={'History', 'Math','Physics','CompSCi'}\n",
        "art_courses={\"History\",\"Math\",\"Art\",\"Design\"}\n",
        "print(cs_courses.union(art_courses))\n",
        "print(cs_courses.difference(art_courses))"
      ],
      "metadata": {
        "colab": {
          "base_uri": "https://localhost:8080/"
        },
        "id": "ESlWAFCiZOGM",
        "outputId": "20301600-affd-4149-a447-f356617d8dc6"
      },
      "execution_count": null,
      "outputs": [
        {
          "output_type": "stream",
          "name": "stdout",
          "text": [
            "{'History', 'CompSCi', 'Physics', 'Math', 'Design', 'Art'}\n",
            "{'Physics', 'CompSCi'}\n"
          ]
        }
      ]
    }
  ]
}