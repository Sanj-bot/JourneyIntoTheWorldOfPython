{
  "nbformat": 4,
  "nbformat_minor": 0,
  "metadata": {
    "colab": {
      "provenance": [],
      "authorship_tag": "ABX9TyOGN6lEKRGLoOAJUOdBfpGh",
      "include_colab_link": true
    },
    "kernelspec": {
      "name": "python3",
      "display_name": "Python 3"
    },
    "language_info": {
      "name": "python"
    }
  },
  "cells": [
    {
      "cell_type": "markdown",
      "metadata": {
        "id": "view-in-github",
        "colab_type": "text"
      },
      "source": [
        "<a href=\"https://colab.research.google.com/github/Sanj-bot/JourneyIntoTheWorldOfPython/blob/main/requests.ipynb\" target=\"_parent\"><img src=\"https://colab.research.google.com/assets/colab-badge.svg\" alt=\"Open In Colab\"/></a>"
      ]
    },
    {
      "cell_type": "code",
      "execution_count": 1,
      "metadata": {
        "colab": {
          "base_uri": "https://localhost:8080/"
        },
        "id": "dYi7p_1abLp0",
        "outputId": "d731259e-087b-45d5-8db9-bcad34d69038"
      },
      "outputs": [
        {
          "output_type": "stream",
          "name": "stdout",
          "text": [
            "Requirement already satisfied: requests in /usr/local/lib/python3.10/dist-packages (2.31.0)\n",
            "Requirement already satisfied: charset-normalizer<4,>=2 in /usr/local/lib/python3.10/dist-packages (from requests) (3.3.2)\n",
            "Requirement already satisfied: idna<4,>=2.5 in /usr/local/lib/python3.10/dist-packages (from requests) (3.6)\n",
            "Requirement already satisfied: urllib3<3,>=1.21.1 in /usr/local/lib/python3.10/dist-packages (from requests) (2.0.7)\n",
            "Requirement already satisfied: certifi>=2017.4.17 in /usr/local/lib/python3.10/dist-packages (from requests) (2024.2.2)\n"
          ]
        }
      ],
      "source": [
        "pip install requests"
      ]
    },
    {
      "cell_type": "code",
      "source": [
        "import requests\n",
        "r=requests.get('https://xkcd.com/353/')\n",
        "print(dir(r))"
      ],
      "metadata": {
        "colab": {
          "base_uri": "https://localhost:8080/"
        },
        "id": "Al-JcgCWbPG0",
        "outputId": "79ed7c7e-a511-41c1-984d-0e0d43f9e503"
      },
      "execution_count": 3,
      "outputs": [
        {
          "output_type": "stream",
          "name": "stdout",
          "text": [
            "['__attrs__', '__bool__', '__class__', '__delattr__', '__dict__', '__dir__', '__doc__', '__enter__', '__eq__', '__exit__', '__format__', '__ge__', '__getattribute__', '__getstate__', '__gt__', '__hash__', '__init__', '__init_subclass__', '__iter__', '__le__', '__lt__', '__module__', '__ne__', '__new__', '__nonzero__', '__reduce__', '__reduce_ex__', '__repr__', '__setattr__', '__setstate__', '__sizeof__', '__str__', '__subclasshook__', '__weakref__', '_content', '_content_consumed', '_next', 'apparent_encoding', 'close', 'connection', 'content', 'cookies', 'elapsed', 'encoding', 'headers', 'history', 'is_permanent_redirect', 'is_redirect', 'iter_content', 'iter_lines', 'json', 'links', 'next', 'ok', 'raise_for_status', 'raw', 'reason', 'request', 'status_code', 'text', 'url']\n"
          ]
        }
      ]
    },
    {
      "cell_type": "code",
      "source": [
        "print(help(r))"
      ],
      "metadata": {
        "colab": {
          "base_uri": "https://localhost:8080/"
        },
        "id": "icnMsjqRbp_z",
        "outputId": "6cd38b2b-1d59-480b-84ee-bb6716926ac5"
      },
      "execution_count": 4,
      "outputs": [
        {
          "output_type": "stream",
          "name": "stdout",
          "text": [
            "Help on Response in module requests.models object:\n",
            "\n",
            "class Response(builtins.object)\n",
            " |  The :class:`Response <Response>` object, which contains a\n",
            " |  server's response to an HTTP request.\n",
            " |  \n",
            " |  Methods defined here:\n",
            " |  \n",
            " |  __bool__(self)\n",
            " |      Returns True if :attr:`status_code` is less than 400.\n",
            " |      \n",
            " |      This attribute checks if the status code of the response is between\n",
            " |      400 and 600 to see if there was a client error or a server error. If\n",
            " |      the status code, is between 200 and 400, this will return True. This\n",
            " |      is **not** a check to see if the response code is ``200 OK``.\n",
            " |  \n",
            " |  __enter__(self)\n",
            " |  \n",
            " |  __exit__(self, *args)\n",
            " |  \n",
            " |  __getstate__(self)\n",
            " |  \n",
            " |  __init__(self)\n",
            " |      Initialize self.  See help(type(self)) for accurate signature.\n",
            " |  \n",
            " |  __iter__(self)\n",
            " |      Allows you to use a response as an iterator.\n",
            " |  \n",
            " |  __nonzero__(self)\n",
            " |      Returns True if :attr:`status_code` is less than 400.\n",
            " |      \n",
            " |      This attribute checks if the status code of the response is between\n",
            " |      400 and 600 to see if there was a client error or a server error. If\n",
            " |      the status code, is between 200 and 400, this will return True. This\n",
            " |      is **not** a check to see if the response code is ``200 OK``.\n",
            " |  \n",
            " |  __repr__(self)\n",
            " |      Return repr(self).\n",
            " |  \n",
            " |  __setstate__(self, state)\n",
            " |  \n",
            " |  close(self)\n",
            " |      Releases the connection back to the pool. Once this method has been\n",
            " |      called the underlying ``raw`` object must not be accessed again.\n",
            " |      \n",
            " |      *Note: Should not normally need to be called explicitly.*\n",
            " |  \n",
            " |  iter_content(self, chunk_size=1, decode_unicode=False)\n",
            " |      Iterates over the response data.  When stream=True is set on the\n",
            " |      request, this avoids reading the content at once into memory for\n",
            " |      large responses.  The chunk size is the number of bytes it should\n",
            " |      read into memory.  This is not necessarily the length of each item\n",
            " |      returned as decoding can take place.\n",
            " |      \n",
            " |      chunk_size must be of type int or None. A value of None will\n",
            " |      function differently depending on the value of `stream`.\n",
            " |      stream=True will read data as it arrives in whatever size the\n",
            " |      chunks are received. If stream=False, data is returned as\n",
            " |      a single chunk.\n",
            " |      \n",
            " |      If decode_unicode is True, content will be decoded using the best\n",
            " |      available encoding based on the response.\n",
            " |  \n",
            " |  iter_lines(self, chunk_size=512, decode_unicode=False, delimiter=None)\n",
            " |      Iterates over the response data, one line at a time.  When\n",
            " |      stream=True is set on the request, this avoids reading the\n",
            " |      content at once into memory for large responses.\n",
            " |      \n",
            " |      .. note:: This method is not reentrant safe.\n",
            " |  \n",
            " |  json(self, **kwargs)\n",
            " |      Returns the json-encoded content of a response, if any.\n",
            " |      \n",
            " |      :param \\*\\*kwargs: Optional arguments that ``json.loads`` takes.\n",
            " |      :raises requests.exceptions.JSONDecodeError: If the response body does not\n",
            " |          contain valid json.\n",
            " |  \n",
            " |  raise_for_status(self)\n",
            " |      Raises :class:`HTTPError`, if one occurred.\n",
            " |  \n",
            " |  ----------------------------------------------------------------------\n",
            " |  Readonly properties defined here:\n",
            " |  \n",
            " |  apparent_encoding\n",
            " |      The apparent encoding, provided by the charset_normalizer or chardet libraries.\n",
            " |  \n",
            " |  content\n",
            " |      Content of the response, in bytes.\n",
            " |  \n",
            " |  is_permanent_redirect\n",
            " |      True if this Response one of the permanent versions of redirect.\n",
            " |  \n",
            " |  is_redirect\n",
            " |      True if this Response is a well-formed HTTP redirect that could have\n",
            " |      been processed automatically (by :meth:`Session.resolve_redirects`).\n",
            " |  \n",
            " |  links\n",
            " |      Returns the parsed header links of the response, if any.\n",
            " |  \n",
            " |  next\n",
            " |      Returns a PreparedRequest for the next request in a redirect chain, if there is one.\n",
            " |  \n",
            " |  ok\n",
            " |      Returns True if :attr:`status_code` is less than 400, False if not.\n",
            " |      \n",
            " |      This attribute checks if the status code of the response is between\n",
            " |      400 and 600 to see if there was a client error or a server error. If\n",
            " |      the status code is between 200 and 400, this will return True. This\n",
            " |      is **not** a check to see if the response code is ``200 OK``.\n",
            " |  \n",
            " |  text\n",
            " |      Content of the response, in unicode.\n",
            " |      \n",
            " |      If Response.encoding is None, encoding will be guessed using\n",
            " |      ``charset_normalizer`` or ``chardet``.\n",
            " |      \n",
            " |      The encoding of the response content is determined based solely on HTTP\n",
            " |      headers, following RFC 2616 to the letter. If you can take advantage of\n",
            " |      non-HTTP knowledge to make a better guess at the encoding, you should\n",
            " |      set ``r.encoding`` appropriately before accessing this property.\n",
            " |  \n",
            " |  ----------------------------------------------------------------------\n",
            " |  Data descriptors defined here:\n",
            " |  \n",
            " |  __dict__\n",
            " |      dictionary for instance variables (if defined)\n",
            " |  \n",
            " |  __weakref__\n",
            " |      list of weak references to the object (if defined)\n",
            " |  \n",
            " |  ----------------------------------------------------------------------\n",
            " |  Data and other attributes defined here:\n",
            " |  \n",
            " |  __attrs__ = ['_content', 'status_code', 'headers', 'url', 'history', '...\n",
            "\n",
            "None\n"
          ]
        }
      ]
    },
    {
      "cell_type": "code",
      "source": [
        "print(r.text)"
      ],
      "metadata": {
        "colab": {
          "base_uri": "https://localhost:8080/"
        },
        "id": "PQQdV3iNb3aU",
        "outputId": "727e92bd-0fe9-4595-ddee-63a76c60da5a"
      },
      "execution_count": 5,
      "outputs": [
        {
          "output_type": "stream",
          "name": "stdout",
          "text": [
            "<!DOCTYPE html>\n",
            "<html>\n",
            "<head>\n",
            "<link rel=\"stylesheet\" type=\"text/css\" href=\"/s/7d94e0.css\" title=\"Default\"/>\n",
            "<title>xkcd: Python</title>\n",
            "<meta http-equiv=\"X-UA-Compatible\" content=\"IE=edge\"/>\n",
            "<link rel=\"shortcut icon\" href=\"/s/919f27.ico\" type=\"image/x-icon\"/>\n",
            "<link rel=\"icon\" href=\"/s/919f27.ico\" type=\"image/x-icon\"/>\n",
            "<link rel=\"alternate\" type=\"application/atom+xml\" title=\"Atom 1.0\" href=\"/atom.xml\"/>\n",
            "<link rel=\"alternate\" type=\"application/rss+xml\" title=\"RSS 2.0\" href=\"/rss.xml\"/>\n",
            "<!-- <script type=\"text/javascript\" src=\"/s/b66ed7.js\" async></script>\n",
            "<script type=\"text/javascript\" src=\"/s/1b9456.js\" async></script> -->\n",
            "\n",
            "<meta property=\"og:site_name\" content=\"xkcd\">\n",
            "\n",
            "<meta property=\"og:title\" content=\"Python\">\n",
            "<meta property=\"og:url\" content=\"https://xkcd.com/353/\">\n",
            "<meta property=\"og:image\" content=\"https://imgs.xkcd.com/comics/python.png\">\n",
            "<meta name=\"twitter:card\" content=\"summary_large_image\">\n",
            "\n",
            "</head>\n",
            "<body>\n",
            "<div id=\"topContainer\">\n",
            "<div id=\"topLeft\">\n",
            "<ul>\n",
            "<li><a href=\"/archive\">Archive</a></li>\n",
            "<li><a href=\"https://what-if.xkcd.com\">What If?</a></li>\n",
            "<li><a rel=\"author\" href=\"/about\">About</a></li>\n",
            "<li><a href=\"/atom.xml\">Feed</a>&bull;<a href=\"/newsletter/\">Email</a></li>\n",
            "<li><a href=\"https://twitter.com/xkcd/\">TW</a>&bull;<a href=\"https://www.facebook.com/TheXKCD/\">FB</a>&bull;<a href=\"https://www.instagram.com/xkcd/\">IG</a></li>\n",
            "<li><a href=\"/books/\">-Books-</a></li>\n",
            "<li><a href=\"/what-if-2/\">What If? 2</a></li>\n",
            "<li><a href=\"/what-if/\">WI?</a>&bull;<a href=\"/thing-explainer/\">TE</a>&bull;<a href=\"/how-to/\">HT</a></li>\n",
            "</ul>\n",
            "</div>\n",
            "<div id=\"topRight\">\n",
            "<div id=\"masthead\">\n",
            "<span><a href=\"/\"><img src=\"/s/0b7742.png\" alt=\"xkcd.com logo\" height=\"83\" width=\"185\"/></a></span>\n",
            "<span id=\"slogan\">A webcomic of romance,<br/> sarcasm, math, and language.</span>\n",
            "</div>\n",
            "<div id=\"news\">\n",
            "<div id=\"xkcdNews\">\n",
            "<a href=\"https://what-if.xkcd.com/\">What If?</a> is now on YouTube!<br />\n",
            "Check out the first video for the answer to <br /><a href=\"https://youtu.be/2LSyizrk8-0\">“What if we aimed the Hubble Telescope at Earth?”</a><br />and follow <a href=\"https://www.youtube.com/@xkcd_whatif\">xkcd’s What If? The Video Series channel</a> to be notified about each new video.\n",
            "</div>\n",
            "\n",
            "</div>\n",
            "</div>\n",
            "<div id=\"bgLeft\" class=\"bg box\"></div>\n",
            "<div id=\"bgRight\" class=\"bg box\"></div>\n",
            "</div>\n",
            "<div id=\"middleContainer\" class=\"box\">\n",
            "\n",
            "<div id=\"ctitle\">Python</div>\n",
            "<ul class=\"comicNav\">\n",
            "<li><a href=\"/1/\">|&lt;</a></li>\n",
            "<li><a rel=\"prev\" href=\"/352/\" accesskey=\"p\">&lt; Prev</a></li>\n",
            "<li><a href=\"//c.xkcd.com/random/comic/\">Random</a></li>\n",
            "<li><a rel=\"next\" href=\"/354/\" accesskey=\"n\">Next &gt;</a></li>\n",
            "<li><a href=\"/\">&gt;|</a></li>\n",
            "</ul>\n",
            "<div id=\"comic\">\n",
            "<img src=\"//imgs.xkcd.com/comics/python.png\" title=\"I wrote 20 short programs in Python yesterday.  It was wonderful.  Perl, I&#39;m leaving you.\" alt=\"Python\"  style=\"image-orientation:none\" />\n",
            "</div>\n",
            "<ul class=\"comicNav\">\n",
            "<li><a href=\"/1/\">|&lt;</a></li>\n",
            "<li><a rel=\"prev\" href=\"/352/\" accesskey=\"p\">&lt; Prev</a></li>\n",
            "<li><a href=\"//c.xkcd.com/random/comic/\">Random</a></li>\n",
            "<li><a rel=\"next\" href=\"/354/\" accesskey=\"n\">Next &gt;</a></li>\n",
            "<li><a href=\"/\">&gt;|</a></li>\n",
            "</ul>\n",
            "<br />\n",
            "Permanent link to this comic: <a href=\"https://xkcd.com/353\">https://xkcd.com/353/</a><br />\n",
            "Image URL (for hotlinking/embedding): <a href= \"https://imgs.xkcd.com/comics/python.png\">https://imgs.xkcd.com/comics/python.png</a>\n",
            "\n",
            "<div id=\"transcript\" style=\"display: none\">[[ Guy 1 is talking to Guy 2, who is floating in the sky ]]\n",
            "Guy 1: You&#39;re flying! How?\n",
            "Guy 2: Python!\n",
            "Guy 2: I learned it last night! Everything is so simple!\n",
            "Guy 2: Hello world is just &#39;print &quot;Hello, World!&quot; &#39;\n",
            "Guy 1: I dunno... Dynamic typing? Whitespace?\n",
            "Guy 2: Come join us! Programming is fun again! It&#39;s a whole new world up here!\n",
            "Guy 1: But how are you flying?\n",
            "Guy 2: I just typed &#39;import antigravity&#39;\n",
            "Guy 1: That&#39;s it?\n",
            "Guy 2: ...I also sampled everything in the medicine cabinet for comparison.\n",
            "Guy 2: But i think this is the python.\n",
            "{{ I wrote 20 short programs in Python yesterday.  It was wonderful.  Perl, I&#39;m leaving you. }}</div>\n",
            "</div>\n",
            "<div id=\"bottom\" class=\"box\">\n",
            "<img src=\"//imgs.xkcd.com/s/a899e84.jpg\" width=\"520\" height=\"100\" alt=\"Selected Comics\" usemap=\"#comicmap\"/>\n",
            "<map id=\"comicmap\" name=\"comicmap\">\n",
            "<area shape=\"rect\" coords=\"0,0,100,100\" href=\"/150/\" alt=\"Grownups\"/>\n",
            "<area shape=\"rect\" coords=\"104,0,204,100\" href=\"/730/\" alt=\"Circuit Diagram\"/>\n",
            "<area shape=\"rect\" coords=\"208,0,308,100\" href=\"/162/\" alt=\"Angular Momentum\"/>\n",
            "<area shape=\"rect\" coords=\"312,0,412,100\" href=\"/688/\" alt=\"Self-Description\"/>\n",
            "<area shape=\"rect\" coords=\"416,0,520,100\" href=\"/556/\" alt=\"Alternative Energy Revolution\"/>\n",
            "</map>\n",
            "<br />\n",
            "<a href=\"//xkcd.com/1732/\"><img border=0 src=\"//imgs.xkcd.com/s/temperature.png\" width=\"520\" height=\"100\" alt=\"Earth temperature timeline\"></a>\n",
            "<br />\n",
            "<div>\n",
            "<!--\n",
            "Search comic titles and transcripts:\n",
            "<script type=\"text/javascript\" src=\"//www.google.com/jsapi\"></script>\n",
            "<script type=\"text/javascript\">google.load('search', '1');google.setOnLoadCallback(function() {google.search.CustomSearchControl.attachAutoCompletion('012652707207066138651:zudjtuwe28q',document.getElementById('q'),'cse-search-box');});</script>\n",
            "<form action=\"//www.google.com/cse\" id=\"cse-search-box\">\n",
            "<div>\n",
            "<input type=\"hidden\" name=\"cx\" value=\"012652707207066138651:zudjtuwe28q\"/>\n",
            "<input type=\"hidden\" name=\"ie\" value=\"UTF-8\"/>\n",
            "<input type=\"text\" name=\"q\" id=\"q\" size=\"31\"/>\n",
            "<input type=\"submit\" name=\"sa\" value=\"Search\"/>\n",
            "</div>\n",
            "</form>\n",
            "<script type=\"text/javascript\" src=\"//www.google.com/cse/brand?form=cse-search-box&amp;lang=en\"></script>\n",
            "-->\n",
            "<a href=\"/rss.xml\">RSS Feed</a> - <a href=\"/atom.xml\">Atom Feed</a> - <a href=\"/newsletter/\">Email</a>\n",
            "</div>\n",
            "<br />\n",
            "<div id=\"comicLinks\">\n",
            "Comics I enjoy:<br/>\n",
            "        <a href=\"http://threewordphrase.com/\">Three Word Phrase</a>,\n",
            "        <a href=\"https://www.smbc-comics.com/\">SMBC</a>,\n",
            "        <a href=\"https://www.qwantz.com\">Dinosaur Comics</a>,\n",
            "        <a href=\"https://oglaf.com/\">Oglaf</a> (nsfw),\n",
            "        <a href=\"https://www.asofterworld.com\">A Softer World</a>,\n",
            "        <a href=\"https://buttersafe.com/\">Buttersafe</a>,\n",
            "        <a href=\"https://pbfcomics.com/\">Perry Bible Fellowship</a>,\n",
            "        <a href=\"https://questionablecontent.net/\">Questionable Content</a>,\n",
            "        <a href=\"http://www.buttercupfestival.com/\">Buttercup Festival</a>,\n",
            "        <a href=\"https://www.homestuck.com/\">Homestuck</a>,\n",
            "\t<a href=\"https://www.jspowerhour.com/\">Junior Scientist Power Hour</a>\n",
            "</div>\n",
            "<br />\n",
            "<div id=\"comicLinks\">\n",
            "Other things:<br/>\n",
            "        <a href=\"https://medium.com/civic-tech-thoughts-from-joshdata/so-you-want-to-reform-democracy-7f3b1ef10597\">Tips on technology and government</a>,<br /> \n",
            "        <a href=\"https://www.nytimes.com/interactive/2017/climate/what-is-climate-change.html\">Climate FAQ</a>,\n",
            "\t<a href=\"https://twitter.com/KHayhoe\">Katharine Hayhoe</a>\n",
            "</div>\n",
            "<br />\n",
            "<center>\n",
            "<div id=\"footnote\" style=\"width:70%\">xkcd.com is best viewed with Netscape Navigator 4.0 or below on a Pentium 3&plusmn;1 emulated in Javascript on an Apple IIGS<br />at a screen resolution of 1024x1. Please enable your ad blockers, disable high-heat drying, and remove your device<br />from Airplane Mode and set it to Boat Mode. For security reasons, please leave caps lock on while browsing.</div>\n",
            "</center>\n",
            "<div id=\"licenseText\">\n",
            "<p>\n",
            "This work is licensed under a\n",
            "<a href=\"https://creativecommons.org/licenses/by-nc/2.5/\">Creative Commons Attribution-NonCommercial 2.5 License</a>.\n",
            "</p><p>\n",
            "This means you're free to copy and share these comics (but not to sell them). <a rel=\"license\" href=\"/license.html\">More details</a>.</p>\n",
            "</div>\n",
            "</div>\n",
            "</body>\n",
            "<!-- Layout by Ian Clasbey, davean, and chromakode -->\n",
            "</html>\n",
            "\n",
            "\n"
          ]
        }
      ]
    },
    {
      "cell_type": "code",
      "source": [
        "# with open('comic.png','wb') as f:\n",
        "#   f.write(r.content)\n"
      ],
      "metadata": {
        "id": "qcdOx1JVcP42"
      },
      "execution_count": null,
      "outputs": []
    },
    {
      "cell_type": "code",
      "source": [
        "print(r.status_code)"
      ],
      "metadata": {
        "colab": {
          "base_uri": "https://localhost:8080/"
        },
        "id": "P4buCHS8chRU",
        "outputId": "da0d6a39-e8e3-4948-fb47-863f57abae8c"
      },
      "execution_count": 7,
      "outputs": [
        {
          "output_type": "stream",
          "name": "stdout",
          "text": [
            "200\n"
          ]
        }
      ]
    },
    {
      "cell_type": "code",
      "source": [
        "print(r.ok)"
      ],
      "metadata": {
        "colab": {
          "base_uri": "https://localhost:8080/"
        },
        "id": "M8OLGXKGc1OG",
        "outputId": "afce781d-cb28-4e76-ae2b-ad9452493152"
      },
      "execution_count": 8,
      "outputs": [
        {
          "output_type": "stream",
          "name": "stdout",
          "text": [
            "True\n"
          ]
        }
      ]
    },
    {
      "cell_type": "code",
      "source": [
        "print(r.headers)"
      ],
      "metadata": {
        "colab": {
          "base_uri": "https://localhost:8080/"
        },
        "id": "YF0MNBAvc5vV",
        "outputId": "82eadf6c-1ff3-480b-a626-8fb57a0d344b"
      },
      "execution_count": 9,
      "outputs": [
        {
          "output_type": "stream",
          "name": "stdout",
          "text": [
            "{'Connection': 'keep-alive', 'Content-Length': '3115', 'Server': 'nginx', 'Content-Type': 'text/html; charset=UTF-8', 'Last-Modified': 'Fri, 01 Mar 2024 23:49:03 GMT', 'ETag': 'W/\"65e2696f-1e3f\"', 'Expires': 'Sun, 03 Mar 2024 13:13:37 GMT', 'Cache-Control': 'max-age=300', 'Content-Encoding': 'gzip', 'Accept-Ranges': 'bytes', 'Date': 'Sun, 03 Mar 2024 13:08:38 GMT', 'Via': '1.1 varnish', 'Age': '0', 'X-Served-By': 'cache-bur-kbur8200063-BUR', 'X-Cache': 'MISS', 'X-Cache-Hits': '0', 'X-Timer': 'S1709471318.799588,VS0,VE204', 'Vary': 'Accept-Encoding'}\n"
          ]
        }
      ]
    },
    {
      "cell_type": "code",
      "source": [
        "payload={'page':2,'count':25}\n",
        "r2=requests.get('https://httpbin.org/get',params=payload)\n",
        "print(r2.text)"
      ],
      "metadata": {
        "colab": {
          "base_uri": "https://localhost:8080/"
        },
        "id": "egXi8OmVdJq2",
        "outputId": "1f175b29-e63f-4846-c477-30100e5b1dae"
      },
      "execution_count": 13,
      "outputs": [
        {
          "output_type": "stream",
          "name": "stdout",
          "text": [
            "{\n",
            "  \"args\": {\n",
            "    \"count\": \"25\", \n",
            "    \"page\": \"2\"\n",
            "  }, \n",
            "  \"headers\": {\n",
            "    \"Accept\": \"*/*\", \n",
            "    \"Accept-Encoding\": \"gzip, deflate\", \n",
            "    \"Host\": \"httpbin.org\", \n",
            "    \"User-Agent\": \"python-requests/2.31.0\", \n",
            "    \"X-Amzn-Trace-Id\": \"Root=1-65e478da-20f6b5a309b5669c50cad6ad\"\n",
            "  }, \n",
            "  \"origin\": \"34.125.44.223\", \n",
            "  \"url\": \"https://httpbin.org/get?page=2&count=25\"\n",
            "}\n",
            "\n"
          ]
        }
      ]
    },
    {
      "cell_type": "code",
      "source": [
        "print(r2.url)"
      ],
      "metadata": {
        "colab": {
          "base_uri": "https://localhost:8080/"
        },
        "id": "2Mkto6jjd8-G",
        "outputId": "3902bb41-ec32-4329-8c50-ba5f46c2956e"
      },
      "execution_count": 14,
      "outputs": [
        {
          "output_type": "stream",
          "name": "stdout",
          "text": [
            "https://httpbin.org/get?page=2&count=25\n"
          ]
        }
      ]
    },
    {
      "cell_type": "code",
      "source": [
        "payload2={'username':'corey','password':'testing'}\n",
        "r3=requests.post('https://httpbin.org/post',data=payload)\n",
        "print(r.url)\n",
        "print(r.text)"
      ],
      "metadata": {
        "colab": {
          "base_uri": "https://localhost:8080/"
        },
        "id": "tvwNSWt5eMn_",
        "outputId": "f453ef6e-55e2-4429-cdd3-f088f0205eca"
      },
      "execution_count": 21,
      "outputs": [
        {
          "output_type": "stream",
          "name": "stdout",
          "text": [
            "https://httpbin.org/post?page=2&count=25\n",
            "{\n",
            "  \"args\": {\n",
            "    \"count\": \"25\", \n",
            "    \"page\": \"2\"\n",
            "  }, \n",
            "  \"data\": \"\", \n",
            "  \"files\": {}, \n",
            "  \"form\": {}, \n",
            "  \"headers\": {\n",
            "    \"Accept\": \"*/*\", \n",
            "    \"Accept-Encoding\": \"gzip, deflate\", \n",
            "    \"Content-Length\": \"0\", \n",
            "    \"Host\": \"httpbin.org\", \n",
            "    \"User-Agent\": \"python-requests/2.31.0\", \n",
            "    \"X-Amzn-Trace-Id\": \"Root=1-65e47950-31ce2530551305563572a16a\"\n",
            "  }, \n",
            "  \"json\": null, \n",
            "  \"origin\": \"34.125.44.223\", \n",
            "  \"url\": \"https://httpbin.org/post?page=2&count=25\"\n",
            "}\n",
            "\n"
          ]
        }
      ]
    },
    {
      "cell_type": "code",
      "source": [
        "#json() releases dict data\n",
        "r_dict=(r3.json())\n",
        "#print(r_dict)\n",
        "print(r_dict['form'])"
      ],
      "metadata": {
        "colab": {
          "base_uri": "https://localhost:8080/"
        },
        "id": "qHszLOmkfpcj",
        "outputId": "0d336aa4-22bc-4efc-881b-56bbab483ae8"
      },
      "execution_count": 26,
      "outputs": [
        {
          "output_type": "stream",
          "name": "stdout",
          "text": [
            "{'count': '25', 'page': '2'}\n"
          ]
        }
      ]
    },
    {
      "cell_type": "code",
      "source": [
        "r4=requests.get('https://httpbin.org/basic-auth/ninja/111',auth=('ninja','111'))\n",
        "#print(r.text)\n",
        "print(r4)"
      ],
      "metadata": {
        "colab": {
          "base_uri": "https://localhost:8080/"
        },
        "id": "dADy8ocLgEQL",
        "outputId": "d383cc61-a7bd-4de1-ad3a-04747614b2de"
      },
      "execution_count": 33,
      "outputs": [
        {
          "output_type": "stream",
          "name": "stdout",
          "text": [
            "<Response [200]>\n"
          ]
        }
      ]
    },
    {
      "cell_type": "code",
      "source": [],
      "metadata": {
        "id": "sfIXrEeTh6x7"
      },
      "execution_count": null,
      "outputs": []
    }
  ]
}